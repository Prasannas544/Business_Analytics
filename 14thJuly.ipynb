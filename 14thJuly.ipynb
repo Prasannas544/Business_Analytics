{
  "nbformat": 4,
  "nbformat_minor": 0,
  "metadata": {
    "colab": {
      "name": "14thJuly.ipynb",
      "provenance": [],
      "authorship_tag": "ABX9TyOcOzlBR1uZ2VkofzhRxIcZ",
      "include_colab_link": true
    },
    "kernelspec": {
      "name": "ir",
      "display_name": "R"
    },
    "language_info": {
      "name": "R"
    }
  },
  "cells": [
    {
      "cell_type": "markdown",
      "metadata": {
        "id": "view-in-github",
        "colab_type": "text"
      },
      "source": [
        "<a href=\"https://colab.research.google.com/github/Prasannas544/Business_Analytics/blob/main/14thJuly.ipynb\" target=\"_parent\"><img src=\"https://colab.research.google.com/assets/colab-badge.svg\" alt=\"Open In Colab\"/></a>"
      ]
    },
    {
      "cell_type": "code",
      "execution_count": 8,
      "metadata": {
        "id": "4qKdxwWoLOMO"
      },
      "outputs": [],
      "source": [
        "#Load the walmart_data and walmart_features files\n",
        "\n",
        "walmart_data <- read.csv('/content/sample_data/walmart_data.csv')\n"
      ]
    },
    {
      "cell_type": "code",
      "source": [
        "walmart_features <- read.csv('/content/sample_data/walmart_features.csv')"
      ],
      "metadata": {
        "id": "3cDtH6q7LR7d"
      },
      "execution_count": 9,
      "outputs": []
    },
    {
      "cell_type": "code",
      "source": [
        "head(walmart_data)"
      ],
      "metadata": {
        "colab": {
          "base_uri": "https://localhost:8080/",
          "height": 286
        },
        "id": "L584lEY4aWvb",
        "outputId": "67818dc3-ef2c-41e9-cfc0-0a0e2034794b"
      },
      "execution_count": 19,
      "outputs": [
        {
          "output_type": "display_data",
          "data": {
            "text/html": [
              "<table class=\"dataframe\">\n",
              "<caption>A data.frame: 6 × 5</caption>\n",
              "<thead>\n",
              "\t<tr><th></th><th scope=col>Store</th><th scope=col>Dept</th><th scope=col>Date</th><th scope=col>Weekly_Sales</th><th scope=col>IsHoliday</th></tr>\n",
              "\t<tr><th></th><th scope=col>&lt;int&gt;</th><th scope=col>&lt;int&gt;</th><th scope=col>&lt;chr&gt;</th><th scope=col>&lt;dbl&gt;</th><th scope=col>&lt;lgl&gt;</th></tr>\n",
              "</thead>\n",
              "<tbody>\n",
              "\t<tr><th scope=row>1</th><td>1</td><td>1</td><td>2010-02-05</td><td>24924.50</td><td>FALSE</td></tr>\n",
              "\t<tr><th scope=row>2</th><td>1</td><td>1</td><td>2010-02-12</td><td>46039.49</td><td> TRUE</td></tr>\n",
              "\t<tr><th scope=row>3</th><td>1</td><td>1</td><td>2010-02-19</td><td>41595.55</td><td>FALSE</td></tr>\n",
              "\t<tr><th scope=row>4</th><td>1</td><td>1</td><td>2010-02-26</td><td>19403.54</td><td>FALSE</td></tr>\n",
              "\t<tr><th scope=row>5</th><td>1</td><td>1</td><td>2010-03-05</td><td>21827.90</td><td>FALSE</td></tr>\n",
              "\t<tr><th scope=row>6</th><td>1</td><td>1</td><td>2010-03-12</td><td>21043.39</td><td>FALSE</td></tr>\n",
              "</tbody>\n",
              "</table>\n"
            ],
            "text/markdown": "\nA data.frame: 6 × 5\n\n| <!--/--> | Store &lt;int&gt; | Dept &lt;int&gt; | Date &lt;chr&gt; | Weekly_Sales &lt;dbl&gt; | IsHoliday &lt;lgl&gt; |\n|---|---|---|---|---|---|\n| 1 | 1 | 1 | 2010-02-05 | 24924.50 | FALSE |\n| 2 | 1 | 1 | 2010-02-12 | 46039.49 |  TRUE |\n| 3 | 1 | 1 | 2010-02-19 | 41595.55 | FALSE |\n| 4 | 1 | 1 | 2010-02-26 | 19403.54 | FALSE |\n| 5 | 1 | 1 | 2010-03-05 | 21827.90 | FALSE |\n| 6 | 1 | 1 | 2010-03-12 | 21043.39 | FALSE |\n\n",
            "text/latex": "A data.frame: 6 × 5\n\\begin{tabular}{r|lllll}\n  & Store & Dept & Date & Weekly\\_Sales & IsHoliday\\\\\n  & <int> & <int> & <chr> & <dbl> & <lgl>\\\\\n\\hline\n\t1 & 1 & 1 & 2010-02-05 & 24924.50 & FALSE\\\\\n\t2 & 1 & 1 & 2010-02-12 & 46039.49 &  TRUE\\\\\n\t3 & 1 & 1 & 2010-02-19 & 41595.55 & FALSE\\\\\n\t4 & 1 & 1 & 2010-02-26 & 19403.54 & FALSE\\\\\n\t5 & 1 & 1 & 2010-03-05 & 21827.90 & FALSE\\\\\n\t6 & 1 & 1 & 2010-03-12 & 21043.39 & FALSE\\\\\n\\end{tabular}\n",
            "text/plain": [
              "  Store Dept Date       Weekly_Sales IsHoliday\n",
              "1 1     1    2010-02-05 24924.50     FALSE    \n",
              "2 1     1    2010-02-12 46039.49      TRUE    \n",
              "3 1     1    2010-02-19 41595.55     FALSE    \n",
              "4 1     1    2010-02-26 19403.54     FALSE    \n",
              "5 1     1    2010-03-05 21827.90     FALSE    \n",
              "6 1     1    2010-03-12 21043.39     FALSE    "
            ]
          },
          "metadata": {}
        }
      ]
    },
    {
      "cell_type": "code",
      "source": [
        "# Sum the sales per store on walmart_data and store the data in a sum_by_store object\n",
        "sum_by_store <-  aggregate(\n",
        "x=walmart_data$Weekly_Sales,  #data (column)\n",
        "by=list(walmart_data$Store),  #grouping elements\n",
        "FUN= sum                      #Aggregate function\n",
        ")"
      ],
      "metadata": {
        "id": "Cgj16jgBLaXr"
      },
      "execution_count": 21,
      "outputs": []
    },
    {
      "cell_type": "code",
      "source": [
        "sum_by_store"
      ],
      "metadata": {
        "id": "7aUnMwfqYJdv"
      },
      "execution_count": null,
      "outputs": []
    },
    {
      "cell_type": "code",
      "source": [
        "#To see the most selling store\n",
        "sum_by_store[order(-sum_by_store$x),]"
      ],
      "metadata": {
        "id": "kWHv4_SlZc8D"
      },
      "execution_count": null,
      "outputs": []
    },
    {
      "cell_type": "code",
      "source": [
        "colnames(sum_by_store)=c('store_number','total_sales')"
      ],
      "metadata": {
        "id": "MDfw9mdWaFo7"
      },
      "execution_count": 23,
      "outputs": []
    },
    {
      "cell_type": "code",
      "source": [
        "sum_by_store"
      ],
      "metadata": {
        "id": "hVyrFVw6aP80"
      },
      "execution_count": null,
      "outputs": []
    },
    {
      "cell_type": "code",
      "source": [
        "#Plot bar plot using base R by sorting total sales\n",
        "#from store with most sales to least sales\n",
        "#Give a title to the plot \"Sales By Store\"\n",
        "#and colour the bars darkgreen\n",
        "#ignore x labels for now\n",
        "barplot(sum_by_store[order(-sum_by_store$total_sales),'total_sales'])   #pass the column to make a barplot"
      ],
      "metadata": {
        "colab": {
          "base_uri": "https://localhost:8080/",
          "height": 437
        },
        "id": "F-nkrosWbuW2",
        "outputId": "93f506db-8fb0-4365-f3ee-24aea72eab4f"
      },
      "execution_count": 25,
      "outputs": [
        {
          "output_type": "display_data",
          "data": {
            "text/plain": [
              "plot without title"
            ],
            "image/png": "[encoded data removed]"
          },
          "metadata": {
            "image/png": {
              "width": 420,
              "height": 420
            }
          }
        }
      ]
    },
    {
      "cell_type": "code",
      "source": [
        "barplot(sum_by_store[order(-sum_by_store$total_sales),'total_sales']  , # pass the column to make a barplot\n",
        " main=\"Sales By Store\",col=\"darkgreen\")              "
      ],
      "metadata": {
        "colab": {
          "base_uri": "https://localhost:8080/",
          "height": 437
        },
        "id": "DnZ3K4Nxckru",
        "outputId": "5b3b3c14-11b5-45f0-c2bd-cd1dcb9c0b6d"
      },
      "execution_count": 29,
      "outputs": [
        {
          "output_type": "display_data",
          "data": {
            "text/plain": [
              "Plot with title “Sales By Store”"
            ],
            "image/png": "[encoded data removed]"
          },
          "metadata": {
            "image/png": {
              "width": 420,
              "height": 420
            }
          }
        }
      ]
    },
    {
      "cell_type": "code",
      "source": [
        "#Compute the mean of every column in walmart_feature\n",
        "print(sapply(X=walmart_features,FUN=mean,na.rm=T))  "
      ],
      "metadata": {
        "colab": {
          "base_uri": "https://localhost:8080/"
        },
        "id": "iN109QsedBaB",
        "outputId": "179d1649-0ca6-49ea-bdc0-04759483fffc"
      },
      "execution_count": 33,
      "outputs": [
        {
          "output_type": "stream",
          "name": "stderr",
          "text": [
            "Warning message in mean.default(X[[i]], ...):\n",
            "“argument is not numeric or logical: returning NA”\n"
          ]
        },
        {
          "output_type": "stream",
          "name": "stdout",
          "text": [
            "       Store         Date  Temperature   Fuel_Price    MarkDown1    MarkDown2 \n",
            "2.300000e+01           NA 5.935620e+01 3.405992e+00 7.032372e+03 3.384177e+03 \n",
            "   MarkDown3    MarkDown4    MarkDown5          CPI Unemployment    IsHoliday \n",
            "1.760100e+03 3.292936e+03 4.132216e+03 1.724608e+02 7.826821e+00 7.142857e-02 \n"
          ]
        }
      ]
    },
    {
      "cell_type": "code",
      "source": [
        "#Creating a new column in walmart_features called\n",
        "#standardized_cpi subtractin the mean and dividing by the \n",
        "#standard deviation\n",
        "walmart_features['standardized_cpi']=(          #Adding new column\n",
        "(walmart_features$CPI-mean(walmart_features$CPI,na.rm=TRUE))\n",
        "/sd(walmart_features$CPI,na.rm = TRUE)\n",
        ")"
      ],
      "metadata": {
        "id": "yp3Klxi8d5se"
      },
      "execution_count": 34,
      "outputs": []
    },
    {
      "cell_type": "code",
      "source": [
        "walmart_features"
      ],
      "metadata": {
        "id": "1tr_u1wMf3Zs",
        "outputId": "b06a83c4-fe83-4ab6-f89d-b336176fd80b",
        "colab": {
          "base_uri": "https://localhost:8080/",
          "height": 1000
        }
      },
      "execution_count": 35,
      "outputs": [
        {
          "output_type": "display_data",
          "data": {
            "text/html": [
              "<table class=\"dataframe\">\n",
              "<caption>A data.frame: 8190 × 13</caption>\n",
              "<thead>\n",
              "\t<tr><th scope=col>Store</th><th scope=col>Date</th><th scope=col>Temperature</th><th scope=col>Fuel_Price</th><th scope=col>MarkDown1</th><th scope=col>MarkDown2</th><th scope=col>MarkDown3</th><th scope=col>MarkDown4</th><th scope=col>MarkDown5</th><th scope=col>CPI</th><th scope=col>Unemployment</th><th scope=col>IsHoliday</th><th scope=col>standardized_cpi</th></tr>\n",
              "\t<tr><th scope=col>&lt;int&gt;</th><th scope=col>&lt;chr&gt;</th><th scope=col>&lt;dbl&gt;</th><th scope=col>&lt;dbl&gt;</th><th scope=col>&lt;dbl&gt;</th><th scope=col>&lt;dbl&gt;</th><th scope=col>&lt;dbl&gt;</th><th scope=col>&lt;dbl&gt;</th><th scope=col>&lt;dbl&gt;</th><th scope=col>&lt;dbl&gt;</th><th scope=col>&lt;dbl&gt;</th><th scope=col>&lt;lgl&gt;</th><th scope=col>&lt;dbl&gt;</th></tr>\n",
              "</thead>\n",
              "<tbody>\n",
              "\t<tr><td>1</td><td>2010-02-05</td><td>42.31</td><td>2.572</td><td>NA</td><td>NA</td><td>NA</td><td>NA</td><td>NA</td><td>211.0964</td><td>8.106</td><td>FALSE</td><td>0.9722485</td></tr>\n",
              "\t<tr><td>1</td><td>2010-02-12</td><td>38.51</td><td>2.548</td><td>NA</td><td>NA</td><td>NA</td><td>NA</td><td>NA</td><td>211.2422</td><td>8.106</td><td> TRUE</td><td>0.9759178</td></tr>\n",
              "\t<tr><td>1</td><td>2010-02-19</td><td>39.93</td><td>2.514</td><td>NA</td><td>NA</td><td>NA</td><td>NA</td><td>NA</td><td>211.2891</td><td>8.106</td><td>FALSE</td><td>0.9770999</td></tr>\n",
              "\t<tr><td>1</td><td>2010-02-26</td><td>46.63</td><td>2.561</td><td>NA</td><td>NA</td><td>NA</td><td>NA</td><td>NA</td><td>211.3196</td><td>8.106</td><td>FALSE</td><td>0.9778674</td></tr>\n",
              "\t<tr><td>1</td><td>2010-03-05</td><td>46.50</td><td>2.625</td><td>NA</td><td>NA</td><td>NA</td><td>NA</td><td>NA</td><td>211.3501</td><td>8.106</td><td>FALSE</td><td>0.9786349</td></tr>\n",
              "\t<tr><td>1</td><td>2010-03-12</td><td>57.79</td><td>2.667</td><td>NA</td><td>NA</td><td>NA</td><td>NA</td><td>NA</td><td>211.3806</td><td>8.106</td><td>FALSE</td><td>0.9794025</td></tr>\n",
              "\t<tr><td>1</td><td>2010-03-19</td><td>54.58</td><td>2.720</td><td>NA</td><td>NA</td><td>NA</td><td>NA</td><td>NA</td><td>211.2156</td><td>8.106</td><td>FALSE</td><td>0.9752501</td></tr>\n",
              "\t<tr><td>1</td><td>2010-03-26</td><td>51.45</td><td>2.732</td><td>NA</td><td>NA</td><td>NA</td><td>NA</td><td>NA</td><td>211.0180</td><td>8.106</td><td>FALSE</td><td>0.9702778</td></tr>\n",
              "\t<tr><td>1</td><td>2010-04-02</td><td>62.27</td><td>2.719</td><td>NA</td><td>NA</td><td>NA</td><td>NA</td><td>NA</td><td>210.8204</td><td>7.808</td><td>FALSE</td><td>0.9653054</td></tr>\n",
              "\t<tr><td>1</td><td>2010-04-09</td><td>65.86</td><td>2.770</td><td>NA</td><td>NA</td><td>NA</td><td>NA</td><td>NA</td><td>210.6229</td><td>7.808</td><td>FALSE</td><td>0.9603331</td></tr>\n",
              "\t<tr><td>1</td><td>2010-04-16</td><td>66.32</td><td>2.808</td><td>NA</td><td>NA</td><td>NA</td><td>NA</td><td>NA</td><td>210.4887</td><td>7.808</td><td>FALSE</td><td>0.9569571</td></tr>\n",
              "\t<tr><td>1</td><td>2010-04-23</td><td>64.84</td><td>2.795</td><td>NA</td><td>NA</td><td>NA</td><td>NA</td><td>NA</td><td>210.4391</td><td>7.808</td><td>FALSE</td><td>0.9557095</td></tr>\n",
              "\t<tr><td>1</td><td>2010-04-30</td><td>67.41</td><td>2.780</td><td>NA</td><td>NA</td><td>NA</td><td>NA</td><td>NA</td><td>210.3895</td><td>7.808</td><td>FALSE</td><td>0.9544619</td></tr>\n",
              "\t<tr><td>1</td><td>2010-05-07</td><td>72.55</td><td>2.835</td><td>NA</td><td>NA</td><td>NA</td><td>NA</td><td>NA</td><td>210.3400</td><td>7.808</td><td>FALSE</td><td>0.9532143</td></tr>\n",
              "\t<tr><td>1</td><td>2010-05-14</td><td>74.78</td><td>2.854</td><td>NA</td><td>NA</td><td>NA</td><td>NA</td><td>NA</td><td>210.3374</td><td>7.808</td><td>FALSE</td><td>0.9531503</td></tr>\n",
              "\t<tr><td>1</td><td>2010-05-21</td><td>76.44</td><td>2.826</td><td>NA</td><td>NA</td><td>NA</td><td>NA</td><td>NA</td><td>210.6171</td><td>7.808</td><td>FALSE</td><td>0.9601880</td></tr>\n",
              "\t<tr><td>1</td><td>2010-05-28</td><td>80.44</td><td>2.759</td><td>NA</td><td>NA</td><td>NA</td><td>NA</td><td>NA</td><td>210.8968</td><td>7.808</td><td>FALSE</td><td>0.9672257</td></tr>\n",
              "\t<tr><td>1</td><td>2010-06-04</td><td>80.69</td><td>2.705</td><td>NA</td><td>NA</td><td>NA</td><td>NA</td><td>NA</td><td>211.1764</td><td>7.808</td><td>FALSE</td><td>0.9742635</td></tr>\n",
              "\t<tr><td>1</td><td>2010-06-11</td><td>80.43</td><td>2.668</td><td>NA</td><td>NA</td><td>NA</td><td>NA</td><td>NA</td><td>211.4561</td><td>7.808</td><td>FALSE</td><td>0.9813012</td></tr>\n",
              "\t<tr><td>1</td><td>2010-06-18</td><td>84.11</td><td>2.637</td><td>NA</td><td>NA</td><td>NA</td><td>NA</td><td>NA</td><td>211.4538</td><td>7.808</td><td>FALSE</td><td>0.9812427</td></tr>\n",
              "\t<tr><td>1</td><td>2010-06-25</td><td>84.34</td><td>2.653</td><td>NA</td><td>NA</td><td>NA</td><td>NA</td><td>NA</td><td>211.3387</td><td>7.808</td><td>FALSE</td><td>0.9783458</td></tr>\n",
              "\t<tr><td>1</td><td>2010-07-02</td><td>80.91</td><td>2.669</td><td>NA</td><td>NA</td><td>NA</td><td>NA</td><td>NA</td><td>211.2235</td><td>7.787</td><td>FALSE</td><td>0.9754489</td></tr>\n",
              "\t<tr><td>1</td><td>2010-07-09</td><td>80.48</td><td>2.642</td><td>NA</td><td>NA</td><td>NA</td><td>NA</td><td>NA</td><td>211.1084</td><td>7.787</td><td>FALSE</td><td>0.9725519</td></tr>\n",
              "\t<tr><td>1</td><td>2010-07-16</td><td>83.15</td><td>2.623</td><td>NA</td><td>NA</td><td>NA</td><td>NA</td><td>NA</td><td>211.1004</td><td>7.787</td><td>FALSE</td><td>0.9723499</td></tr>\n",
              "\t<tr><td>1</td><td>2010-07-23</td><td>83.36</td><td>2.608</td><td>NA</td><td>NA</td><td>NA</td><td>NA</td><td>NA</td><td>211.2351</td><td>7.787</td><td>FALSE</td><td>0.9757410</td></tr>\n",
              "\t<tr><td>1</td><td>2010-07-30</td><td>81.84</td><td>2.640</td><td>NA</td><td>NA</td><td>NA</td><td>NA</td><td>NA</td><td>211.3699</td><td>7.787</td><td>FALSE</td><td>0.9791322</td></tr>\n",
              "\t<tr><td>1</td><td>2010-08-06</td><td>87.16</td><td>2.627</td><td>NA</td><td>NA</td><td>NA</td><td>NA</td><td>NA</td><td>211.5047</td><td>7.787</td><td>FALSE</td><td>0.9825233</td></tr>\n",
              "\t<tr><td>1</td><td>2010-08-13</td><td>87.00</td><td>2.692</td><td>NA</td><td>NA</td><td>NA</td><td>NA</td><td>NA</td><td>211.6394</td><td>7.787</td><td>FALSE</td><td>0.9859145</td></tr>\n",
              "\t<tr><td>1</td><td>2010-08-20</td><td>86.65</td><td>2.664</td><td>NA</td><td>NA</td><td>NA</td><td>NA</td><td>NA</td><td>211.6034</td><td>7.787</td><td>FALSE</td><td>0.9850071</td></tr>\n",
              "\t<tr><td>1</td><td>2010-08-27</td><td>85.22</td><td>2.619</td><td>NA</td><td>NA</td><td>NA</td><td>NA</td><td>NA</td><td>211.5673</td><td>7.787</td><td>FALSE</td><td>0.9840997</td></tr>\n",
              "\t<tr><td>⋮</td><td>⋮</td><td>⋮</td><td>⋮</td><td>⋮</td><td>⋮</td><td>⋮</td><td>⋮</td><td>⋮</td><td>⋮</td><td>⋮</td><td>⋮</td><td>⋮</td></tr>\n",
              "\t<tr><td>45</td><td>2013-01-04</td><td>32.87</td><td>3.592</td><td> 1341.33</td><td>30325.14</td><td>  8.93</td><td>   35.85</td><td>3682.17</td><td>192.6596</td><td>8.625</td><td>FALSE</td><td>0.5082953</td></tr>\n",
              "\t<tr><td>45</td><td>2013-01-11</td><td>38.78</td><td>3.611</td><td> 3877.36</td><td>15559.85</td><td>  3.81</td><td>  152.18</td><td>2403.14</td><td>192.7600</td><td>8.625</td><td>FALSE</td><td>0.5108207</td></tr>\n",
              "\t<tr><td>45</td><td>2013-01-18</td><td>41.45</td><td>3.605</td><td>14746.10</td><td> 4071.06</td><td>  4.02</td><td>  483.58</td><td>1467.78</td><td>192.8095</td><td>8.625</td><td>FALSE</td><td>0.5120670</td></tr>\n",
              "\t<tr><td>45</td><td>2013-01-25</td><td>26.49</td><td>3.583</td><td> 3130.28</td><td> 1362.10</td><td>  0.20</td><td>  332.68</td><td>1361.74</td><td>192.8387</td><td>8.625</td><td>FALSE</td><td>0.5128017</td></tr>\n",
              "\t<tr><td>45</td><td>2013-02-01</td><td>34.92</td><td>3.615</td><td>14508.96</td><td> 1092.53</td><td>827.90</td><td>26424.02</td><td> 700.93</td><td>192.8679</td><td>8.625</td><td>FALSE</td><td>0.5135364</td></tr>\n",
              "\t<tr><td>45</td><td>2013-02-08</td><td>28.99</td><td>3.753</td><td>53311.88</td><td>  531.33</td><td> 78.26</td><td>24823.94</td><td>3233.44</td><td>192.8971</td><td>8.625</td><td> TRUE</td><td>0.5142710</td></tr>\n",
              "\t<tr><td>45</td><td>2013-02-15</td><td>35.87</td><td>3.814</td><td> 9362.02</td><td> 2017.68</td><td>  0.36</td><td> 5012.39</td><td>6411.71</td><td>192.9435</td><td>8.625</td><td>FALSE</td><td>0.5154382</td></tr>\n",
              "\t<tr><td>45</td><td>2013-02-22</td><td>31.48</td><td>3.859</td><td>10781.51</td><td> 2735.67</td><td> 23.38</td><td> 1516.76</td><td>3061.21</td><td>193.0328</td><td>8.625</td><td>FALSE</td><td>0.5176867</td></tr>\n",
              "\t<tr><td>45</td><td>2013-03-01</td><td>39.72</td><td>3.890</td><td> 6614.32</td><td>  147.82</td><td>  5.60</td><td>   27.55</td><td>1668.95</td><td>193.1222</td><td>8.625</td><td>FALSE</td><td>0.5199352</td></tr>\n",
              "\t<tr><td>45</td><td>2013-03-08</td><td>36.13</td><td>3.860</td><td>16382.54</td><td>   88.67</td><td> 34.62</td><td> 3096.92</td><td>3486.91</td><td>193.2115</td><td>8.625</td><td>FALSE</td><td>0.5221837</td></tr>\n",
              "\t<tr><td>45</td><td>2013-03-15</td><td>42.81</td><td>3.834</td><td> 9867.03</td><td>      NA</td><td> 11.08</td><td>  912.87</td><td>1360.36</td><td>193.2963</td><td>8.625</td><td>FALSE</td><td>0.5243164</td></tr>\n",
              "\t<tr><td>45</td><td>2013-03-22</td><td>36.55</td><td>3.800</td><td>11923.74</td><td>      NA</td><td>308.00</td><td> 1764.47</td><td>1647.31</td><td>193.3695</td><td>8.625</td><td>FALSE</td><td>0.5261599</td></tr>\n",
              "\t<tr><td>45</td><td>2013-03-29</td><td>40.68</td><td>3.784</td><td> 5444.00</td><td>      NA</td><td>350.84</td><td>   53.90</td><td>1722.11</td><td>193.4428</td><td>8.625</td><td>FALSE</td><td>0.5280034</td></tr>\n",
              "\t<tr><td>45</td><td>2013-04-05</td><td>43.94</td><td>3.763</td><td>16427.83</td><td> 5341.41</td><td>182.59</td><td> 1523.83</td><td>1743.09</td><td>193.5160</td><td>8.335</td><td>FALSE</td><td>0.5298469</td></tr>\n",
              "\t<tr><td>45</td><td>2013-04-12</td><td>57.39</td><td>3.724</td><td> 8760.15</td><td> 1713.11</td><td> 21.08</td><td> 1302.31</td><td>1380.74</td><td>193.5893</td><td>8.335</td><td>FALSE</td><td>0.5316903</td></tr>\n",
              "\t<tr><td>45</td><td>2013-04-19</td><td>56.27</td><td>3.676</td><td> 1399.81</td><td>   39.89</td><td> 44.38</td><td>   60.83</td><td>1445.05</td><td>193.5893</td><td>8.335</td><td>FALSE</td><td>0.5316903</td></tr>\n",
              "\t<tr><td>45</td><td>2013-04-26</td><td>50.64</td><td>3.615</td><td> 1260.65</td><td>      NA</td><td> 57.52</td><td>   40.51</td><td>2476.18</td><td>193.5893</td><td>8.335</td><td>FALSE</td><td>0.5316903</td></tr>\n",
              "\t<tr><td>45</td><td>2013-05-03</td><td>56.07</td><td>3.592</td><td> 8345.40</td><td>    6.00</td><td> 92.96</td><td> 3580.32</td><td>2242.24</td><td>      NA</td><td>   NA</td><td>FALSE</td><td>       NA</td></tr>\n",
              "\t<tr><td>45</td><td>2013-05-10</td><td>58.86</td><td>3.583</td><td> 4689.18</td><td>  440.82</td><td> 53.09</td><td>  375.22</td><td>5738.20</td><td>      NA</td><td>   NA</td><td>FALSE</td><td>       NA</td></tr>\n",
              "\t<tr><td>45</td><td>2013-05-17</td><td>60.59</td><td>3.614</td><td> 4515.35</td><td>  667.88</td><td>  6.12</td><td>  522.70</td><td>2541.62</td><td>      NA</td><td>   NA</td><td>FALSE</td><td>       NA</td></tr>\n",
              "\t<tr><td>45</td><td>2013-05-24</td><td>67.11</td><td>3.627</td><td> 3249.34</td><td>  481.82</td><td> 58.48</td><td> 1183.23</td><td>1309.30</td><td>      NA</td><td>   NA</td><td>FALSE</td><td>       NA</td></tr>\n",
              "\t<tr><td>45</td><td>2013-05-31</td><td>65.88</td><td>3.646</td><td> 6474.49</td><td>  411.38</td><td> 77.06</td><td>    9.38</td><td>4227.27</td><td>      NA</td><td>   NA</td><td>FALSE</td><td>       NA</td></tr>\n",
              "\t<tr><td>45</td><td>2013-06-07</td><td>70.71</td><td>3.633</td><td> 9977.82</td><td>  744.29</td><td> 80.00</td><td> 4825.71</td><td>3597.34</td><td>      NA</td><td>   NA</td><td>FALSE</td><td>       NA</td></tr>\n",
              "\t<tr><td>45</td><td>2013-06-14</td><td>70.01</td><td>3.632</td><td> 2471.44</td><td>  517.87</td><td>348.54</td><td> 2612.33</td><td>3459.39</td><td>      NA</td><td>   NA</td><td>FALSE</td><td>       NA</td></tr>\n",
              "\t<tr><td>45</td><td>2013-06-21</td><td>70.13</td><td>3.626</td><td> 4989.34</td><td>  385.31</td><td>178.56</td><td> 2463.42</td><td>3117.94</td><td>      NA</td><td>   NA</td><td>FALSE</td><td>       NA</td></tr>\n",
              "\t<tr><td>45</td><td>2013-06-28</td><td>76.05</td><td>3.639</td><td> 4842.29</td><td>  975.03</td><td>  3.00</td><td> 2449.97</td><td>3169.69</td><td>      NA</td><td>   NA</td><td>FALSE</td><td>       NA</td></tr>\n",
              "\t<tr><td>45</td><td>2013-07-05</td><td>77.50</td><td>3.614</td><td> 9090.48</td><td> 2268.58</td><td>582.74</td><td> 5797.47</td><td>1514.93</td><td>      NA</td><td>   NA</td><td>FALSE</td><td>       NA</td></tr>\n",
              "\t<tr><td>45</td><td>2013-07-12</td><td>79.37</td><td>3.614</td><td> 3789.94</td><td> 1827.31</td><td> 85.72</td><td>  744.84</td><td>2150.36</td><td>      NA</td><td>   NA</td><td>FALSE</td><td>       NA</td></tr>\n",
              "\t<tr><td>45</td><td>2013-07-19</td><td>82.84</td><td>3.737</td><td> 2961.49</td><td> 1047.07</td><td>204.19</td><td>  363.00</td><td>1059.46</td><td>      NA</td><td>   NA</td><td>FALSE</td><td>       NA</td></tr>\n",
              "\t<tr><td>45</td><td>2013-07-26</td><td>76.06</td><td>3.804</td><td>  212.02</td><td>  851.73</td><td>  2.06</td><td>   10.88</td><td>1864.57</td><td>      NA</td><td>   NA</td><td>FALSE</td><td>       NA</td></tr>\n",
              "</tbody>\n",
              "</table>\n"
            ],
            "text/markdown": "\nA data.frame: 8190 × 13\n\n| Store &lt;int&gt; | Date &lt;chr&gt; | Temperature &lt;dbl&gt; | Fuel_Price &lt;dbl&gt; | MarkDown1 &lt;dbl&gt; | MarkDown2 &lt;dbl&gt; | MarkDown3 &lt;dbl&gt; | MarkDown4 &lt;dbl&gt; | MarkDown5 &lt;dbl&gt; | CPI &lt;dbl&gt; | Unemployment &lt;dbl&gt; | IsHoliday &lt;lgl&gt; | standardized_cpi &lt;dbl&gt; |\n|---|---|---|---|---|---|---|---|---|---|---|---|---|\n| 1 | 2010-02-05 | 42.31 | 2.572 | NA | NA | NA | NA | NA | 211.0964 | 8.106 | FALSE | 0.9722485 |\n| 1 | 2010-02-12 | 38.51 | 2.548 | NA | NA | NA | NA | NA | 211.2422 | 8.106 |  TRUE | 0.9759178 |\n| 1 | 2010-02-19 | 39.93 | 2.514 | NA | NA | NA | NA | NA | 211.2891 | 8.106 | FALSE | 0.9770999 |\n| 1 | 2010-02-26 | 46.63 | 2.561 | NA | NA | NA | NA | NA | 211.3196 | 8.106 | FALSE | 0.9778674 |\n| 1 | 2010-03-05 | 46.50 | 2.625 | NA | NA | NA | NA | NA | 211.3501 | 8.106 | FALSE | 0.9786349 |\n| 1 | 2010-03-12 | 57.79 | 2.667 | NA | NA | NA | NA | NA | 211.3806 | 8.106 | FALSE | 0.9794025 |\n| 1 | 2010-03-19 | 54.58 | 2.720 | NA | NA | NA | NA | NA | 211.2156 | 8.106 | FALSE | 0.9752501 |\n| 1 | 2010-03-26 | 51.45 | 2.732 | NA | NA | NA | NA | NA | 211.0180 | 8.106 | FALSE | 0.9702778 |\n| 1 | 2010-04-02 | 62.27 | 2.719 | NA | NA | NA | NA | NA | 210.8204 | 7.808 | FALSE | 0.9653054 |\n| 1 | 2010-04-09 | 65.86 | 2.770 | NA | NA | NA | NA | NA | 210.6229 | 7.808 | FALSE | 0.9603331 |\n| 1 | 2010-04-16 | 66.32 | 2.808 | NA | NA | NA | NA | NA | 210.4887 | 7.808 | FALSE | 0.9569571 |\n| 1 | 2010-04-23 | 64.84 | 2.795 | NA | NA | NA | NA | NA | 210.4391 | 7.808 | FALSE | 0.9557095 |\n| 1 | 2010-04-30 | 67.41 | 2.780 | NA | NA | NA | NA | NA | 210.3895 | 7.808 | FALSE | 0.9544619 |\n| 1 | 2010-05-07 | 72.55 | 2.835 | NA | NA | NA | NA | NA | 210.3400 | 7.808 | FALSE | 0.9532143 |\n| 1 | 2010-05-14 | 74.78 | 2.854 | NA | NA | NA | NA | NA | 210.3374 | 7.808 | FALSE | 0.9531503 |\n| 1 | 2010-05-21 | 76.44 | 2.826 | NA | NA | NA | NA | NA | 210.6171 | 7.808 | FALSE | 0.9601880 |\n| 1 | 2010-05-28 | 80.44 | 2.759 | NA | NA | NA | NA | NA | 210.8968 | 7.808 | FALSE | 0.9672257 |\n| 1 | 2010-06-04 | 80.69 | 2.705 | NA | NA | NA | NA | NA | 211.1764 | 7.808 | FALSE | 0.9742635 |\n| 1 | 2010-06-11 | 80.43 | 2.668 | NA | NA | NA | NA | NA | 211.4561 | 7.808 | FALSE | 0.9813012 |\n| 1 | 2010-06-18 | 84.11 | 2.637 | NA | NA | NA | NA | NA | 211.4538 | 7.808 | FALSE | 0.9812427 |\n| 1 | 2010-06-25 | 84.34 | 2.653 | NA | NA | NA | NA | NA | 211.3387 | 7.808 | FALSE | 0.9783458 |\n| 1 | 2010-07-02 | 80.91 | 2.669 | NA | NA | NA | NA | NA | 211.2235 | 7.787 | FALSE | 0.9754489 |\n| 1 | 2010-07-09 | 80.48 | 2.642 | NA | NA | NA | NA | NA | 211.1084 | 7.787 | FALSE | 0.9725519 |\n| 1 | 2010-07-16 | 83.15 | 2.623 | NA | NA | NA | NA | NA | 211.1004 | 7.787 | FALSE | 0.9723499 |\n| 1 | 2010-07-23 | 83.36 | 2.608 | NA | NA | NA | NA | NA | 211.2351 | 7.787 | FALSE | 0.9757410 |\n| 1 | 2010-07-30 | 81.84 | 2.640 | NA | NA | NA | NA | NA | 211.3699 | 7.787 | FALSE | 0.9791322 |\n| 1 | 2010-08-06 | 87.16 | 2.627 | NA | NA | NA | NA | NA | 211.5047 | 7.787 | FALSE | 0.9825233 |\n| 1 | 2010-08-13 | 87.00 | 2.692 | NA | NA | NA | NA | NA | 211.6394 | 7.787 | FALSE | 0.9859145 |\n| 1 | 2010-08-20 | 86.65 | 2.664 | NA | NA | NA | NA | NA | 211.6034 | 7.787 | FALSE | 0.9850071 |\n| 1 | 2010-08-27 | 85.22 | 2.619 | NA | NA | NA | NA | NA | 211.5673 | 7.787 | FALSE | 0.9840997 |\n| ⋮ | ⋮ | ⋮ | ⋮ | ⋮ | ⋮ | ⋮ | ⋮ | ⋮ | ⋮ | ⋮ | ⋮ | ⋮ |\n| 45 | 2013-01-04 | 32.87 | 3.592 |  1341.33 | 30325.14 |   8.93 |    35.85 | 3682.17 | 192.6596 | 8.625 | FALSE | 0.5082953 |\n| 45 | 2013-01-11 | 38.78 | 3.611 |  3877.36 | 15559.85 |   3.81 |   152.18 | 2403.14 | 192.7600 | 8.625 | FALSE | 0.5108207 |\n| 45 | 2013-01-18 | 41.45 | 3.605 | 14746.10 |  4071.06 |   4.02 |   483.58 | 1467.78 | 192.8095 | 8.625 | FALSE | 0.5120670 |\n| 45 | 2013-01-25 | 26.49 | 3.583 |  3130.28 |  1362.10 |   0.20 |   332.68 | 1361.74 | 192.8387 | 8.625 | FALSE | 0.5128017 |\n| 45 | 2013-02-01 | 34.92 | 3.615 | 14508.96 |  1092.53 | 827.90 | 26424.02 |  700.93 | 192.8679 | 8.625 | FALSE | 0.5135364 |\n| 45 | 2013-02-08 | 28.99 | 3.753 | 53311.88 |   531.33 |  78.26 | 24823.94 | 3233.44 | 192.8971 | 8.625 |  TRUE | 0.5142710 |\n| 45 | 2013-02-15 | 35.87 | 3.814 |  9362.02 |  2017.68 |   0.36 |  5012.39 | 6411.71 | 192.9435 | 8.625 | FALSE | 0.5154382 |\n| 45 | 2013-02-22 | 31.48 | 3.859 | 10781.51 |  2735.67 |  23.38 |  1516.76 | 3061.21 | 193.0328 | 8.625 | FALSE | 0.5176867 |\n| 45 | 2013-03-01 | 39.72 | 3.890 |  6614.32 |   147.82 |   5.60 |    27.55 | 1668.95 | 193.1222 | 8.625 | FALSE | 0.5199352 |\n| 45 | 2013-03-08 | 36.13 | 3.860 | 16382.54 |    88.67 |  34.62 |  3096.92 | 3486.91 | 193.2115 | 8.625 | FALSE | 0.5221837 |\n| 45 | 2013-03-15 | 42.81 | 3.834 |  9867.03 |       NA |  11.08 |   912.87 | 1360.36 | 193.2963 | 8.625 | FALSE | 0.5243164 |\n| 45 | 2013-03-22 | 36.55 | 3.800 | 11923.74 |       NA | 308.00 |  1764.47 | 1647.31 | 193.3695 | 8.625 | FALSE | 0.5261599 |\n| 45 | 2013-03-29 | 40.68 | 3.784 |  5444.00 |       NA | 350.84 |    53.90 | 1722.11 | 193.4428 | 8.625 | FALSE | 0.5280034 |\n| 45 | 2013-04-05 | 43.94 | 3.763 | 16427.83 |  5341.41 | 182.59 |  1523.83 | 1743.09 | 193.5160 | 8.335 | FALSE | 0.5298469 |\n| 45 | 2013-04-12 | 57.39 | 3.724 |  8760.15 |  1713.11 |  21.08 |  1302.31 | 1380.74 | 193.5893 | 8.335 | FALSE | 0.5316903 |\n| 45 | 2013-04-19 | 56.27 | 3.676 |  1399.81 |    39.89 |  44.38 |    60.83 | 1445.05 | 193.5893 | 8.335 | FALSE | 0.5316903 |\n| 45 | 2013-04-26 | 50.64 | 3.615 |  1260.65 |       NA |  57.52 |    40.51 | 2476.18 | 193.5893 | 8.335 | FALSE | 0.5316903 |\n| 45 | 2013-05-03 | 56.07 | 3.592 |  8345.40 |     6.00 |  92.96 |  3580.32 | 2242.24 |       NA |    NA | FALSE |        NA |\n| 45 | 2013-05-10 | 58.86 | 3.583 |  4689.18 |   440.82 |  53.09 |   375.22 | 5738.20 |       NA |    NA | FALSE |        NA |\n| 45 | 2013-05-17 | 60.59 | 3.614 |  4515.35 |   667.88 |   6.12 |   522.70 | 2541.62 |       NA |    NA | FALSE |        NA |\n| 45 | 2013-05-24 | 67.11 | 3.627 |  3249.34 |   481.82 |  58.48 |  1183.23 | 1309.30 |       NA |    NA | FALSE |        NA |\n| 45 | 2013-05-31 | 65.88 | 3.646 |  6474.49 |   411.38 |  77.06 |     9.38 | 4227.27 |       NA |    NA | FALSE |        NA |\n| 45 | 2013-06-07 | 70.71 | 3.633 |  9977.82 |   744.29 |  80.00 |  4825.71 | 3597.34 |       NA |    NA | FALSE |        NA |\n| 45 | 2013-06-14 | 70.01 | 3.632 |  2471.44 |   517.87 | 348.54 |  2612.33 | 3459.39 |       NA |    NA | FALSE |        NA |\n| 45 | 2013-06-21 | 70.13 | 3.626 |  4989.34 |   385.31 | 178.56 |  2463.42 | 3117.94 |       NA |    NA | FALSE |        NA |\n| 45 | 2013-06-28 | 76.05 | 3.639 |  4842.29 |   975.03 |   3.00 |  2449.97 | 3169.69 |       NA |    NA | FALSE |        NA |\n| 45 | 2013-07-05 | 77.50 | 3.614 |  9090.48 |  2268.58 | 582.74 |  5797.47 | 1514.93 |       NA |    NA | FALSE |        NA |\n| 45 | 2013-07-12 | 79.37 | 3.614 |  3789.94 |  1827.31 |  85.72 |   744.84 | 2150.36 |       NA |    NA | FALSE |        NA |\n| 45 | 2013-07-19 | 82.84 | 3.737 |  2961.49 |  1047.07 | 204.19 |   363.00 | 1059.46 |       NA |    NA | FALSE |        NA |\n| 45 | 2013-07-26 | 76.06 | 3.804 |   212.02 |   851.73 |   2.06 |    10.88 | 1864.57 |       NA |    NA | FALSE |        NA |\n\n",
            "text/latex": "A data.frame: 8190 × 13\n\\begin{tabular}{lllllllllllll}\n Store & Date & Temperature & Fuel\\_Price & MarkDown1 & MarkDown2 & MarkDown3 & MarkDown4 & MarkDown5 & CPI & Unemployment & IsHoliday & standardized\\_cpi\\\\\n <int> & <chr> & <dbl> & <dbl> & <dbl> & <dbl> & <dbl> & <dbl> & <dbl> & <dbl> & <dbl> & <lgl> & <dbl>\\\\\n\\hline\n\t 1 & 2010-02-05 & 42.31 & 2.572 & NA & NA & NA & NA & NA & 211.0964 & 8.106 & FALSE & 0.9722485\\\\\n\t 1 & 2010-02-12 & 38.51 & 2.548 & NA & NA & NA & NA & NA & 211.2422 & 8.106 &  TRUE & 0.9759178\\\\\n\t 1 & 2010-02-19 & 39.93 & 2.514 & NA & NA & NA & NA & NA & 211.2891 & 8.106 & FALSE & 0.9770999\\\\\n\t 1 & 2010-02-26 & 46.63 & 2.561 & NA & NA & NA & NA & NA & 211.3196 & 8.106 & FALSE & 0.9778674\\\\\n\t 1 & 2010-03-05 & 46.50 & 2.625 & NA & NA & NA & NA & NA & 211.3501 & 8.106 & FALSE & 0.9786349\\\\\n\t 1 & 2010-03-12 & 57.79 & 2.667 & NA & NA & NA & NA & NA & 211.3806 & 8.106 & FALSE & 0.9794025\\\\\n\t 1 & 2010-03-19 & 54.58 & 2.720 & NA & NA & NA & NA & NA & 211.2156 & 8.106 & FALSE & 0.9752501\\\\\n\t 1 & 2010-03-26 & 51.45 & 2.732 & NA & NA & NA & NA & NA & 211.0180 & 8.106 & FALSE & 0.9702778\\\\\n\t 1 & 2010-04-02 & 62.27 & 2.719 & NA & NA & NA & NA & NA & 210.8204 & 7.808 & FALSE & 0.9653054\\\\\n\t 1 & 2010-04-09 & 65.86 & 2.770 & NA & NA & NA & NA & NA & 210.6229 & 7.808 & FALSE & 0.9603331\\\\\n\t 1 & 2010-04-16 & 66.32 & 2.808 & NA & NA & NA & NA & NA & 210.4887 & 7.808 & FALSE & 0.9569571\\\\\n\t 1 & 2010-04-23 & 64.84 & 2.795 & NA & NA & NA & NA & NA & 210.4391 & 7.808 & FALSE & 0.9557095\\\\\n\t 1 & 2010-04-30 & 67.41 & 2.780 & NA & NA & NA & NA & NA & 210.3895 & 7.808 & FALSE & 0.9544619\\\\\n\t 1 & 2010-05-07 & 72.55 & 2.835 & NA & NA & NA & NA & NA & 210.3400 & 7.808 & FALSE & 0.9532143\\\\\n\t 1 & 2010-05-14 & 74.78 & 2.854 & NA & NA & NA & NA & NA & 210.3374 & 7.808 & FALSE & 0.9531503\\\\\n\t 1 & 2010-05-21 & 76.44 & 2.826 & NA & NA & NA & NA & NA & 210.6171 & 7.808 & FALSE & 0.9601880\\\\\n\t 1 & 2010-05-28 & 80.44 & 2.759 & NA & NA & NA & NA & NA & 210.8968 & 7.808 & FALSE & 0.9672257\\\\\n\t 1 & 2010-06-04 & 80.69 & 2.705 & NA & NA & NA & NA & NA & 211.1764 & 7.808 & FALSE & 0.9742635\\\\\n\t 1 & 2010-06-11 & 80.43 & 2.668 & NA & NA & NA & NA & NA & 211.4561 & 7.808 & FALSE & 0.9813012\\\\\n\t 1 & 2010-06-18 & 84.11 & 2.637 & NA & NA & NA & NA & NA & 211.4538 & 7.808 & FALSE & 0.9812427\\\\\n\t 1 & 2010-06-25 & 84.34 & 2.653 & NA & NA & NA & NA & NA & 211.3387 & 7.808 & FALSE & 0.9783458\\\\\n\t 1 & 2010-07-02 & 80.91 & 2.669 & NA & NA & NA & NA & NA & 211.2235 & 7.787 & FALSE & 0.9754489\\\\\n\t 1 & 2010-07-09 & 80.48 & 2.642 & NA & NA & NA & NA & NA & 211.1084 & 7.787 & FALSE & 0.9725519\\\\\n\t 1 & 2010-07-16 & 83.15 & 2.623 & NA & NA & NA & NA & NA & 211.1004 & 7.787 & FALSE & 0.9723499\\\\\n\t 1 & 2010-07-23 & 83.36 & 2.608 & NA & NA & NA & NA & NA & 211.2351 & 7.787 & FALSE & 0.9757410\\\\\n\t 1 & 2010-07-30 & 81.84 & 2.640 & NA & NA & NA & NA & NA & 211.3699 & 7.787 & FALSE & 0.9791322\\\\\n\t 1 & 2010-08-06 & 87.16 & 2.627 & NA & NA & NA & NA & NA & 211.5047 & 7.787 & FALSE & 0.9825233\\\\\n\t 1 & 2010-08-13 & 87.00 & 2.692 & NA & NA & NA & NA & NA & 211.6394 & 7.787 & FALSE & 0.9859145\\\\\n\t 1 & 2010-08-20 & 86.65 & 2.664 & NA & NA & NA & NA & NA & 211.6034 & 7.787 & FALSE & 0.9850071\\\\\n\t 1 & 2010-08-27 & 85.22 & 2.619 & NA & NA & NA & NA & NA & 211.5673 & 7.787 & FALSE & 0.9840997\\\\\n\t ⋮ & ⋮ & ⋮ & ⋮ & ⋮ & ⋮ & ⋮ & ⋮ & ⋮ & ⋮ & ⋮ & ⋮ & ⋮\\\\\n\t 45 & 2013-01-04 & 32.87 & 3.592 &  1341.33 & 30325.14 &   8.93 &    35.85 & 3682.17 & 192.6596 & 8.625 & FALSE & 0.5082953\\\\\n\t 45 & 2013-01-11 & 38.78 & 3.611 &  3877.36 & 15559.85 &   3.81 &   152.18 & 2403.14 & 192.7600 & 8.625 & FALSE & 0.5108207\\\\\n\t 45 & 2013-01-18 & 41.45 & 3.605 & 14746.10 &  4071.06 &   4.02 &   483.58 & 1467.78 & 192.8095 & 8.625 & FALSE & 0.5120670\\\\\n\t 45 & 2013-01-25 & 26.49 & 3.583 &  3130.28 &  1362.10 &   0.20 &   332.68 & 1361.74 & 192.8387 & 8.625 & FALSE & 0.5128017\\\\\n\t 45 & 2013-02-01 & 34.92 & 3.615 & 14508.96 &  1092.53 & 827.90 & 26424.02 &  700.93 & 192.8679 & 8.625 & FALSE & 0.5135364\\\\\n\t 45 & 2013-02-08 & 28.99 & 3.753 & 53311.88 &   531.33 &  78.26 & 24823.94 & 3233.44 & 192.8971 & 8.625 &  TRUE & 0.5142710\\\\\n\t 45 & 2013-02-15 & 35.87 & 3.814 &  9362.02 &  2017.68 &   0.36 &  5012.39 & 6411.71 & 192.9435 & 8.625 & FALSE & 0.5154382\\\\\n\t 45 & 2013-02-22 & 31.48 & 3.859 & 10781.51 &  2735.67 &  23.38 &  1516.76 & 3061.21 & 193.0328 & 8.625 & FALSE & 0.5176867\\\\\n\t 45 & 2013-03-01 & 39.72 & 3.890 &  6614.32 &   147.82 &   5.60 &    27.55 & 1668.95 & 193.1222 & 8.625 & FALSE & 0.5199352\\\\\n\t 45 & 2013-03-08 & 36.13 & 3.860 & 16382.54 &    88.67 &  34.62 &  3096.92 & 3486.91 & 193.2115 & 8.625 & FALSE & 0.5221837\\\\\n\t 45 & 2013-03-15 & 42.81 & 3.834 &  9867.03 &       NA &  11.08 &   912.87 & 1360.36 & 193.2963 & 8.625 & FALSE & 0.5243164\\\\\n\t 45 & 2013-03-22 & 36.55 & 3.800 & 11923.74 &       NA & 308.00 &  1764.47 & 1647.31 & 193.3695 & 8.625 & FALSE & 0.5261599\\\\\n\t 45 & 2013-03-29 & 40.68 & 3.784 &  5444.00 &       NA & 350.84 &    53.90 & 1722.11 & 193.4428 & 8.625 & FALSE & 0.5280034\\\\\n\t 45 & 2013-04-05 & 43.94 & 3.763 & 16427.83 &  5341.41 & 182.59 &  1523.83 & 1743.09 & 193.5160 & 8.335 & FALSE & 0.5298469\\\\\n\t 45 & 2013-04-12 & 57.39 & 3.724 &  8760.15 &  1713.11 &  21.08 &  1302.31 & 1380.74 & 193.5893 & 8.335 & FALSE & 0.5316903\\\\\n\t 45 & 2013-04-19 & 56.27 & 3.676 &  1399.81 &    39.89 &  44.38 &    60.83 & 1445.05 & 193.5893 & 8.335 & FALSE & 0.5316903\\\\\n\t 45 & 2013-04-26 & 50.64 & 3.615 &  1260.65 &       NA &  57.52 &    40.51 & 2476.18 & 193.5893 & 8.335 & FALSE & 0.5316903\\\\\n\t 45 & 2013-05-03 & 56.07 & 3.592 &  8345.40 &     6.00 &  92.96 &  3580.32 & 2242.24 &       NA &    NA & FALSE &        NA\\\\\n\t 45 & 2013-05-10 & 58.86 & 3.583 &  4689.18 &   440.82 &  53.09 &   375.22 & 5738.20 &       NA &    NA & FALSE &        NA\\\\\n\t 45 & 2013-05-17 & 60.59 & 3.614 &  4515.35 &   667.88 &   6.12 &   522.70 & 2541.62 &       NA &    NA & FALSE &        NA\\\\\n\t 45 & 2013-05-24 & 67.11 & 3.627 &  3249.34 &   481.82 &  58.48 &  1183.23 & 1309.30 &       NA &    NA & FALSE &        NA\\\\\n\t 45 & 2013-05-31 & 65.88 & 3.646 &  6474.49 &   411.38 &  77.06 &     9.38 & 4227.27 &       NA &    NA & FALSE &        NA\\\\\n\t 45 & 2013-06-07 & 70.71 & 3.633 &  9977.82 &   744.29 &  80.00 &  4825.71 & 3597.34 &       NA &    NA & FALSE &        NA\\\\\n\t 45 & 2013-06-14 & 70.01 & 3.632 &  2471.44 &   517.87 & 348.54 &  2612.33 & 3459.39 &       NA &    NA & FALSE &        NA\\\\\n\t 45 & 2013-06-21 & 70.13 & 3.626 &  4989.34 &   385.31 & 178.56 &  2463.42 & 3117.94 &       NA &    NA & FALSE &        NA\\\\\n\t 45 & 2013-06-28 & 76.05 & 3.639 &  4842.29 &   975.03 &   3.00 &  2449.97 & 3169.69 &       NA &    NA & FALSE &        NA\\\\\n\t 45 & 2013-07-05 & 77.50 & 3.614 &  9090.48 &  2268.58 & 582.74 &  5797.47 & 1514.93 &       NA &    NA & FALSE &        NA\\\\\n\t 45 & 2013-07-12 & 79.37 & 3.614 &  3789.94 &  1827.31 &  85.72 &   744.84 & 2150.36 &       NA &    NA & FALSE &        NA\\\\\n\t 45 & 2013-07-19 & 82.84 & 3.737 &  2961.49 &  1047.07 & 204.19 &   363.00 & 1059.46 &       NA &    NA & FALSE &        NA\\\\\n\t 45 & 2013-07-26 & 76.06 & 3.804 &   212.02 &   851.73 &   2.06 &    10.88 & 1864.57 &       NA &    NA & FALSE &        NA\\\\\n\\end{tabular}\n",
            "text/plain": [
              "     Store Date       Temperature Fuel_Price MarkDown1 MarkDown2 MarkDown3\n",
              "1    1     2010-02-05 42.31       2.572      NA        NA        NA       \n",
              "2    1     2010-02-12 38.51       2.548      NA        NA        NA       \n",
              "3    1     2010-02-19 39.93       2.514      NA        NA        NA       \n",
              "4    1     2010-02-26 46.63       2.561      NA        NA        NA       \n",
              "5    1     2010-03-05 46.50       2.625      NA        NA        NA       \n",
              "6    1     2010-03-12 57.79       2.667      NA        NA        NA       \n",
              "7    1     2010-03-19 54.58       2.720      NA        NA        NA       \n",
              "8    1     2010-03-26 51.45       2.732      NA        NA        NA       \n",
              "9    1     2010-04-02 62.27       2.719      NA        NA        NA       \n",
              "10   1     2010-04-09 65.86       2.770      NA        NA        NA       \n",
              "11   1     2010-04-16 66.32       2.808      NA        NA        NA       \n",
              "12   1     2010-04-23 64.84       2.795      NA        NA        NA       \n",
              "13   1     2010-04-30 67.41       2.780      NA        NA        NA       \n",
              "14   1     2010-05-07 72.55       2.835      NA        NA        NA       \n",
              "15   1     2010-05-14 74.78       2.854      NA        NA        NA       \n",
              "16   1     2010-05-21 76.44       2.826      NA        NA        NA       \n",
              "17   1     2010-05-28 80.44       2.759      NA        NA        NA       \n",
              "18   1     2010-06-04 80.69       2.705      NA        NA        NA       \n",
              "19   1     2010-06-11 80.43       2.668      NA        NA        NA       \n",
              "20   1     2010-06-18 84.11       2.637      NA        NA        NA       \n",
              "21   1     2010-06-25 84.34       2.653      NA        NA        NA       \n",
              "22   1     2010-07-02 80.91       2.669      NA        NA        NA       \n",
              "23   1     2010-07-09 80.48       2.642      NA        NA        NA       \n",
              "24   1     2010-07-16 83.15       2.623      NA        NA        NA       \n",
              "25   1     2010-07-23 83.36       2.608      NA        NA        NA       \n",
              "26   1     2010-07-30 81.84       2.640      NA        NA        NA       \n",
              "27   1     2010-08-06 87.16       2.627      NA        NA        NA       \n",
              "28   1     2010-08-13 87.00       2.692      NA        NA        NA       \n",
              "29   1     2010-08-20 86.65       2.664      NA        NA        NA       \n",
              "30   1     2010-08-27 85.22       2.619      NA        NA        NA       \n",
              "⋮    ⋮     ⋮          ⋮           ⋮          ⋮         ⋮         ⋮        \n",
              "8161 45    2013-01-04 32.87       3.592       1341.33  30325.14    8.93   \n",
              "8162 45    2013-01-11 38.78       3.611       3877.36  15559.85    3.81   \n",
              "8163 45    2013-01-18 41.45       3.605      14746.10   4071.06    4.02   \n",
              "8164 45    2013-01-25 26.49       3.583       3130.28   1362.10    0.20   \n",
              "8165 45    2013-02-01 34.92       3.615      14508.96   1092.53  827.90   \n",
              "8166 45    2013-02-08 28.99       3.753      53311.88    531.33   78.26   \n",
              "8167 45    2013-02-15 35.87       3.814       9362.02   2017.68    0.36   \n",
              "8168 45    2013-02-22 31.48       3.859      10781.51   2735.67   23.38   \n",
              "8169 45    2013-03-01 39.72       3.890       6614.32    147.82    5.60   \n",
              "8170 45    2013-03-08 36.13       3.860      16382.54     88.67   34.62   \n",
              "8171 45    2013-03-15 42.81       3.834       9867.03        NA   11.08   \n",
              "8172 45    2013-03-22 36.55       3.800      11923.74        NA  308.00   \n",
              "8173 45    2013-03-29 40.68       3.784       5444.00        NA  350.84   \n",
              "8174 45    2013-04-05 43.94       3.763      16427.83   5341.41  182.59   \n",
              "8175 45    2013-04-12 57.39       3.724       8760.15   1713.11   21.08   \n",
              "8176 45    2013-04-19 56.27       3.676       1399.81     39.89   44.38   \n",
              "8177 45    2013-04-26 50.64       3.615       1260.65        NA   57.52   \n",
              "8178 45    2013-05-03 56.07       3.592       8345.40      6.00   92.96   \n",
              "8179 45    2013-05-10 58.86       3.583       4689.18    440.82   53.09   \n",
              "8180 45    2013-05-17 60.59       3.614       4515.35    667.88    6.12   \n",
              "8181 45    2013-05-24 67.11       3.627       3249.34    481.82   58.48   \n",
              "8182 45    2013-05-31 65.88       3.646       6474.49    411.38   77.06   \n",
              "8183 45    2013-06-07 70.71       3.633       9977.82    744.29   80.00   \n",
              "8184 45    2013-06-14 70.01       3.632       2471.44    517.87  348.54   \n",
              "8185 45    2013-06-21 70.13       3.626       4989.34    385.31  178.56   \n",
              "8186 45    2013-06-28 76.05       3.639       4842.29    975.03    3.00   \n",
              "8187 45    2013-07-05 77.50       3.614       9090.48   2268.58  582.74   \n",
              "8188 45    2013-07-12 79.37       3.614       3789.94   1827.31   85.72   \n",
              "8189 45    2013-07-19 82.84       3.737       2961.49   1047.07  204.19   \n",
              "8190 45    2013-07-26 76.06       3.804        212.02    851.73    2.06   \n",
              "     MarkDown4 MarkDown5 CPI      Unemployment IsHoliday standardized_cpi\n",
              "1    NA        NA        211.0964 8.106        FALSE     0.9722485       \n",
              "2    NA        NA        211.2422 8.106         TRUE     0.9759178       \n",
              "3    NA        NA        211.2891 8.106        FALSE     0.9770999       \n",
              "4    NA        NA        211.3196 8.106        FALSE     0.9778674       \n",
              "5    NA        NA        211.3501 8.106        FALSE     0.9786349       \n",
              "6    NA        NA        211.3806 8.106        FALSE     0.9794025       \n",
              "7    NA        NA        211.2156 8.106        FALSE     0.9752501       \n",
              "8    NA        NA        211.0180 8.106        FALSE     0.9702778       \n",
              "9    NA        NA        210.8204 7.808        FALSE     0.9653054       \n",
              "10   NA        NA        210.6229 7.808        FALSE     0.9603331       \n",
              "11   NA        NA        210.4887 7.808        FALSE     0.9569571       \n",
              "12   NA        NA        210.4391 7.808        FALSE     0.9557095       \n",
              "13   NA        NA        210.3895 7.808        FALSE     0.9544619       \n",
              "14   NA        NA        210.3400 7.808        FALSE     0.9532143       \n",
              "15   NA        NA        210.3374 7.808        FALSE     0.9531503       \n",
              "16   NA        NA        210.6171 7.808        FALSE     0.9601880       \n",
              "17   NA        NA        210.8968 7.808        FALSE     0.9672257       \n",
              "18   NA        NA        211.1764 7.808        FALSE     0.9742635       \n",
              "19   NA        NA        211.4561 7.808        FALSE     0.9813012       \n",
              "20   NA        NA        211.4538 7.808        FALSE     0.9812427       \n",
              "21   NA        NA        211.3387 7.808        FALSE     0.9783458       \n",
              "22   NA        NA        211.2235 7.787        FALSE     0.9754489       \n",
              "23   NA        NA        211.1084 7.787        FALSE     0.9725519       \n",
              "24   NA        NA        211.1004 7.787        FALSE     0.9723499       \n",
              "25   NA        NA        211.2351 7.787        FALSE     0.9757410       \n",
              "26   NA        NA        211.3699 7.787        FALSE     0.9791322       \n",
              "27   NA        NA        211.5047 7.787        FALSE     0.9825233       \n",
              "28   NA        NA        211.6394 7.787        FALSE     0.9859145       \n",
              "29   NA        NA        211.6034 7.787        FALSE     0.9850071       \n",
              "30   NA        NA        211.5673 7.787        FALSE     0.9840997       \n",
              "⋮    ⋮         ⋮         ⋮        ⋮            ⋮         ⋮               \n",
              "8161    35.85  3682.17   192.6596 8.625        FALSE     0.5082953       \n",
              "8162   152.18  2403.14   192.7600 8.625        FALSE     0.5108207       \n",
              "8163   483.58  1467.78   192.8095 8.625        FALSE     0.5120670       \n",
              "8164   332.68  1361.74   192.8387 8.625        FALSE     0.5128017       \n",
              "8165 26424.02   700.93   192.8679 8.625        FALSE     0.5135364       \n",
              "8166 24823.94  3233.44   192.8971 8.625         TRUE     0.5142710       \n",
              "8167  5012.39  6411.71   192.9435 8.625        FALSE     0.5154382       \n",
              "8168  1516.76  3061.21   193.0328 8.625        FALSE     0.5176867       \n",
              "8169    27.55  1668.95   193.1222 8.625        FALSE     0.5199352       \n",
              "8170  3096.92  3486.91   193.2115 8.625        FALSE     0.5221837       \n",
              "8171   912.87  1360.36   193.2963 8.625        FALSE     0.5243164       \n",
              "8172  1764.47  1647.31   193.3695 8.625        FALSE     0.5261599       \n",
              "8173    53.90  1722.11   193.4428 8.625        FALSE     0.5280034       \n",
              "8174  1523.83  1743.09   193.5160 8.335        FALSE     0.5298469       \n",
              "8175  1302.31  1380.74   193.5893 8.335        FALSE     0.5316903       \n",
              "8176    60.83  1445.05   193.5893 8.335        FALSE     0.5316903       \n",
              "8177    40.51  2476.18   193.5893 8.335        FALSE     0.5316903       \n",
              "8178  3580.32  2242.24         NA    NA        FALSE            NA       \n",
              "8179   375.22  5738.20         NA    NA        FALSE            NA       \n",
              "8180   522.70  2541.62         NA    NA        FALSE            NA       \n",
              "8181  1183.23  1309.30         NA    NA        FALSE            NA       \n",
              "8182     9.38  4227.27         NA    NA        FALSE            NA       \n",
              "8183  4825.71  3597.34         NA    NA        FALSE            NA       \n",
              "8184  2612.33  3459.39         NA    NA        FALSE            NA       \n",
              "8185  2463.42  3117.94         NA    NA        FALSE            NA       \n",
              "8186  2449.97  3169.69         NA    NA        FALSE            NA       \n",
              "8187  5797.47  1514.93         NA    NA        FALSE            NA       \n",
              "8188   744.84  2150.36         NA    NA        FALSE            NA       \n",
              "8189   363.00  1059.46         NA    NA        FALSE            NA       \n",
              "8190    10.88  1864.57         NA    NA        FALSE            NA       "
            ]
          },
          "metadata": {}
        }
      ]
    }
  ]
}