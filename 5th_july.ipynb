{
  "nbformat": 4,
  "nbformat_minor": 0,
  "metadata": {
    "colab": {
      "name": "5th_july.ipynb",
      "provenance": [],
      "authorship_tag": "ABX9TyP8Rc4lmPgU4THlLNm7mWQR",
      "include_colab_link": true
    },
    "kernelspec": {
      "name": "ir",
      "display_name": "R"
    },
    "language_info": {
      "name": "R"
    }
  },
  "cells": [
    {
      "cell_type": "markdown",
      "metadata": {
        "id": "view-in-github",
        "colab_type": "text"
      },
      "source": [
        "<a href=\"https://colab.research.google.com/github/Prasannas544/Business_Analytics/blob/main/5th_july.ipynb\" target=\"_parent\"><img src=\"https://colab.research.google.com/assets/colab-badge.svg\" alt=\"Open In Colab\"/></a>"
      ]
    },
    {
      "cell_type": "code",
      "execution_count": 64,
      "metadata": {
        "id": "Vd5FukzI_5Zw"
      },
      "outputs": [],
      "source": [
        "melons = c(1.2,1.4,2.4,3.4) # melons' weight"
      ]
    },
    {
      "cell_type": "code",
      "source": [
        "# suppose I want melons above 2kg weight \n",
        "ans=melons > 2"
      ],
      "metadata": {
        "id": "3wlV_g86BcWR"
      },
      "execution_count": 3,
      "outputs": []
    },
    {
      "cell_type": "code",
      "source": [
        "print(ans)"
      ],
      "metadata": {
        "colab": {
          "base_uri": "https://localhost:8080/"
        },
        "id": "bGN6rsk6CTkk",
        "outputId": "ac1b4b77-fc90-44ab-ebf0-8b111204cb3c"
      },
      "execution_count": 5,
      "outputs": [
        {
          "output_type": "stream",
          "name": "stdout",
          "text": [
            "[1] FALSE FALSE  TRUE  TRUE\n"
          ]
        }
      ]
    },
    {
      "cell_type": "code",
      "source": [
        "melons[ans]"
      ],
      "metadata": {
        "colab": {
          "base_uri": "https://localhost:8080/",
          "height": 34
        },
        "id": "qgUFvjJTCUAs",
        "outputId": "a8a4b8ed-89e4-46c7-b5fb-7ad1df2ad175"
      },
      "execution_count": 7,
      "outputs": [
        {
          "output_type": "display_data",
          "data": {
            "text/html": [
              "<style>\n",
              ".list-inline {list-style: none; margin:0; padding: 0}\n",
              ".list-inline>li {display: inline-block}\n",
              ".list-inline>li:not(:last-child)::after {content: \"\\00b7\"; padding: 0 .5ex}\n",
              "</style>\n",
              "<ol class=list-inline><li>2.4</li><li>3.4</li></ol>\n"
            ],
            "text/markdown": "1. 2.4\n2. 3.4\n\n\n",
            "text/latex": "\\begin{enumerate*}\n\\item 2.4\n\\item 3.4\n\\end{enumerate*}\n",
            "text/plain": [
              "[1] 2.4 3.4"
            ]
          },
          "metadata": {}
        }
      ]
    },
    {
      "cell_type": "code",
      "source": [
        "melons[melons < 2]"
      ],
      "metadata": {
        "colab": {
          "base_uri": "https://localhost:8080/",
          "height": 34
        },
        "id": "XgOZWi3TCryH",
        "outputId": "954981cf-bca7-45bf-c86c-d5eb636deea6"
      },
      "execution_count": 9,
      "outputs": [
        {
          "output_type": "display_data",
          "data": {
            "text/html": [
              "<style>\n",
              ".list-inline {list-style: none; margin:0; padding: 0}\n",
              ".list-inline>li {display: inline-block}\n",
              ".list-inline>li:not(:last-child)::after {content: \"\\00b7\"; padding: 0 .5ex}\n",
              "</style>\n",
              "<ol class=list-inline><li>1.2</li><li>1.4</li></ol>\n"
            ],
            "text/markdown": "1. 1.2\n2. 1.4\n\n\n",
            "text/latex": "\\begin{enumerate*}\n\\item 1.2\n\\item 1.4\n\\end{enumerate*}\n",
            "text/plain": [
              "[1] 1.2 1.4"
            ]
          },
          "metadata": {}
        }
      ]
    },
    {
      "cell_type": "code",
      "source": [
        "melons[melons > 3]"
      ],
      "metadata": {
        "colab": {
          "base_uri": "https://localhost:8080/",
          "height": 34
        },
        "id": "stuvuMAKCyGB",
        "outputId": "ef7cb6a9-7b4e-45ab-9de6-226023888109"
      },
      "execution_count": 16,
      "outputs": [
        {
          "output_type": "display_data",
          "data": {
            "text/html": [
              "3.4"
            ],
            "text/markdown": "3.4",
            "text/latex": "3.4",
            "text/plain": [
              "[1] 3.4"
            ]
          },
          "metadata": {}
        }
      ]
    },
    {
      "cell_type": "code",
      "source": [
        "x<-5"
      ],
      "metadata": {
        "id": "b-PqYsCpC7Cv"
      },
      "execution_count": 17,
      "outputs": []
    },
    {
      "cell_type": "code",
      "source": [
        "y<-16"
      ],
      "metadata": {
        "id": "CY22MCofHRXu"
      },
      "execution_count": 18,
      "outputs": []
    },
    {
      "cell_type": "code",
      "source": [
        "sum=x+y"
      ],
      "metadata": {
        "id": "JRjw4sYAHSoY"
      },
      "execution_count": 20,
      "outputs": []
    },
    {
      "cell_type": "code",
      "source": [
        "y%%x   # modulus operator ----> gives remainder"
      ],
      "metadata": {
        "colab": {
          "base_uri": "https://localhost:8080/",
          "height": 34
        },
        "id": "C8h7bwFMHUA2",
        "outputId": "109008b3-3e5a-4aad-909a-e03ba1058e15"
      },
      "execution_count": 22,
      "outputs": [
        {
          "output_type": "display_data",
          "data": {
            "text/html": [
              "1"
            ],
            "text/markdown": "1",
            "text/latex": "1",
            "text/plain": [
              "[1] 1"
            ]
          },
          "metadata": {}
        }
      ]
    },
    {
      "cell_type": "code",
      "source": [
        "16%/%5 # integer division"
      ],
      "metadata": {
        "colab": {
          "base_uri": "https://localhost:8080/",
          "height": 34
        },
        "id": "JfFsFdDuHWee",
        "outputId": "33d0989d-8ceb-4001-b58d-aae5914d07e0"
      },
      "execution_count": 24,
      "outputs": [
        {
          "output_type": "display_data",
          "data": {
            "text/html": [
              "3"
            ],
            "text/markdown": "3",
            "text/latex": "3",
            "text/plain": [
              "[1] 3"
            ]
          },
          "metadata": {}
        }
      ]
    },
    {
      "cell_type": "code",
      "source": [
        "x=2"
      ],
      "metadata": {
        "id": "gDVb-fLPHghD"
      },
      "execution_count": 25,
      "outputs": []
    },
    {
      "cell_type": "code",
      "source": [
        "y^0.5"
      ],
      "metadata": {
        "colab": {
          "base_uri": "https://localhost:8080/",
          "height": 34
        },
        "id": "T2KBdulXH-nC",
        "outputId": "804108d4-e793-4d0c-cf34-8229b4077c31"
      },
      "execution_count": 27,
      "outputs": [
        {
          "output_type": "display_data",
          "data": {
            "text/html": [
              "4"
            ],
            "text/markdown": "4",
            "text/latex": "4",
            "text/plain": [
              "[1] 4"
            ]
          },
          "metadata": {}
        }
      ]
    },
    {
      "cell_type": "code",
      "source": [
        "sqrt(y)"
      ],
      "metadata": {
        "colab": {
          "base_uri": "https://localhost:8080/",
          "height": 34
        },
        "id": "OKC6YBtJIBdp",
        "outputId": "43244a8b-a824-4aaf-caeb-d08d6fa01598"
      },
      "execution_count": 28,
      "outputs": [
        {
          "output_type": "display_data",
          "data": {
            "text/html": [
              "4"
            ],
            "text/markdown": "4",
            "text/latex": "4",
            "text/plain": [
              "[1] 4"
            ]
          },
          "metadata": {}
        }
      ]
    },
    {
      "cell_type": "code",
      "source": [
        "y==16"
      ],
      "metadata": {
        "colab": {
          "base_uri": "https://localhost:8080/",
          "height": 34
        },
        "id": "pRPiKePyIF7_",
        "outputId": "00fba852-6247-4790-d1f0-2692babc3936"
      },
      "execution_count": 29,
      "outputs": [
        {
          "output_type": "display_data",
          "data": {
            "text/html": [
              "TRUE"
            ],
            "text/markdown": "TRUE",
            "text/latex": "TRUE",
            "text/plain": [
              "[1] TRUE"
            ]
          },
          "metadata": {}
        }
      ]
    },
    {
      "cell_type": "code",
      "source": [
        "y"
      ],
      "metadata": {
        "colab": {
          "base_uri": "https://localhost:8080/",
          "height": 34
        },
        "id": "yRMA-KewIObJ",
        "outputId": "2cbda339-a07b-48e4-b97a-7767705cff85"
      },
      "execution_count": 30,
      "outputs": [
        {
          "output_type": "display_data",
          "data": {
            "text/html": [
              "16"
            ],
            "text/markdown": "16",
            "text/latex": "16",
            "text/plain": [
              "[1] 16"
            ]
          },
          "metadata": {}
        }
      ]
    },
    {
      "cell_type": "code",
      "source": [
        "x!=2"
      ],
      "metadata": {
        "colab": {
          "base_uri": "https://localhost:8080/",
          "height": 34
        },
        "id": "VNtBomf-IPlk",
        "outputId": "6378b889-fa76-4b82-f4f6-1550c2c97d31"
      },
      "execution_count": 35,
      "outputs": [
        {
          "output_type": "display_data",
          "data": {
            "text/html": [
              "FALSE"
            ],
            "text/markdown": "FALSE",
            "text/latex": "FALSE",
            "text/plain": [
              "[1] FALSE"
            ]
          },
          "metadata": {}
        }
      ]
    },
    {
      "cell_type": "code",
      "source": [
        "16>=12"
      ],
      "metadata": {
        "colab": {
          "base_uri": "https://localhost:8080/",
          "height": 34
        },
        "id": "CyERs_gsISpq",
        "outputId": "e5c9672a-71c7-4b28-f263-baef351dadf9"
      },
      "execution_count": 36,
      "outputs": [
        {
          "output_type": "display_data",
          "data": {
            "text/html": [
              "TRUE"
            ],
            "text/markdown": "TRUE",
            "text/latex": "TRUE",
            "text/plain": [
              "[1] TRUE"
            ]
          },
          "metadata": {}
        }
      ]
    },
    {
      "cell_type": "code",
      "source": [
        "13<14"
      ],
      "metadata": {
        "colab": {
          "base_uri": "https://localhost:8080/",
          "height": 34
        },
        "id": "ylJNeT6PIjmW",
        "outputId": "b08e313a-d5d5-4de4-c5c9-f6037a4c4267"
      },
      "execution_count": 40,
      "outputs": [
        {
          "output_type": "display_data",
          "data": {
            "text/html": [
              "TRUE"
            ],
            "text/markdown": "TRUE",
            "text/latex": "TRUE",
            "text/plain": [
              "[1] TRUE"
            ]
          },
          "metadata": {}
        }
      ]
    },
    {
      "cell_type": "code",
      "source": [
        "x<-c(TRUE,FALSE,0,6)"
      ],
      "metadata": {
        "id": "2tY1wzMoIlsa"
      },
      "execution_count": 41,
      "outputs": []
    },
    {
      "cell_type": "code",
      "source": [
        "typeof(x)"
      ],
      "metadata": {
        "colab": {
          "base_uri": "https://localhost:8080/",
          "height": 34
        },
        "id": "uDBibkzvI0mO",
        "outputId": "3be143b3-f2ca-4e17-9f13-5ae97ad24458"
      },
      "execution_count": 42,
      "outputs": [
        {
          "output_type": "display_data",
          "data": {
            "text/html": [
              "'double'"
            ],
            "text/markdown": "'double'",
            "text/latex": "'double'",
            "text/plain": [
              "[1] \"double\""
            ]
          },
          "metadata": {}
        }
      ]
    },
    {
      "cell_type": "code",
      "source": [
        "print(x)"
      ],
      "metadata": {
        "colab": {
          "base_uri": "https://localhost:8080/"
        },
        "id": "9FsTB_iUJYhH",
        "outputId": "ef35a338-1037-4228-dbad-c04ed3280f97"
      },
      "execution_count": 43,
      "outputs": [
        {
          "output_type": "stream",
          "name": "stdout",
          "text": [
            "[1] 1 0 0 6\n"
          ]
        }
      ]
    },
    {
      "cell_type": "code",
      "source": [
        "!x"
      ],
      "metadata": {
        "colab": {
          "base_uri": "https://localhost:8080/",
          "height": 34
        },
        "id": "tOSamZfXJZTj",
        "outputId": "29870278-5e28-4114-d778-1993f2c101dc"
      },
      "execution_count": 44,
      "outputs": [
        {
          "output_type": "display_data",
          "data": {
            "text/html": [
              "<style>\n",
              ".list-inline {list-style: none; margin:0; padding: 0}\n",
              ".list-inline>li {display: inline-block}\n",
              ".list-inline>li:not(:last-child)::after {content: \"\\00b7\"; padding: 0 .5ex}\n",
              "</style>\n",
              "<ol class=list-inline><li>FALSE</li><li>TRUE</li><li>TRUE</li><li>FALSE</li></ol>\n"
            ],
            "text/markdown": "1. FALSE\n2. TRUE\n3. TRUE\n4. FALSE\n\n\n",
            "text/latex": "\\begin{enumerate*}\n\\item FALSE\n\\item TRUE\n\\item TRUE\n\\item FALSE\n\\end{enumerate*}\n",
            "text/plain": [
              "[1] FALSE  TRUE  TRUE FALSE"
            ]
          },
          "metadata": {}
        }
      ]
    },
    {
      "cell_type": "code",
      "source": [
        "!5"
      ],
      "metadata": {
        "colab": {
          "base_uri": "https://localhost:8080/",
          "height": 34
        },
        "id": "ZW1GAz7JJwBS",
        "outputId": "bbf48a27-4ec8-4a89-ff60-53dd6cdc6009"
      },
      "execution_count": 45,
      "outputs": [
        {
          "output_type": "display_data",
          "data": {
            "text/html": [
              "FALSE"
            ],
            "text/markdown": "FALSE",
            "text/latex": "FALSE",
            "text/plain": [
              "[1] FALSE"
            ]
          },
          "metadata": {}
        }
      ]
    },
    {
      "cell_type": "code",
      "source": [
        "!0"
      ],
      "metadata": {
        "colab": {
          "base_uri": "https://localhost:8080/",
          "height": 34
        },
        "id": "HKMbXuV9J4MI",
        "outputId": "6b5c59f0-de39-4260-a242-8c4bc0b70a36"
      },
      "execution_count": 46,
      "outputs": [
        {
          "output_type": "display_data",
          "data": {
            "text/html": [
              "TRUE"
            ],
            "text/markdown": "TRUE",
            "text/latex": "TRUE",
            "text/plain": [
              "[1] TRUE"
            ]
          },
          "metadata": {}
        }
      ]
    },
    {
      "cell_type": "code",
      "source": [
        ""
      ],
      "metadata": {
        "colab": {
          "base_uri": "https://localhost:8080/",
          "height": 34
        },
        "id": "PWWTk_dxJ5Q4",
        "outputId": "3b091c1b-b3c4-4812-f927-221d961b0fc1"
      },
      "execution_count": 56,
      "outputs": [
        {
          "output_type": "display_data",
          "data": {
            "text/html": [
              "FALSE"
            ],
            "text/markdown": "FALSE",
            "text/latex": "FALSE",
            "text/plain": [
              "[1] FALSE"
            ]
          },
          "metadata": {}
        }
      ]
    },
    {
      "cell_type": "code",
      "source": [
        ""
      ],
      "metadata": {
        "colab": {
          "base_uri": "https://localhost:8080/",
          "height": 34
        },
        "id": "kulbTxYRKZmL",
        "outputId": "3df02eca-9ed9-4344-bec3-34b96f183923"
      },
      "execution_count": 57,
      "outputs": [
        {
          "output_type": "display_data",
          "data": {
            "text/html": [
              "<style>\n",
              ".list-inline {list-style: none; margin:0; padding: 0}\n",
              ".list-inline>li {display: inline-block}\n",
              ".list-inline>li:not(:last-child)::after {content: \"\\00b7\"; padding: 0 .5ex}\n",
              "</style>\n",
              "<ol class=list-inline><li>FALSE</li><li>FALSE</li><li>FALSE</li><li>TRUE</li></ol>\n"
            ],
            "text/markdown": "1. FALSE\n2. FALSE\n3. FALSE\n4. TRUE\n\n\n",
            "text/latex": "\\begin{enumerate*}\n\\item FALSE\n\\item FALSE\n\\item FALSE\n\\item TRUE\n\\end{enumerate*}\n",
            "text/plain": [
              "[1] FALSE FALSE FALSE  TRUE"
            ]
          },
          "metadata": {}
        }
      ]
    },
    {
      "cell_type": "code",
      "source": [
        "melons == 2.4"
      ],
      "metadata": {
        "colab": {
          "base_uri": "https://localhost:8080/",
          "height": 34
        },
        "id": "UAJJjE2TK0vq",
        "outputId": "8a5e8eb4-4815-400a-a137-19a3744d5740"
      },
      "execution_count": 61,
      "outputs": [
        {
          "output_type": "display_data",
          "data": {
            "text/html": [
              "<style>\n",
              ".list-inline {list-style: none; margin:0; padding: 0}\n",
              ".list-inline>li {display: inline-block}\n",
              ".list-inline>li:not(:last-child)::after {content: \"\\00b7\"; padding: 0 .5ex}\n",
              "</style>\n",
              "<ol class=list-inline><li>FALSE</li><li>FALSE</li><li>TRUE</li><li>TRUE</li></ol>\n"
            ],
            "text/markdown": "1. FALSE\n2. FALSE\n3. TRUE\n4. TRUE\n\n\n",
            "text/latex": "\\begin{enumerate*}\n\\item FALSE\n\\item FALSE\n\\item TRUE\n\\item TRUE\n\\end{enumerate*}\n",
            "text/plain": [
              "[1] FALSE FALSE  TRUE  TRUE"
            ]
          },
          "metadata": {}
        }
      ]
    },
    {
      "cell_type": "code",
      "source": [
        "melons != 1.4"
      ],
      "metadata": {
        "colab": {
          "base_uri": "https://localhost:8080/",
          "height": 34
        },
        "id": "uME_aPTcLFt4",
        "outputId": "ce2a23d8-5b09-466f-a3f0-d85e04faf3d8"
      },
      "execution_count": 65,
      "outputs": [
        {
          "output_type": "display_data",
          "data": {
            "text/html": [
              "<style>\n",
              ".list-inline {list-style: none; margin:0; padding: 0}\n",
              ".list-inline>li {display: inline-block}\n",
              ".list-inline>li:not(:last-child)::after {content: \"\\00b7\"; padding: 0 .5ex}\n",
              "</style>\n",
              "<ol class=list-inline><li>TRUE</li><li>FALSE</li><li>TRUE</li><li>TRUE</li></ol>\n"
            ],
            "text/markdown": "1. TRUE\n2. FALSE\n3. TRUE\n4. TRUE\n\n\n",
            "text/latex": "\\begin{enumerate*}\n\\item TRUE\n\\item FALSE\n\\item TRUE\n\\item TRUE\n\\end{enumerate*}\n",
            "text/plain": [
              "[1]  TRUE FALSE  TRUE  TRUE"
            ]
          },
          "metadata": {}
        }
      ]
    },
    {
      "cell_type": "code",
      "source": [
        ""
      ],
      "metadata": {
        "id": "yX5kVwmSLhf1"
      },
      "execution_count": null,
      "outputs": []
    },
    {
      "cell_type": "code",
      "source": [
        "melons[melons != 1.4]"
      ],
      "metadata": {
        "colab": {
          "base_uri": "https://localhost:8080/",
          "height": 34
        },
        "id": "7wOGL24dLORU",
        "outputId": "f375084c-fbc0-4dbd-f81b-2e4b5f0b4136"
      },
      "execution_count": 66,
      "outputs": [
        {
          "output_type": "display_data",
          "data": {
            "text/html": [
              "<style>\n",
              ".list-inline {list-style: none; margin:0; padding: 0}\n",
              ".list-inline>li {display: inline-block}\n",
              ".list-inline>li:not(:last-child)::after {content: \"\\00b7\"; padding: 0 .5ex}\n",
              "</style>\n",
              "<ol class=list-inline><li>1.2</li><li>2.4</li><li>3.4</li></ol>\n"
            ],
            "text/markdown": "1. 1.2\n2. 2.4\n3. 3.4\n\n\n",
            "text/latex": "\\begin{enumerate*}\n\\item 1.2\n\\item 2.4\n\\item 3.4\n\\end{enumerate*}\n",
            "text/plain": [
              "[1] 1.2 2.4 3.4"
            ]
          },
          "metadata": {}
        }
      ]
    },
    {
      "cell_type": "code",
      "source": [
        "melons[melons>2]"
      ],
      "metadata": {
        "colab": {
          "base_uri": "https://localhost:8080/",
          "height": 34
        },
        "id": "_cjVk6X-LiOn",
        "outputId": "3e41f8d1-df76-4721-aae3-f8eb691c06b8"
      },
      "execution_count": 68,
      "outputs": [
        {
          "output_type": "display_data",
          "data": {
            "text/html": [
              "<style>\n",
              ".list-inline {list-style: none; margin:0; padding: 0}\n",
              ".list-inline>li {display: inline-block}\n",
              ".list-inline>li:not(:last-child)::after {content: \"\\00b7\"; padding: 0 .5ex}\n",
              "</style>\n",
              "<ol class=list-inline><li>2.4</li><li>3.4</li></ol>\n"
            ],
            "text/markdown": "1. 2.4\n2. 3.4\n\n\n",
            "text/latex": "\\begin{enumerate*}\n\\item 2.4\n\\item 3.4\n\\end{enumerate*}\n",
            "text/plain": [
              "[1] 2.4 3.4"
            ]
          },
          "metadata": {}
        }
      ]
    },
    {
      "cell_type": "code",
      "source": [
        "which(melons>2)"
      ],
      "metadata": {
        "colab": {
          "base_uri": "https://localhost:8080/",
          "height": 34
        },
        "id": "IMSYJdIbLwsX",
        "outputId": "5b4c9f8c-32cf-4793-ec5e-db509ceb99bc"
      },
      "execution_count": 69,
      "outputs": [
        {
          "output_type": "display_data",
          "data": {
            "text/html": [
              "<style>\n",
              ".list-inline {list-style: none; margin:0; padding: 0}\n",
              ".list-inline>li {display: inline-block}\n",
              ".list-inline>li:not(:last-child)::after {content: \"\\00b7\"; padding: 0 .5ex}\n",
              "</style>\n",
              "<ol class=list-inline><li>3</li><li>4</li></ol>\n"
            ],
            "text/markdown": "1. 3\n2. 4\n\n\n",
            "text/latex": "\\begin{enumerate*}\n\\item 3\n\\item 4\n\\end{enumerate*}\n",
            "text/plain": [
              "[1] 3 4"
            ]
          },
          "metadata": {}
        }
      ]
    },
    {
      "cell_type": "code",
      "source": [
        ""
      ],
      "metadata": {
        "id": "_pa7YkBuM1LO"
      },
      "execution_count": null,
      "outputs": []
    },
    {
      "cell_type": "markdown",
      "source": [
        "NAMES PROPERTY"
      ],
      "metadata": {
        "id": "RfXNYb7ANHLn"
      }
    },
    {
      "cell_type": "code",
      "source": [
        "countries <- c(10276617,67545757,67020000)   # popultaion count"
      ],
      "metadata": {
        "id": "WSTnv1vdNKiM"
      },
      "execution_count": 70,
      "outputs": []
    },
    {
      "cell_type": "code",
      "source": [
        "names(countries) <- c('Portugal','UK','France')"
      ],
      "metadata": {
        "id": "Snrt_t_tODE4"
      },
      "execution_count": 71,
      "outputs": []
    },
    {
      "cell_type": "code",
      "source": [
        "countries[3]"
      ],
      "metadata": {
        "colab": {
          "base_uri": "https://localhost:8080/",
          "height": 34
        },
        "id": "1oZSGbBxOUGC",
        "outputId": "ef1ede4b-ee11-4463-8d8d-d62d3ac46f5e"
      },
      "execution_count": 73,
      "outputs": [
        {
          "output_type": "display_data",
          "data": {
            "text/html": [
              "<strong>France:</strong> 67020000"
            ],
            "text/markdown": "**France:** 67020000",
            "text/latex": "\\textbf{France:} 67020000",
            "text/plain": [
              "  France \n",
              "67020000 "
            ]
          },
          "metadata": {}
        }
      ]
    },
    {
      "cell_type": "code",
      "source": [
        "countries['France']"
      ],
      "metadata": {
        "colab": {
          "base_uri": "https://localhost:8080/",
          "height": 34
        },
        "id": "zcSmS3v2OW3-",
        "outputId": "f6882af8-94b6-4d3f-c75d-5283c1438427"
      },
      "execution_count": 74,
      "outputs": [
        {
          "output_type": "display_data",
          "data": {
            "text/html": [
              "<strong>France:</strong> 67020000"
            ],
            "text/markdown": "**France:** 67020000",
            "text/latex": "\\textbf{France:} 67020000",
            "text/plain": [
              "  France \n",
              "67020000 "
            ]
          },
          "metadata": {}
        }
      ]
    },
    {
      "cell_type": "code",
      "source": [
        "countries['Portugal']"
      ],
      "metadata": {
        "colab": {
          "base_uri": "https://localhost:8080/",
          "height": 34
        },
        "id": "rNoji1YXObgv",
        "outputId": "39cc2ad1-35c3-453f-d235-434b2d1ddfd4"
      },
      "execution_count": 75,
      "outputs": [
        {
          "output_type": "display_data",
          "data": {
            "text/html": [
              "<strong>Portugal:</strong> 10276617"
            ],
            "text/markdown": "**Portugal:** 10276617",
            "text/latex": "\\textbf{Portugal:} 10276617",
            "text/plain": [
              "Portugal \n",
              "10276617 "
            ]
          },
          "metadata": {}
        }
      ]
    },
    {
      "cell_type": "code",
      "source": [
        "countries['Portugal','France']     # ----------> countries[1,3]"
      ],
      "metadata": {
        "colab": {
          "base_uri": "https://localhost:8080/",
          "height": 98
        },
        "id": "bk0dEDEoOhZ4",
        "outputId": "65351ec4-8d8c-4921-a27f-4925ee92b8ff"
      },
      "execution_count": 78,
      "outputs": [
        {
          "output_type": "error",
          "ename": "ERROR",
          "evalue": "ignored",
          "traceback": [
            "Error in countries[\"Portugal\", \"France\"]: incorrect number of dimensions\nTraceback:\n"
          ]
        }
      ]
    },
    {
      "cell_type": "code",
      "source": [
        "countries[c('Portugal','France')]  #------------------> countries[c(1,3)]"
      ],
      "metadata": {
        "colab": {
          "base_uri": "https://localhost:8080/",
          "height": 34
        },
        "id": "UPZJmmRUO0xi",
        "outputId": "d8cf2096-008e-41b8-da70-7e9d4ae16c64"
      },
      "execution_count": 85,
      "outputs": [
        {
          "output_type": "display_data",
          "data": {
            "text/html": [
              "<style>\n",
              ".dl-inline {width: auto; margin:0; padding: 0}\n",
              ".dl-inline>dt, .dl-inline>dd {float: none; width: auto; display: inline-block}\n",
              ".dl-inline>dt::after {content: \":\\0020\"; padding-right: .5ex}\n",
              ".dl-inline>dt:not(:first-of-type) {padding-left: .5ex}\n",
              "</style><dl class=dl-inline><dt>Portugal</dt><dd>10276617</dd><dt>France</dt><dd>67020000</dd></dl>\n"
            ],
            "text/markdown": "Portugal\n:   10276617France\n:   67020000\n\n",
            "text/latex": "\\begin{description*}\n\\item[Portugal] 10276617\n\\item[France] 67020000\n\\end{description*}\n",
            "text/plain": [
              "Portugal   France \n",
              "10276617 67020000 "
            ]
          },
          "metadata": {}
        }
      ]
    },
    {
      "cell_type": "code",
      "source": [
        "which(countries>20000000)"
      ],
      "metadata": {
        "colab": {
          "base_uri": "https://localhost:8080/",
          "height": 34
        },
        "id": "hkqk0ELQPet1",
        "outputId": "edd119a2-946c-4782-cc41-ee67502c7fd0"
      },
      "execution_count": 84,
      "outputs": [
        {
          "output_type": "display_data",
          "data": {
            "text/html": [
              "<style>\n",
              ".dl-inline {width: auto; margin:0; padding: 0}\n",
              ".dl-inline>dt, .dl-inline>dd {float: none; width: auto; display: inline-block}\n",
              ".dl-inline>dt::after {content: \":\\0020\"; padding-right: .5ex}\n",
              ".dl-inline>dt:not(:first-of-type) {padding-left: .5ex}\n",
              "</style><dl class=dl-inline><dt>UK</dt><dd>2</dd><dt>France</dt><dd>3</dd></dl>\n"
            ],
            "text/markdown": "UK\n:   2France\n:   3\n\n",
            "text/latex": "\\begin{description*}\n\\item[UK] 2\n\\item[France] 3\n\\end{description*}\n",
            "text/plain": [
              "    UK France \n",
              "     2      3 "
            ]
          },
          "metadata": {}
        }
      ]
    },
    {
      "cell_type": "code",
      "source": [
        "names(which( countries>20000000))    "
      ],
      "metadata": {
        "colab": {
          "base_uri": "https://localhost:8080/",
          "height": 34
        },
        "id": "sa8ciPQ-PiWE",
        "outputId": "f9cdc2d0-4d9e-4d04-e39b-70af0f468089"
      },
      "execution_count": 83,
      "outputs": [
        {
          "output_type": "display_data",
          "data": {
            "text/html": [
              "<style>\n",
              ".list-inline {list-style: none; margin:0; padding: 0}\n",
              ".list-inline>li {display: inline-block}\n",
              ".list-inline>li:not(:last-child)::after {content: \"\\00b7\"; padding: 0 .5ex}\n",
              "</style>\n",
              "<ol class=list-inline><li>'UK'</li><li>'France'</li></ol>\n"
            ],
            "text/markdown": "1. 'UK'\n2. 'France'\n\n\n",
            "text/latex": "\\begin{enumerate*}\n\\item 'UK'\n\\item 'France'\n\\end{enumerate*}\n",
            "text/plain": [
              "[1] \"UK\"     \"France\""
            ]
          },
          "metadata": {}
        }
      ]
    },
    {
      "cell_type": "code",
      "source": [
        ""
      ],
      "metadata": {
        "id": "wIxoEUn1Qdt0"
      },
      "execution_count": null,
      "outputs": []
    },
    {
      "cell_type": "markdown",
      "source": [
        "Modifying vector elements"
      ],
      "metadata": {
        "id": "zKhuxLtQQmwl"
      }
    },
    {
      "cell_type": "code",
      "source": [
        "melons = c(1.2,1.4,2.4,3.4) "
      ],
      "metadata": {
        "id": "Jpus9QgiSN04"
      },
      "execution_count": 109,
      "outputs": []
    },
    {
      "cell_type": "code",
      "source": [
        "melons"
      ],
      "metadata": {
        "colab": {
          "base_uri": "https://localhost:8080/",
          "height": 34
        },
        "id": "eTbHKkMoQr1j",
        "outputId": "b7830ba2-2041-4c09-84ce-be70fa6b7889"
      },
      "execution_count": 102,
      "outputs": [
        {
          "output_type": "display_data",
          "data": {
            "text/html": [
              "<style>\n",
              ".list-inline {list-style: none; margin:0; padding: 0}\n",
              ".list-inline>li {display: inline-block}\n",
              ".list-inline>li:not(:last-child)::after {content: \"\\00b7\"; padding: 0 .5ex}\n",
              "</style>\n",
              "<ol class=list-inline><li>1.2</li><li>1.4</li><li>2.4</li><li>3.4</li></ol>\n"
            ],
            "text/markdown": "1. 1.2\n2. 1.4\n3. 2.4\n4. 3.4\n\n\n",
            "text/latex": "\\begin{enumerate*}\n\\item 1.2\n\\item 1.4\n\\item 2.4\n\\item 3.4\n\\end{enumerate*}\n",
            "text/plain": [
              "[1] 1.2 1.4 2.4 3.4"
            ]
          },
          "metadata": {}
        }
      ]
    },
    {
      "cell_type": "code",
      "source": [
        "melons[1] <- 2   # just like a variable"
      ],
      "metadata": {
        "id": "rMfT5yhTQuHN"
      },
      "execution_count": 89,
      "outputs": []
    },
    {
      "cell_type": "code",
      "source": [
        "melons"
      ],
      "metadata": {
        "colab": {
          "base_uri": "https://localhost:8080/",
          "height": 34
        },
        "id": "pDVdQfaNQ59N",
        "outputId": "5cf1eadf-0e75-4b5b-a373-d238ac7d27c3"
      },
      "execution_count": 90,
      "outputs": [
        {
          "output_type": "display_data",
          "data": {
            "text/html": [
              "<style>\n",
              ".list-inline {list-style: none; margin:0; padding: 0}\n",
              ".list-inline>li {display: inline-block}\n",
              ".list-inline>li:not(:last-child)::after {content: \"\\00b7\"; padding: 0 .5ex}\n",
              "</style>\n",
              "<ol class=list-inline><li>2</li><li>1.4</li><li>2.4</li><li>3.4</li></ol>\n"
            ],
            "text/markdown": "1. 2\n2. 1.4\n3. 2.4\n4. 3.4\n\n\n",
            "text/latex": "\\begin{enumerate*}\n\\item 2\n\\item 1.4\n\\item 2.4\n\\item 3.4\n\\end{enumerate*}\n",
            "text/plain": [
              "[1] 2.0 1.4 2.4 3.4"
            ]
          },
          "metadata": {}
        }
      ]
    },
    {
      "cell_type": "code",
      "source": [
        "melons[2:4]<-c(3,4,5)"
      ],
      "metadata": {
        "id": "pY9THsTOREMr"
      },
      "execution_count": 92,
      "outputs": []
    },
    {
      "cell_type": "code",
      "source": [
        "melons"
      ],
      "metadata": {
        "colab": {
          "base_uri": "https://localhost:8080/",
          "height": 34
        },
        "id": "Z44ghWBsRStZ",
        "outputId": "0360f6a1-23e5-4ce7-b62e-cec735ebc0b8"
      },
      "execution_count": 93,
      "outputs": [
        {
          "output_type": "display_data",
          "data": {
            "text/html": [
              "<style>\n",
              ".list-inline {list-style: none; margin:0; padding: 0}\n",
              ".list-inline>li {display: inline-block}\n",
              ".list-inline>li:not(:last-child)::after {content: \"\\00b7\"; padding: 0 .5ex}\n",
              "</style>\n",
              "<ol class=list-inline><li>2</li><li>3</li><li>4</li><li>5</li></ol>\n"
            ],
            "text/markdown": "1. 2\n2. 3\n3. 4\n4. 5\n\n\n",
            "text/latex": "\\begin{enumerate*}\n\\item 2\n\\item 3\n\\item 4\n\\item 5\n\\end{enumerate*}\n",
            "text/plain": [
              "[1] 2 3 4 5"
            ]
          },
          "metadata": {}
        }
      ]
    },
    {
      "cell_type": "code",
      "source": [
        "melons[5] <- 10"
      ],
      "metadata": {
        "id": "atj_t8bnRTOa"
      },
      "execution_count": 103,
      "outputs": []
    },
    {
      "cell_type": "code",
      "source": [
        "melons"
      ],
      "metadata": {
        "colab": {
          "base_uri": "https://localhost:8080/",
          "height": 34
        },
        "id": "keOqvuahRYJ1",
        "outputId": "5fd657ab-4fe0-46b5-8537-fc0b50fe08c4"
      },
      "execution_count": 104,
      "outputs": [
        {
          "output_type": "display_data",
          "data": {
            "text/html": [
              "<style>\n",
              ".list-inline {list-style: none; margin:0; padding: 0}\n",
              ".list-inline>li {display: inline-block}\n",
              ".list-inline>li:not(:last-child)::after {content: \"\\00b7\"; padding: 0 .5ex}\n",
              "</style>\n",
              "<ol class=list-inline><li>1.2</li><li>1.4</li><li>2.4</li><li>3.4</li><li>10</li></ol>\n"
            ],
            "text/markdown": "1. 1.2\n2. 1.4\n3. 2.4\n4. 3.4\n5. 10\n\n\n",
            "text/latex": "\\begin{enumerate*}\n\\item 1.2\n\\item 1.4\n\\item 2.4\n\\item 3.4\n\\item 10\n\\end{enumerate*}\n",
            "text/plain": [
              "[1]  1.2  1.4  2.4  3.4 10.0"
            ]
          },
          "metadata": {}
        }
      ]
    },
    {
      "cell_type": "code",
      "source": [
        "melons [10] <- 25"
      ],
      "metadata": {
        "id": "c07JbIgcRbnh"
      },
      "execution_count": 106,
      "outputs": []
    },
    {
      "cell_type": "code",
      "source": [
        "melons"
      ],
      "metadata": {
        "colab": {
          "base_uri": "https://localhost:8080/",
          "height": 34
        },
        "id": "VF6m1IXfRixh",
        "outputId": "c1456fce-b198-481d-8ff6-7eac7a2e2061"
      },
      "execution_count": 107,
      "outputs": [
        {
          "output_type": "display_data",
          "data": {
            "text/html": [
              "<style>\n",
              ".list-inline {list-style: none; margin:0; padding: 0}\n",
              ".list-inline>li {display: inline-block}\n",
              ".list-inline>li:not(:last-child)::after {content: \"\\00b7\"; padding: 0 .5ex}\n",
              "</style>\n",
              "<ol class=list-inline><li>1.2</li><li>1.4</li><li>2.4</li><li>3.4</li><li>10</li><li>&lt;NA&gt;</li><li>&lt;NA&gt;</li><li>&lt;NA&gt;</li><li>&lt;NA&gt;</li><li>25</li></ol>\n"
            ],
            "text/markdown": "1. 1.2\n2. 1.4\n3. 2.4\n4. 3.4\n5. 10\n6. &lt;NA&gt;\n7. &lt;NA&gt;\n8. &lt;NA&gt;\n9. &lt;NA&gt;\n10. 25\n\n\n",
            "text/latex": "\\begin{enumerate*}\n\\item 1.2\n\\item 1.4\n\\item 2.4\n\\item 3.4\n\\item 10\n\\item <NA>\n\\item <NA>\n\\item <NA>\n\\item <NA>\n\\item 25\n\\end{enumerate*}\n",
            "text/plain": [
              " [1]  1.2  1.4  2.4  3.4 10.0   NA   NA   NA   NA 25.0"
            ]
          },
          "metadata": {}
        }
      ]
    },
    {
      "cell_type": "code",
      "source": [
        "length(melons)"
      ],
      "metadata": {
        "colab": {
          "base_uri": "https://localhost:8080/",
          "height": 34
        },
        "id": "LnNN9Xq1RkDK",
        "outputId": "1532916d-8b91-44ee-c87a-adaf78cb0a39"
      },
      "execution_count": 108,
      "outputs": [
        {
          "output_type": "display_data",
          "data": {
            "text/html": [
              "10"
            ],
            "text/markdown": "10",
            "text/latex": "10",
            "text/plain": [
              "[1] 10"
            ]
          },
          "metadata": {}
        }
      ]
    },
    {
      "cell_type": "code",
      "source": [
        "# Replace all the melons which weigh less than 2 with 2\n",
        "melons=c(1.2,1.4,2.4,3.1,1.2)\n"
      ],
      "metadata": {
        "id": "z2BPXnf4SDqz"
      },
      "execution_count": 114,
      "outputs": []
    },
    {
      "cell_type": "code",
      "source": [
        "melons[melons<2] <-2"
      ],
      "metadata": {
        "id": "rYxlNWIKSv7a"
      },
      "execution_count": 112,
      "outputs": []
    },
    {
      "cell_type": "code",
      "source": [
        "melons"
      ],
      "metadata": {
        "colab": {
          "base_uri": "https://localhost:8080/",
          "height": 34
        },
        "id": "taxfkIEOS5xl",
        "outputId": "25b8d322-d37f-4c3b-c5d6-26dea48562cc"
      },
      "execution_count": 113,
      "outputs": [
        {
          "output_type": "display_data",
          "data": {
            "text/html": [
              "<style>\n",
              ".list-inline {list-style: none; margin:0; padding: 0}\n",
              ".list-inline>li {display: inline-block}\n",
              ".list-inline>li:not(:last-child)::after {content: \"\\00b7\"; padding: 0 .5ex}\n",
              "</style>\n",
              "<ol class=list-inline><li>2</li><li>2</li><li>2.4</li><li>3.1</li><li>2</li></ol>\n"
            ],
            "text/markdown": "1. 2\n2. 2\n3. 2.4\n4. 3.1\n5. 2\n\n\n",
            "text/latex": "\\begin{enumerate*}\n\\item 2\n\\item 2\n\\item 2.4\n\\item 3.1\n\\item 2\n\\end{enumerate*}\n",
            "text/plain": [
              "[1] 2.0 2.0 2.4 3.1 2.0"
            ]
          },
          "metadata": {}
        }
      ]
    },
    {
      "cell_type": "code",
      "source": [
        "#removing elements from a vector"
      ],
      "metadata": {
        "id": "dDF0YyhsS6Su"
      },
      "execution_count": null,
      "outputs": []
    },
    {
      "cell_type": "code",
      "source": [
        "curr_melons = melons[-c(2,4)]"
      ],
      "metadata": {
        "id": "4TD8L2DrTG3n"
      },
      "execution_count": 117,
      "outputs": []
    },
    {
      "cell_type": "code",
      "source": [
        "curr_melons"
      ],
      "metadata": {
        "colab": {
          "base_uri": "https://localhost:8080/",
          "height": 34
        },
        "id": "iZ7kOdi4TG-S",
        "outputId": "922b2bc3-8593-4a1f-b520-510d67b8ae4b"
      },
      "execution_count": 118,
      "outputs": [
        {
          "output_type": "display_data",
          "data": {
            "text/html": [
              "<style>\n",
              ".list-inline {list-style: none; margin:0; padding: 0}\n",
              ".list-inline>li {display: inline-block}\n",
              ".list-inline>li:not(:last-child)::after {content: \"\\00b7\"; padding: 0 .5ex}\n",
              "</style>\n",
              "<ol class=list-inline><li>1.2</li><li>2.4</li><li>1.2</li></ol>\n"
            ],
            "text/markdown": "1. 1.2\n2. 2.4\n3. 1.2\n\n\n",
            "text/latex": "\\begin{enumerate*}\n\\item 1.2\n\\item 2.4\n\\item 1.2\n\\end{enumerate*}\n",
            "text/plain": [
              "[1] 1.2 2.4 1.2"
            ]
          },
          "metadata": {}
        }
      ]
    },
    {
      "cell_type": "code",
      "source": [
        "melons"
      ],
      "metadata": {
        "colab": {
          "base_uri": "https://localhost:8080/",
          "height": 34
        },
        "id": "7nyWlJtyTUDm",
        "outputId": "1d9c27ed-12fa-410d-9a44-3ba1ca593dee"
      },
      "execution_count": 119,
      "outputs": [
        {
          "output_type": "display_data",
          "data": {
            "text/html": [
              "<style>\n",
              ".list-inline {list-style: none; margin:0; padding: 0}\n",
              ".list-inline>li {display: inline-block}\n",
              ".list-inline>li:not(:last-child)::after {content: \"\\00b7\"; padding: 0 .5ex}\n",
              "</style>\n",
              "<ol class=list-inline><li>1.2</li><li>1.4</li><li>2.4</li><li>3.1</li><li>1.2</li></ol>\n"
            ],
            "text/markdown": "1. 1.2\n2. 1.4\n3. 2.4\n4. 3.1\n5. 1.2\n\n\n",
            "text/latex": "\\begin{enumerate*}\n\\item 1.2\n\\item 1.4\n\\item 2.4\n\\item 3.1\n\\item 1.2\n\\end{enumerate*}\n",
            "text/plain": [
              "[1] 1.2 1.4 2.4 3.1 1.2"
            ]
          },
          "metadata": {}
        }
      ]
    },
    {
      "cell_type": "code",
      "source": [
        ""
      ],
      "metadata": {
        "id": "OrWN_hC5TfED"
      },
      "execution_count": null,
      "outputs": []
    }
  ]
}