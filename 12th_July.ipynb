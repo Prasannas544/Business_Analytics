{
  "nbformat": 4,
  "nbformat_minor": 0,
  "metadata": {
    "colab": {
      "name": "12th_July.ipynb",
      "provenance": [],
      "authorship_tag": "ABX9TyMT8GNSkyPAvObOjBv2GHal",
      "include_colab_link": true
    },
    "kernelspec": {
      "name": "ir",
      "display_name": "R"
    },
    "language_info": {
      "name": "R"
    }
  },
  "cells": [
    {
      "cell_type": "markdown",
      "metadata": {
        "id": "view-in-github",
        "colab_type": "text"
      },
      "source": [
        "<a href=\"https://colab.research.google.com/github/Prasannas544/Business_Analytics/blob/main/12th_July.ipynb\" target=\"_parent\"><img src=\"https://colab.research.google.com/assets/colab-badge.svg\" alt=\"Open In Colab\"/></a>"
      ]
    },
    {
      "cell_type": "code",
      "execution_count": 1,
      "metadata": {
        "id": "ofgxXCUACELS"
      },
      "outputs": [],
      "source": [
        "#rbind and #cbind ,  Adding elements\n",
        "\n",
        "\n",
        "countries_data<-data.frame(country=c('Portugal','France','UK'),\n",
        "        population=c(10280000,66990000,66650000),\n",
        "        EU=c(TRUE,TRUE,FALSE)\n",
        ")"
      ]
    },
    {
      "cell_type": "code",
      "source": [
        "print(countries_data)"
      ],
      "metadata": {
        "colab": {
          "base_uri": "https://localhost:8080/"
        },
        "id": "tR-50wUOEUoF",
        "outputId": "b1abdbc3-bcdc-4087-a1bc-92919e97e754"
      },
      "execution_count": 2,
      "outputs": [
        {
          "output_type": "stream",
          "name": "stdout",
          "text": [
            "   country population    EU\n",
            "1 Portugal   10280000  TRUE\n",
            "2   France   66990000  TRUE\n",
            "3       UK   66650000 FALSE\n"
          ]
        }
      ]
    },
    {
      "cell_type": "code",
      "source": [
        "spain_data <- data.frame( country =c('Spain'),\n",
        "                          population=c(572615474),\n",
        "                          EU=c(TRUE)\n",
        "                        )"
      ],
      "metadata": {
        "id": "2kj3lcoPEW_B"
      },
      "execution_count": 3,
      "outputs": []
    },
    {
      "cell_type": "code",
      "source": [
        "print(spain_data)"
      ],
      "metadata": {
        "colab": {
          "base_uri": "https://localhost:8080/"
        },
        "id": "5cyfNIGxFCUu",
        "outputId": "b6e45117-d543-4835-80bc-d523c92746c6"
      },
      "execution_count": 4,
      "outputs": [
        {
          "output_type": "stream",
          "name": "stdout",
          "text": [
            "  country population   EU\n",
            "1   Spain  572615474 TRUE\n"
          ]
        }
      ]
    },
    {
      "cell_type": "code",
      "source": [
        "countries_data <- rbind(countries_data,spain_data)"
      ],
      "metadata": {
        "id": "ylfJwslUFFVC"
      },
      "execution_count": 6,
      "outputs": []
    },
    {
      "cell_type": "code",
      "source": [
        "print(countries_data)"
      ],
      "metadata": {
        "colab": {
          "base_uri": "https://localhost:8080/"
        },
        "id": "0FP84mFwFQdJ",
        "outputId": "d7ee5f46-2a62-4f90-81d1-3a9fd6a18a8f"
      },
      "execution_count": 7,
      "outputs": [
        {
          "output_type": "stream",
          "name": "stdout",
          "text": [
            "   country population    EU\n",
            "1 Portugal   10280000  TRUE\n",
            "2   France   66990000  TRUE\n",
            "3       UK   66650000 FALSE\n",
            "4    Spain  572615474  TRUE\n"
          ]
        }
      ]
    },
    {
      "cell_type": "code",
      "source": [
        "capitals <- c(\"Lisbon\",\"Paris\",\"London\",\"Madrid\");"
      ],
      "metadata": {
        "id": "Qhcz23HhFdm9"
      },
      "execution_count": 8,
      "outputs": []
    },
    {
      "cell_type": "code",
      "source": [
        "countries_data <- cbind(countries_data,capitals)"
      ],
      "metadata": {
        "id": "V-zyqy2uGDIs"
      },
      "execution_count": 10,
      "outputs": []
    },
    {
      "cell_type": "code",
      "source": [
        "print(countries_data)"
      ],
      "metadata": {
        "colab": {
          "base_uri": "https://localhost:8080/"
        },
        "id": "8X6Zfn-OGIV8",
        "outputId": "76478212-5b6e-433e-b94c-5fe1a7f44074"
      },
      "execution_count": 11,
      "outputs": [
        {
          "output_type": "stream",
          "name": "stdout",
          "text": [
            "   country population    EU capitals\n",
            "1 Portugal   10280000  TRUE   Lisbon\n",
            "2   France   66990000  TRUE    Paris\n",
            "3       UK   66650000 FALSE   London\n",
            "4    Spain  572615474  TRUE   Madrid\n"
          ]
        }
      ]
    },
    {
      "cell_type": "code",
      "source": [
        "str(countries_data)"
      ],
      "metadata": {
        "colab": {
          "base_uri": "https://localhost:8080/"
        },
        "id": "NViMKnG8GR_t",
        "outputId": "c58b628d-3fd2-4552-d4bb-664ca3b6a5bc"
      },
      "execution_count": 12,
      "outputs": [
        {
          "output_type": "stream",
          "name": "stdout",
          "text": [
            "'data.frame':\t4 obs. of  4 variables:\n",
            " $ country   : chr  \"Portugal\" \"France\" \"UK\" \"Spain\"\n",
            " $ population: num  1.03e+07 6.70e+07 6.66e+07 5.73e+08\n",
            " $ EU        : logi  TRUE TRUE FALSE TRUE\n",
            " $ capitals  : chr  \"Lisbon\" \"Paris\" \"London\" \"Madrid\"\n"
          ]
        }
      ]
    },
    {
      "cell_type": "code",
      "source": [
        ""
      ],
      "metadata": {
        "id": "fQfMtqB0GWEd"
      },
      "execution_count": null,
      "outputs": []
    }
  ]
}