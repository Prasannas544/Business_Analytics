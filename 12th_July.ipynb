{
  "nbformat": 4,
  "nbformat_minor": 0,
  "metadata": {
    "colab": {
      "name": "12th_July.ipynb",
      "provenance": [],
      "authorship_tag": "ABX9TyNmkzmebG00m8otoyauEaOT",
      "include_colab_link": true
    },
    "kernelspec": {
      "name": "ir",
      "display_name": "R"
    },
    "language_info": {
      "name": "R"
    }
  },
  "cells": [
    {
      "cell_type": "markdown",
      "metadata": {
        "id": "view-in-github",
        "colab_type": "text"
      },
      "source": [
        "<a href=\"https://colab.research.google.com/github/Prasannas544/Business_Analytics/blob/main/12th_July.ipynb\" target=\"_parent\"><img src=\"https://colab.research.google.com/assets/colab-badge.svg\" alt=\"Open In Colab\"/></a>"
      ]
    },
    {
      "cell_type": "code",
      "execution_count": 28,
      "metadata": {
        "id": "ofgxXCUACELS"
      },
      "outputs": [],
      "source": [
        "#rbind and #cbind ,  Adding elements\n",
        "\n",
        "\n",
        "countries_data<-data.frame(country=c('Portugal','France','UK'),\n",
        "        population=c(10280000,66990000,66650000),\n",
        "        EU=c(TRUE,TRUE,FALSE)\n",
        ")"
      ]
    },
    {
      "cell_type": "code",
      "source": [
        "print(countries_data)"
      ],
      "metadata": {
        "colab": {
          "base_uri": "https://localhost:8080/"
        },
        "id": "tR-50wUOEUoF",
        "outputId": "b1abdbc3-bcdc-4087-a1bc-92919e97e754"
      },
      "execution_count": 2,
      "outputs": [
        {
          "output_type": "stream",
          "name": "stdout",
          "text": [
            "   country population    EU\n",
            "1 Portugal   10280000  TRUE\n",
            "2   France   66990000  TRUE\n",
            "3       UK   66650000 FALSE\n"
          ]
        }
      ]
    },
    {
      "cell_type": "code",
      "source": [
        "spain_data <- data.frame( country =c('Spain'),\n",
        "                          population=c(572615474),\n",
        "                          EU=c(TRUE)\n",
        "                        )"
      ],
      "metadata": {
        "id": "2kj3lcoPEW_B"
      },
      "execution_count": 29,
      "outputs": []
    },
    {
      "cell_type": "code",
      "source": [
        "print(spain_data)"
      ],
      "metadata": {
        "colab": {
          "base_uri": "https://localhost:8080/"
        },
        "id": "5cyfNIGxFCUu",
        "outputId": "b6e45117-d543-4835-80bc-d523c92746c6"
      },
      "execution_count": 4,
      "outputs": [
        {
          "output_type": "stream",
          "name": "stdout",
          "text": [
            "  country population   EU\n",
            "1   Spain  572615474 TRUE\n"
          ]
        }
      ]
    },
    {
      "cell_type": "code",
      "source": [
        "countries_data <- rbind(countries_data,spain_data)"
      ],
      "metadata": {
        "id": "ylfJwslUFFVC"
      },
      "execution_count": 30,
      "outputs": []
    },
    {
      "cell_type": "code",
      "source": [
        "print(countries_data)"
      ],
      "metadata": {
        "colab": {
          "base_uri": "https://localhost:8080/"
        },
        "id": "0FP84mFwFQdJ",
        "outputId": "d7ee5f46-2a62-4f90-81d1-3a9fd6a18a8f"
      },
      "execution_count": 7,
      "outputs": [
        {
          "output_type": "stream",
          "name": "stdout",
          "text": [
            "   country population    EU\n",
            "1 Portugal   10280000  TRUE\n",
            "2   France   66990000  TRUE\n",
            "3       UK   66650000 FALSE\n",
            "4    Spain  572615474  TRUE\n"
          ]
        }
      ]
    },
    {
      "cell_type": "code",
      "source": [
        "capitals <- c(\"Lisbon\",\"Paris\",\"London\",\"Madrid\");"
      ],
      "metadata": {
        "id": "Qhcz23HhFdm9"
      },
      "execution_count": 8,
      "outputs": []
    },
    {
      "cell_type": "code",
      "source": [
        "countries_data <- cbind(countries_data,capitals)"
      ],
      "metadata": {
        "id": "V-zyqy2uGDIs"
      },
      "execution_count": 10,
      "outputs": []
    },
    {
      "cell_type": "code",
      "source": [
        "print(countries_data)"
      ],
      "metadata": {
        "colab": {
          "base_uri": "https://localhost:8080/"
        },
        "id": "8X6Zfn-OGIV8",
        "outputId": "76478212-5b6e-433e-b94c-5fe1a7f44074"
      },
      "execution_count": 11,
      "outputs": [
        {
          "output_type": "stream",
          "name": "stdout",
          "text": [
            "   country population    EU capitals\n",
            "1 Portugal   10280000  TRUE   Lisbon\n",
            "2   France   66990000  TRUE    Paris\n",
            "3       UK   66650000 FALSE   London\n",
            "4    Spain  572615474  TRUE   Madrid\n"
          ]
        }
      ]
    },
    {
      "cell_type": "code",
      "source": [
        "str(countries_data)"
      ],
      "metadata": {
        "colab": {
          "base_uri": "https://localhost:8080/"
        },
        "id": "NViMKnG8GR_t",
        "outputId": "c58b628d-3fd2-4552-d4bb-664ca3b6a5bc"
      },
      "execution_count": 12,
      "outputs": [
        {
          "output_type": "stream",
          "name": "stdout",
          "text": [
            "'data.frame':\t4 obs. of  4 variables:\n",
            " $ country   : chr  \"Portugal\" \"France\" \"UK\" \"Spain\"\n",
            " $ population: num  1.03e+07 6.70e+07 6.66e+07 5.73e+08\n",
            " $ EU        : logi  TRUE TRUE FALSE TRUE\n",
            " $ capitals  : chr  \"Lisbon\" \"Paris\" \"London\" \"Madrid\"\n"
          ]
        }
      ]
    },
    {
      "cell_type": "code",
      "source": [
        "#Removing elements from dataframe\n",
        "countries_data <- countries_data[c(-2,-4),]"
      ],
      "metadata": {
        "id": "fQfMtqB0GWEd"
      },
      "execution_count": 32,
      "outputs": []
    },
    {
      "cell_type": "code",
      "source": [
        "print(countries_data)"
      ],
      "metadata": {
        "colab": {
          "base_uri": "https://localhost:8080/"
        },
        "id": "5fchgU8OH1rg",
        "outputId": "d4b14a91-eeda-4d9f-ec4e-b7fba019d81f"
      },
      "execution_count": 33,
      "outputs": [
        {
          "output_type": "stream",
          "name": "stdout",
          "text": [
            "   country population    EU\n",
            "1 Portugal   10280000  TRUE\n",
            "3       UK   66650000 FALSE\n"
          ]
        }
      ]
    },
    {
      "cell_type": "code",
      "source": [
        "countries_data[,'EU']<-NULL # removing columns"
      ],
      "metadata": {
        "id": "oD_RqkyFIPRi"
      },
      "execution_count": 19,
      "outputs": []
    },
    {
      "cell_type": "code",
      "source": [
        "print(countries_data)"
      ],
      "metadata": {
        "colab": {
          "base_uri": "https://localhost:8080/"
        },
        "id": "q5kAJKiTIrbY",
        "outputId": "ac07afc0-c50f-4240-fc19-583d166898b2"
      },
      "execution_count": 23,
      "outputs": [
        {
          "output_type": "stream",
          "name": "stdout",
          "text": [
            "   country population capitals\n",
            "1 Portugal   10280000   Lisbon\n",
            "2   France   66990000    Paris\n"
          ]
        }
      ]
    },
    {
      "cell_type": "code",
      "source": [
        "summary(countries_data)\n"
      ],
      "metadata": {
        "colab": {
          "base_uri": "https://localhost:8080/",
          "height": 145
        },
        "id": "b3xhXgh5I-4G",
        "outputId": "f08ecac9-002d-4e5d-c4ba-d0fd6166e0c5"
      },
      "execution_count": 26,
      "outputs": [
        {
          "output_type": "display_data",
          "data": {
            "text/plain": [
              "   country            population         capitals        \n",
              " Length:2           Min.   :10280000   Length:2          \n",
              " Class :character   1st Qu.:24457500   Class :character  \n",
              " Mode  :character   Median :38635000   Mode  :character  \n",
              "                    Mean   :38635000                     \n",
              "                    3rd Qu.:52812500                     \n",
              "                    Max.   :66990000                     "
            ]
          },
          "metadata": {}
        }
      ]
    },
    {
      "cell_type": "markdown",
      "source": [
        "Lists"
      ],
      "metadata": {
        "id": "jI50IkiaMLtT"
      }
    },
    {
      "cell_type": "code",
      "source": [
        "#Create lists \n",
        "vec=c(1,2,\"3\")\n",
        "typeof(vec)"
      ],
      "metadata": {
        "colab": {
          "base_uri": "https://localhost:8080/",
          "height": 34
        },
        "id": "bi0NpfwIMNov",
        "outputId": "2478167f-2402-473d-d2d7-159cafb10b27"
      },
      "execution_count": 35,
      "outputs": [
        {
          "output_type": "display_data",
          "data": {
            "text/html": [
              "'character'"
            ],
            "text/markdown": "'character'",
            "text/latex": "'character'",
            "text/plain": [
              "[1] \"character\""
            ]
          },
          "metadata": {}
        }
      ]
    },
    {
      "cell_type": "code",
      "source": [
        "my_list=list(1,2,\"3\")"
      ],
      "metadata": {
        "id": "pGZ6ZfpMMXV2"
      },
      "execution_count": 36,
      "outputs": []
    },
    {
      "cell_type": "code",
      "source": [
        "typeof(my_list)"
      ],
      "metadata": {
        "colab": {
          "base_uri": "https://localhost:8080/",
          "height": 34
        },
        "id": "KpO3U4TAMndq",
        "outputId": "5e710fdd-d8c1-496d-d99d-da7c17a589cc"
      },
      "execution_count": 37,
      "outputs": [
        {
          "output_type": "display_data",
          "data": {
            "text/html": [
              "'list'"
            ],
            "text/markdown": "'list'",
            "text/latex": "'list'",
            "text/plain": [
              "[1] \"list\""
            ]
          },
          "metadata": {}
        }
      ]
    },
    {
      "cell_type": "code",
      "source": [
        "multi_object <- list(\n",
        "                      c(1,2,3),\n",
        "                      array(1:4,dim=c(2,2)),\n",
        "                      TRUE\n",
        "\n",
        "                    )"
      ],
      "metadata": {
        "id": "TyuwBbKjMp4j"
      },
      "execution_count": 38,
      "outputs": []
    },
    {
      "cell_type": "code",
      "source": [
        "print(multi_object)"
      ],
      "metadata": {
        "colab": {
          "base_uri": "https://localhost:8080/"
        },
        "id": "W8lWpIJIM9YO",
        "outputId": "545b23b9-e6f6-4364-9977-6aa747982db1"
      },
      "execution_count": 39,
      "outputs": [
        {
          "output_type": "stream",
          "name": "stdout",
          "text": [
            "[[1]]\n",
            "[1] 1 2 3\n",
            "\n",
            "[[2]]\n",
            "     [,1] [,2]\n",
            "[1,]    1    3\n",
            "[2,]    2    4\n",
            "\n",
            "[[3]]\n",
            "[1] TRUE\n",
            "\n"
          ]
        }
      ]
    },
    {
      "cell_type": "code",
      "source": [
        "#Names property \n",
        "names(multi_object) <- c(\"Vector\",\"Array\",\"Logical\")"
      ],
      "metadata": {
        "id": "wy69CW5UM_0F"
      },
      "execution_count": 40,
      "outputs": []
    },
    {
      "cell_type": "code",
      "source": [
        "print(multi_object)"
      ],
      "metadata": {
        "colab": {
          "base_uri": "https://localhost:8080/"
        },
        "id": "BdGN_W8GNSjL",
        "outputId": "4793a469-13a6-49fd-826c-005e3b783081"
      },
      "execution_count": 41,
      "outputs": [
        {
          "output_type": "stream",
          "name": "stdout",
          "text": [
            "$Vector\n",
            "[1] 1 2 3\n",
            "\n",
            "$Array\n",
            "     [,1] [,2]\n",
            "[1,]    1    3\n",
            "[2,]    2    4\n",
            "\n",
            "$Logical\n",
            "[1] TRUE\n",
            "\n"
          ]
        }
      ]
    },
    {
      "cell_type": "code",
      "source": [
        "length(multi_object)"
      ],
      "metadata": {
        "colab": {
          "base_uri": "https://localhost:8080/",
          "height": 34
        },
        "id": "ka9-HGL2NUoU",
        "outputId": "5db4293d-d874-42c9-91c9-6173b1c6b9f0"
      },
      "execution_count": 42,
      "outputs": [
        {
          "output_type": "display_data",
          "data": {
            "text/html": [
              "3"
            ],
            "text/markdown": "3",
            "text/latex": "3",
            "text/plain": [
              "[1] 3"
            ]
          },
          "metadata": {}
        }
      ]
    },
    {
      "cell_type": "code",
      "source": [
        "str(multi_object)"
      ],
      "metadata": {
        "colab": {
          "base_uri": "https://localhost:8080/"
        },
        "id": "N2GhvdoGNap3",
        "outputId": "c56a975d-733a-4cc5-a2da-d6fad0b9e50b"
      },
      "execution_count": 43,
      "outputs": [
        {
          "output_type": "stream",
          "name": "stdout",
          "text": [
            "List of 3\n",
            " $ Vector : num [1:3] 1 2 3\n",
            " $ Array  : int [1:2, 1:2] 1 2 3 4\n",
            " $ Logical: logi TRUE\n"
          ]
        }
      ]
    },
    {
      "cell_type": "code",
      "source": [
        "#Assigning names automatically \n",
        "multi_obj <-list(\n",
        "\n",
        "\"Vector\"=c(1,3,5,7),\n",
        "\"Array\"=array(1:4,dim=c(2,2)),\n",
        "\"Boolean\"= c(TRUE,FALSE)\n",
        "\n",
        "\n",
        ")"
      ],
      "metadata": {
        "id": "qTtZjQWiNfJK"
      },
      "execution_count": 44,
      "outputs": []
    },
    {
      "cell_type": "code",
      "source": [
        "print(multi_obj)"
      ],
      "metadata": {
        "colab": {
          "base_uri": "https://localhost:8080/"
        },
        "id": "mZQzPxyCOI4f",
        "outputId": "98011b50-4c73-4453-c4a8-01c62c97a37d"
      },
      "execution_count": 45,
      "outputs": [
        {
          "output_type": "stream",
          "name": "stdout",
          "text": [
            "$Vector\n",
            "[1] 1 3 5 7\n",
            "\n",
            "$Array\n",
            "     [,1] [,2]\n",
            "[1,]    1    3\n",
            "[2,]    2    4\n",
            "\n",
            "$Boolean\n",
            "[1]  TRUE FALSE\n",
            "\n"
          ]
        }
      ]
    },
    {
      "cell_type": "code",
      "source": [
        ""
      ],
      "metadata": {
        "id": "Y8slDLyuOKpF"
      },
      "execution_count": null,
      "outputs": []
    }
  ]
}