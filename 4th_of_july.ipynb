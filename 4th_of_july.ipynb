{
  "nbformat": 4,
  "nbformat_minor": 0,
  "metadata": {
    "colab": {
      "name": "4th_of_july.ipynb",
      "provenance": [],
      "authorship_tag": "ABX9TyOr7Jj6d6qnG7kw6SZrtbqK",
      "include_colab_link": true
    },
    "kernelspec": {
      "name": "ir",
      "display_name": "R"
    },
    "language_info": {
      "name": "R"
    }
  },
  "cells": [
    {
      "cell_type": "markdown",
      "metadata": {
        "id": "view-in-github",
        "colab_type": "text"
      },
      "source": [
        "<a href=\"https://colab.research.google.com/github/Prasannas544/Business_Analytics/blob/main/4th_of_july.ipynb\" target=\"_parent\"><img src=\"https://colab.research.google.com/assets/colab-badge.svg\" alt=\"Open In Colab\"/></a>"
      ]
    },
    {
      "cell_type": "markdown",
      "source": [
        "Creating a vector"
      ],
      "metadata": {
        "id": "m3h388tUCQaw"
      }
    },
    {
      "cell_type": "code",
      "execution_count": 3,
      "metadata": {
        "id": "pBw6VJpEAR7L"
      },
      "outputs": [],
      "source": [
        "a=c(11,2,3,4,5)"
      ]
    },
    {
      "cell_type": "code",
      "source": [
        "print(a)"
      ],
      "metadata": {
        "colab": {
          "base_uri": "https://localhost:8080/"
        },
        "id": "eE3oB3arA1bg",
        "outputId": "8737b71a-728c-4ae3-b573-ffbdb4eb0a15"
      },
      "execution_count": 4,
      "outputs": [
        {
          "output_type": "stream",
          "name": "stdout",
          "text": [
            "[1] 11  2  3  4  5\n"
          ]
        }
      ]
    },
    {
      "cell_type": "code",
      "source": [
        "assign(\"b\",c(1,2,4,5))"
      ],
      "metadata": {
        "id": "58R-OrWpA-_b"
      },
      "execution_count": 5,
      "outputs": []
    },
    {
      "cell_type": "code",
      "source": [
        "print(b)"
      ],
      "metadata": {
        "colab": {
          "base_uri": "https://localhost:8080/"
        },
        "id": "Td4dPu_fBEBh",
        "outputId": "a6fba113-0ba0-4dce-ca62-7268d6d4570e"
      },
      "execution_count": 7,
      "outputs": [
        {
          "output_type": "stream",
          "name": "stdout",
          "text": [
            "[1] 1 2 4 5\n"
          ]
        }
      ]
    },
    {
      "cell_type": "code",
      "source": [
        " c <- 5:10"
      ],
      "metadata": {
        "id": "QJnS1ClmBExd"
      },
      "execution_count": 19,
      "outputs": []
    },
    {
      "cell_type": "code",
      "source": [
        "print(c)"
      ],
      "metadata": {
        "colab": {
          "base_uri": "https://localhost:8080/"
        },
        "id": "Fmfk5FCSBJBu",
        "outputId": "cbc06d98-6951-4dc9-88d9-0ed97d0a7d91"
      },
      "execution_count": 20,
      "outputs": [
        {
          "output_type": "stream",
          "name": "stdout",
          "text": [
            "[1]  5  6  7  8  9 10\n"
          ]
        }
      ]
    },
    {
      "cell_type": "code",
      "source": [
        "d <- seq(4,40,4)"
      ],
      "metadata": {
        "id": "DwWjXMhDBKlJ"
      },
      "execution_count": 12,
      "outputs": []
    },
    {
      "cell_type": "code",
      "source": [
        "d"
      ],
      "metadata": {
        "colab": {
          "base_uri": "https://localhost:8080/",
          "height": 34
        },
        "id": "xp_7L_RkB010",
        "outputId": "3f5122f6-004a-455b-8e06-ee9709084422"
      },
      "execution_count": 13,
      "outputs": [
        {
          "output_type": "display_data",
          "data": {
            "text/html": [
              "<style>\n",
              ".list-inline {list-style: none; margin:0; padding: 0}\n",
              ".list-inline>li {display: inline-block}\n",
              ".list-inline>li:not(:last-child)::after {content: \"\\00b7\"; padding: 0 .5ex}\n",
              "</style>\n",
              "<ol class=list-inline><li>4</li><li>8</li><li>12</li><li>16</li><li>20</li><li>24</li><li>28</li><li>32</li><li>36</li><li>40</li></ol>\n"
            ],
            "text/markdown": "1. 4\n2. 8\n3. 12\n4. 16\n5. 20\n6. 24\n7. 28\n8. 32\n9. 36\n10. 40\n\n\n",
            "text/latex": "\\begin{enumerate*}\n\\item 4\n\\item 8\n\\item 12\n\\item 16\n\\item 20\n\\item 24\n\\item 28\n\\item 32\n\\item 36\n\\item 40\n\\end{enumerate*}\n",
            "text/plain": [
              " [1]  4  8 12 16 20 24 28 32 36 40"
            ]
          },
          "metadata": {}
        }
      ]
    },
    {
      "cell_type": "code",
      "source": [
        "e<-rep(1:3,times=5)"
      ],
      "metadata": {
        "id": "zVOoKBEIB1P0"
      },
      "execution_count": 15,
      "outputs": []
    },
    {
      "cell_type": "code",
      "source": [
        "e"
      ],
      "metadata": {
        "colab": {
          "base_uri": "https://localhost:8080/",
          "height": 34
        },
        "id": "7ENGECzMB8_W",
        "outputId": "8373eb88-9111-4a3c-e751-628ca04ca64e"
      },
      "execution_count": 16,
      "outputs": [
        {
          "output_type": "display_data",
          "data": {
            "text/html": [
              "<style>\n",
              ".list-inline {list-style: none; margin:0; padding: 0}\n",
              ".list-inline>li {display: inline-block}\n",
              ".list-inline>li:not(:last-child)::after {content: \"\\00b7\"; padding: 0 .5ex}\n",
              "</style>\n",
              "<ol class=list-inline><li>1</li><li>2</li><li>3</li><li>1</li><li>2</li><li>3</li><li>1</li><li>2</li><li>3</li><li>1</li><li>2</li><li>3</li><li>1</li><li>2</li><li>3</li></ol>\n"
            ],
            "text/markdown": "1. 1\n2. 2\n3. 3\n4. 1\n5. 2\n6. 3\n7. 1\n8. 2\n9. 3\n10. 1\n11. 2\n12. 3\n13. 1\n14. 2\n15. 3\n\n\n",
            "text/latex": "\\begin{enumerate*}\n\\item 1\n\\item 2\n\\item 3\n\\item 1\n\\item 2\n\\item 3\n\\item 1\n\\item 2\n\\item 3\n\\item 1\n\\item 2\n\\item 3\n\\item 1\n\\item 2\n\\item 3\n\\end{enumerate*}\n",
            "text/plain": [
              " [1] 1 2 3 1 2 3 1 2 3 1 2 3 1 2 3"
            ]
          },
          "metadata": {}
        }
      ]
    },
    {
      "cell_type": "code",
      "source": [
        "melons <- c(3.4,3.1,3,4.5)"
      ],
      "metadata": {
        "id": "0-B4WMc2B-ed"
      },
      "execution_count": 32,
      "outputs": []
    },
    {
      "cell_type": "code",
      "source": [
        "melons       "
      ],
      "metadata": {
        "colab": {
          "base_uri": "https://localhost:8080/",
          "height": 34
        },
        "id": "OqYHWqkADvFK",
        "outputId": "86e9afbe-5b04-4c81-ac58-e49d586fec3c"
      },
      "execution_count": 33,
      "outputs": [
        {
          "output_type": "display_data",
          "data": {
            "text/html": [
              "<style>\n",
              ".list-inline {list-style: none; margin:0; padding: 0}\n",
              ".list-inline>li {display: inline-block}\n",
              ".list-inline>li:not(:last-child)::after {content: \"\\00b7\"; padding: 0 .5ex}\n",
              "</style>\n",
              "<ol class=list-inline><li>3.4</li><li>3.1</li><li>3</li><li>4.5</li></ol>\n"
            ],
            "text/markdown": "1. 3.4\n2. 3.1\n3. 3\n4. 4.5\n\n\n",
            "text/latex": "\\begin{enumerate*}\n\\item 3.4\n\\item 3.1\n\\item 3\n\\item 4.5\n\\end{enumerate*}\n",
            "text/plain": [
              "[1] 3.4 3.1 3.0 4.5"
            ]
          },
          "metadata": {}
        }
      ]
    },
    {
      "cell_type": "code",
      "source": [
        "sum(melons)     # weight1 +weight2 +weight3 +weight4      # melons[1]+melons[3]+melons[4]"
      ],
      "metadata": {
        "colab": {
          "base_uri": "https://localhost:8080/",
          "height": 34
        },
        "id": "RfUyXIYdFrFd",
        "outputId": "abf9e97d-7fe8-4a5c-e81a-4576fa78f7ff"
      },
      "execution_count": 40,
      "outputs": [
        {
          "output_type": "display_data",
          "data": {
            "text/html": [
              "14"
            ],
            "text/markdown": "14",
            "text/latex": "14",
            "text/plain": [
              "[1] 14"
            ]
          },
          "metadata": {}
        }
      ]
    },
    {
      "cell_type": "code",
      "source": [
        "rm(melons)"
      ],
      "metadata": {
        "colab": {
          "base_uri": "https://localhost:8080/"
        },
        "id": "kWqkzskHDry-",
        "outputId": "98834511-aa1c-4922-bfa3-cf883db5a1d8"
      },
      "execution_count": 30,
      "outputs": [
        {
          "output_type": "stream",
          "name": "stderr",
          "text": [
            "Warning message in rm(melons):\n",
            "“object 'melons' not found”\n"
          ]
        }
      ]
    },
    {
      "cell_type": "code",
      "source": [
        "cities_population <- c(1000,2000,400,3000)"
      ],
      "metadata": {
        "id": "GrlCeNQXEQu9"
      },
      "execution_count": 34,
      "outputs": []
    },
    {
      "cell_type": "code",
      "source": [
        "typeof(cities_population)"
      ],
      "metadata": {
        "colab": {
          "base_uri": "https://localhost:8080/",
          "height": 34
        },
        "id": "oRutYU6EEZ0j",
        "outputId": "30af2140-06f1-4612-89e5-72a75e7b33b4"
      },
      "execution_count": 35,
      "outputs": [
        {
          "output_type": "display_data",
          "data": {
            "text/html": [
              "'double'"
            ],
            "text/markdown": "'double'",
            "text/latex": "'double'",
            "text/plain": [
              "[1] \"double\""
            ]
          },
          "metadata": {}
        }
      ]
    },
    {
      "cell_type": "code",
      "source": [
        "char_cities_population <- c(1000,2000,400,'3000')"
      ],
      "metadata": {
        "id": "YTpIU8LWEqqB"
      },
      "execution_count": 36,
      "outputs": []
    },
    {
      "cell_type": "code",
      "source": [
        "typeof(char_cities_population)"
      ],
      "metadata": {
        "colab": {
          "base_uri": "https://localhost:8080/",
          "height": 34
        },
        "id": "Sg_6EdM_E3O-",
        "outputId": "90541da3-4930-4bd9-caaf-0874646d74aa"
      },
      "execution_count": 37,
      "outputs": [
        {
          "output_type": "display_data",
          "data": {
            "text/html": [
              "'character'"
            ],
            "text/markdown": "'character'",
            "text/latex": "'character'",
            "text/plain": [
              "[1] \"character\""
            ]
          },
          "metadata": {}
        }
      ]
    },
    {
      "cell_type": "code",
      "source": [
        "sum(cities_population)"
      ],
      "metadata": {
        "colab": {
          "base_uri": "https://localhost:8080/",
          "height": 34
        },
        "id": "yWnHHekRFTUE",
        "outputId": "0c7005c6-ac3e-45e9-a8a9-eef2e0f78bd7"
      },
      "execution_count": 38,
      "outputs": [
        {
          "output_type": "display_data",
          "data": {
            "text/html": [
              "6400"
            ],
            "text/markdown": "6400",
            "text/latex": "6400",
            "text/plain": [
              "[1] 6400"
            ]
          },
          "metadata": {}
        }
      ]
    },
    {
      "cell_type": "code",
      "source": [
        "sum(char_cities_population)"
      ],
      "metadata": {
        "colab": {
          "base_uri": "https://localhost:8080/",
          "height": 98
        },
        "id": "FCFs_DeZFgmy",
        "outputId": "cc7f2e41-ec7e-46b6-ccc9-5d18c02011eb"
      },
      "execution_count": 39,
      "outputs": [
        {
          "output_type": "error",
          "ename": "ERROR",
          "evalue": "ignored",
          "traceback": [
            "Error in sum(char_cities_population): invalid 'type' (character) of argument\nTraceback:\n"
          ]
        }
      ]
    },
    {
      "cell_type": "markdown",
      "source": [
        "Vectors indexing and slicing\n"
      ],
      "metadata": {
        "id": "AK3t2xN4GWsR"
      }
    },
    {
      "cell_type": "code",
      "source": [
        "melons=c(1.2,4.8,2.4,3.4)"
      ],
      "metadata": {
        "id": "uYZroMMGFkAK"
      },
      "execution_count": 103,
      "outputs": []
    },
    {
      "cell_type": "code",
      "source": [
        "melons[2] # indexing by position"
      ],
      "metadata": {
        "colab": {
          "base_uri": "https://localhost:8080/",
          "height": 34
        },
        "id": "CeGK9i8zGqvP",
        "outputId": "0312c449-061e-4496-f8d4-f86d6e5e6205"
      },
      "execution_count": 42,
      "outputs": [
        {
          "output_type": "display_data",
          "data": {
            "text/html": [
              "1.4"
            ],
            "text/markdown": "1.4",
            "text/latex": "1.4",
            "text/plain": [
              "[1] 1.4"
            ]
          },
          "metadata": {}
        }
      ]
    },
    {
      "cell_type": "code",
      "source": [
        "melons[5]"
      ],
      "metadata": {
        "colab": {
          "base_uri": "https://localhost:8080/",
          "height": 34
        },
        "id": "RlHyjLrHG1n0",
        "outputId": "0652e7ce-904a-47e6-fc4b-8d2ee3e7bbc7"
      },
      "execution_count": 43,
      "outputs": [
        {
          "output_type": "display_data",
          "data": {
            "text/html": [
              "&lt;NA&gt;"
            ],
            "text/markdown": "&lt;NA&gt;",
            "text/latex": "<NA>",
            "text/plain": [
              "[1] NA"
            ]
          },
          "metadata": {}
        }
      ]
    },
    {
      "cell_type": "code",
      "source": [
        "melons[2:4]  # indexing using slicing "
      ],
      "metadata": {
        "colab": {
          "base_uri": "https://localhost:8080/",
          "height": 34
        },
        "id": "NMSu0kNKG7Ya",
        "outputId": "e2891ccc-3760-42f2-8097-94d9f5b0aa9a"
      },
      "execution_count": 44,
      "outputs": [
        {
          "output_type": "display_data",
          "data": {
            "text/html": [
              "<style>\n",
              ".list-inline {list-style: none; margin:0; padding: 0}\n",
              ".list-inline>li {display: inline-block}\n",
              ".list-inline>li:not(:last-child)::after {content: \"\\00b7\"; padding: 0 .5ex}\n",
              "</style>\n",
              "<ol class=list-inline><li>1.4</li><li>2.4</li><li>3.4</li></ol>\n"
            ],
            "text/markdown": "1. 1.4\n2. 2.4\n3. 3.4\n\n\n",
            "text/latex": "\\begin{enumerate*}\n\\item 1.4\n\\item 2.4\n\\item 3.4\n\\end{enumerate*}\n",
            "text/plain": [
              "[1] 1.4 2.4 3.4"
            ]
          },
          "metadata": {}
        }
      ]
    },
    {
      "cell_type": "code",
      "source": [
        "melons[c(1,4)]"
      ],
      "metadata": {
        "colab": {
          "base_uri": "https://localhost:8080/",
          "height": 34
        },
        "id": "f0RLmOfzHDlY",
        "outputId": "f5f45dc5-7d46-4976-ef12-094d5cb12754"
      },
      "execution_count": 47,
      "outputs": [
        {
          "output_type": "display_data",
          "data": {
            "text/html": [
              "<style>\n",
              ".list-inline {list-style: none; margin:0; padding: 0}\n",
              ".list-inline>li {display: inline-block}\n",
              ".list-inline>li:not(:last-child)::after {content: \"\\00b7\"; padding: 0 .5ex}\n",
              "</style>\n",
              "<ol class=list-inline><li>1.2</li><li>3.4</li></ol>\n"
            ],
            "text/markdown": "1. 1.2\n2. 3.4\n\n\n",
            "text/latex": "\\begin{enumerate*}\n\\item 1.2\n\\item 3.4\n\\end{enumerate*}\n",
            "text/plain": [
              "[1] 1.2 3.4"
            ]
          },
          "metadata": {}
        }
      ]
    },
    {
      "cell_type": "code",
      "source": [
        "melons[1]+ melons[2]+melons[3]+melons[4]   # not suitable for 100 elements"
      ],
      "metadata": {
        "colab": {
          "base_uri": "https://localhost:8080/",
          "height": 34
        },
        "id": "9pTNRAmvHzwl",
        "outputId": "4d5b627b-67b2-4b88-cac6-89a24eb0fee0"
      },
      "execution_count": 48,
      "outputs": [
        {
          "output_type": "display_data",
          "data": {
            "text/html": [
              "8.4"
            ],
            "text/markdown": "8.4",
            "text/latex": "8.4",
            "text/plain": [
              "[1] 8.4"
            ]
          },
          "metadata": {}
        }
      ]
    },
    {
      "cell_type": "code",
      "source": [
        "sum(melons)  # returns a single value"
      ],
      "metadata": {
        "colab": {
          "base_uri": "https://localhost:8080/",
          "height": 34
        },
        "id": "lvPkBRppH4Bv",
        "outputId": "bd7414f0-bb7d-499e-c0ae-85d683c81049"
      },
      "execution_count": 49,
      "outputs": [
        {
          "output_type": "display_data",
          "data": {
            "text/html": [
              "8.4"
            ],
            "text/markdown": "8.4",
            "text/latex": "8.4",
            "text/plain": [
              "[1] 8.4"
            ]
          },
          "metadata": {}
        }
      ]
    },
    {
      "cell_type": "code",
      "source": [
        "#problem when weighing , the melons have only half the weight \n",
        "melons/2"
      ],
      "metadata": {
        "colab": {
          "base_uri": "https://localhost:8080/",
          "height": 34
        },
        "id": "fxfO63SbH5gw",
        "outputId": "7e82de04-b308-496e-db69-dfdfd08843cd"
      },
      "execution_count": 61,
      "outputs": [
        {
          "output_type": "display_data",
          "data": {
            "text/html": [
              "<style>\n",
              ".list-inline {list-style: none; margin:0; padding: 0}\n",
              ".list-inline>li {display: inline-block}\n",
              ".list-inline>li:not(:last-child)::after {content: \"\\00b7\"; padding: 0 .5ex}\n",
              "</style>\n",
              "<ol class=list-inline><li>0.6</li><li>0.7</li><li>1.2</li><li>1.7</li></ol>\n"
            ],
            "text/markdown": "1. 0.6\n2. 0.7\n3. 1.2\n4. 1.7\n\n\n",
            "text/latex": "\\begin{enumerate*}\n\\item 0.6\n\\item 0.7\n\\item 1.2\n\\item 1.7\n\\end{enumerate*}\n",
            "text/plain": [
              "[1] 0.6 0.7 1.2 1.7"
            ]
          },
          "metadata": {}
        }
      ]
    },
    {
      "cell_type": "code",
      "source": [
        "melons"
      ],
      "metadata": {
        "colab": {
          "base_uri": "https://localhost:8080/",
          "height": 34
        },
        "id": "lF9ldbmnJRz6",
        "outputId": "5ef98f2a-89ce-41a0-e301-1e1a897ae974"
      },
      "execution_count": 72,
      "outputs": [
        {
          "output_type": "display_data",
          "data": {
            "text/html": [
              "<style>\n",
              ".list-inline {list-style: none; margin:0; padding: 0}\n",
              ".list-inline>li {display: inline-block}\n",
              ".list-inline>li:not(:last-child)::after {content: \"\\00b7\"; padding: 0 .5ex}\n",
              "</style>\n",
              "<ol class=list-inline><li>1.2</li><li>1.4</li><li>2.4</li><li>3.4</li></ol>\n"
            ],
            "text/markdown": "1. 1.2\n2. 1.4\n3. 2.4\n4. 3.4\n\n\n",
            "text/latex": "\\begin{enumerate*}\n\\item 1.2\n\\item 1.4\n\\item 2.4\n\\item 3.4\n\\end{enumerate*}\n",
            "text/plain": [
              "[1] 1.2 1.4 2.4 3.4"
            ]
          },
          "metadata": {}
        }
      ]
    },
    {
      "cell_type": "code",
      "source": [
        "# problem when weighing , the melons have double the weight \n",
        "melons*2"
      ],
      "metadata": {
        "colab": {
          "base_uri": "https://localhost:8080/",
          "height": 34
        },
        "id": "mQnr1OczJJMu",
        "outputId": "ba369bcc-4c1b-49da-8fd0-ab12d479c5fa"
      },
      "execution_count": 62,
      "outputs": [
        {
          "output_type": "display_data",
          "data": {
            "text/html": [
              "<style>\n",
              ".list-inline {list-style: none; margin:0; padding: 0}\n",
              ".list-inline>li {display: inline-block}\n",
              ".list-inline>li:not(:last-child)::after {content: \"\\00b7\"; padding: 0 .5ex}\n",
              "</style>\n",
              "<ol class=list-inline><li>2.4</li><li>2.8</li><li>4.8</li><li>6.8</li></ol>\n"
            ],
            "text/markdown": "1. 2.4\n2. 2.8\n3. 4.8\n4. 6.8\n\n\n",
            "text/latex": "\\begin{enumerate*}\n\\item 2.4\n\\item 2.8\n\\item 4.8\n\\item 6.8\n\\end{enumerate*}\n",
            "text/plain": [
              "[1] 2.4 2.8 4.8 6.8"
            ]
          },
          "metadata": {}
        }
      ]
    },
    {
      "cell_type": "code",
      "source": [
        "adjustments=c(0.4,0.3,0.2,0.7)"
      ],
      "metadata": {
        "id": "t0U6RehXJwzP"
      },
      "execution_count": 87,
      "outputs": []
    },
    {
      "cell_type": "code",
      "source": [
        "new_melons = melons*adjustments # stored the calcualted vector"
      ],
      "metadata": {
        "colab": {
          "base_uri": "https://localhost:8080/"
        },
        "id": "fDDp3386KXE6",
        "outputId": "096d36b5-705a-4366-92ea-5cac9adb7f42"
      },
      "execution_count": 85,
      "outputs": [
        {
          "output_type": "stream",
          "name": "stderr",
          "text": [
            "Warning message in melons * adjustments:\n",
            "“longer object length is not a multiple of shorter object length”\n"
          ]
        }
      ]
    },
    {
      "cell_type": "code",
      "source": [
        "new_melons"
      ],
      "metadata": {
        "colab": {
          "base_uri": "https://localhost:8080/",
          "height": 34
        },
        "id": "JjzmMChyKfyx",
        "outputId": "a4b6bcc7-dd1c-4a7e-d5cf-573ec1be4d19"
      },
      "execution_count": 86,
      "outputs": [
        {
          "output_type": "display_data",
          "data": {
            "text/html": [
              "<style>\n",
              ".list-inline {list-style: none; margin:0; padding: 0}\n",
              ".list-inline>li {display: inline-block}\n",
              ".list-inline>li:not(:last-child)::after {content: \"\\00b7\"; padding: 0 .5ex}\n",
              "</style>\n",
              "<ol class=list-inline><li>0.48</li><li>0.42</li><li>0.48</li><li>2.38</li><li>1.32</li></ol>\n"
            ],
            "text/markdown": "1. 0.48\n2. 0.42\n3. 0.48\n4. 2.38\n5. 1.32\n\n\n",
            "text/latex": "\\begin{enumerate*}\n\\item 0.48\n\\item 0.42\n\\item 0.48\n\\item 2.38\n\\item 1.32\n\\end{enumerate*}\n",
            "text/plain": [
              "[1] 0.48 0.42 0.48 2.38 1.32"
            ]
          },
          "metadata": {}
        }
      ]
    },
    {
      "cell_type": "code",
      "source": [
        "# first two melons actually have 20% more weight and the last two have 40% more weight\n",
        "\n",
        "adjustment2=c(1.2,1.2,1.4,1.4)\n",
        "\n",
        "new_melons2= melons*adjustment2"
      ],
      "metadata": {
        "id": "oSMMi-HlKgnt"
      },
      "execution_count": 77,
      "outputs": []
    },
    {
      "cell_type": "code",
      "source": [
        "new_melons2"
      ],
      "metadata": {
        "colab": {
          "base_uri": "https://localhost:8080/",
          "height": 34
        },
        "id": "CIp9P_SlMszL",
        "outputId": "7f6d8d97-a462-4189-d0f0-ce738c804785"
      },
      "execution_count": 78,
      "outputs": [
        {
          "output_type": "display_data",
          "data": {
            "text/html": [
              "<style>\n",
              ".list-inline {list-style: none; margin:0; padding: 0}\n",
              ".list-inline>li {display: inline-block}\n",
              ".list-inline>li:not(:last-child)::after {content: \"\\00b7\"; padding: 0 .5ex}\n",
              "</style>\n",
              "<ol class=list-inline><li>1.44</li><li>1.68</li><li>3.36</li><li>4.76</li></ol>\n"
            ],
            "text/markdown": "1. 1.44\n2. 1.68\n3. 3.36\n4. 4.76\n\n\n",
            "text/latex": "\\begin{enumerate*}\n\\item 1.44\n\\item 1.68\n\\item 3.36\n\\item 4.76\n\\end{enumerate*}\n",
            "text/plain": [
              "[1] 1.44 1.68 3.36 4.76"
            ]
          },
          "metadata": {}
        }
      ]
    },
    {
      "cell_type": "code",
      "source": [
        "melons[4]*adjustment2[4]"
      ],
      "metadata": {
        "colab": {
          "base_uri": "https://localhost:8080/",
          "height": 34
        },
        "id": "aJQK-wSVMt98",
        "outputId": "29610b3a-368a-4f75-81b0-293f8aa8bb55"
      },
      "execution_count": 81,
      "outputs": [
        {
          "output_type": "display_data",
          "data": {
            "text/html": [
              "4.76"
            ],
            "text/markdown": "4.76",
            "text/latex": "4.76",
            "text/plain": [
              "[1] 4.76"
            ]
          },
          "metadata": {}
        }
      ]
    },
    {
      "cell_type": "code",
      "source": [
        "length(new_melons2)"
      ],
      "metadata": {
        "colab": {
          "base_uri": "https://localhost:8080/",
          "height": 34
        },
        "id": "hgOW9yRwMztN",
        "outputId": "e191069f-c023-4e38-af3a-5e56788fe67f"
      },
      "execution_count": 82,
      "outputs": [
        {
          "output_type": "display_data",
          "data": {
            "text/html": [
              "4"
            ],
            "text/markdown": "4",
            "text/latex": "4",
            "text/plain": [
              "[1] 4"
            ]
          },
          "metadata": {}
        }
      ]
    },
    {
      "cell_type": "code",
      "source": [
        "length(adjustments)"
      ],
      "metadata": {
        "colab": {
          "base_uri": "https://localhost:8080/",
          "height": 34
        },
        "id": "gowWmOxsM_f6",
        "outputId": "d1e56b26-05c3-438e-f301-f1727f65217e"
      },
      "execution_count": 83,
      "outputs": [
        {
          "output_type": "display_data",
          "data": {
            "text/html": [
              "4"
            ],
            "text/markdown": "4",
            "text/latex": "4",
            "text/plain": [
              "[1] 4"
            ]
          },
          "metadata": {}
        }
      ]
    },
    {
      "cell_type": "code",
      "source": [
        "# AGGREGATE FUNCTIONS\n",
        "mean(melons)"
      ],
      "metadata": {
        "colab": {
          "base_uri": "https://localhost:8080/",
          "height": 34
        },
        "id": "PiioHa4JNC6E",
        "outputId": "4f7cf625-b48d-4235-c86c-e2f1b9791f21"
      },
      "execution_count": 92,
      "outputs": [
        {
          "output_type": "display_data",
          "data": {
            "text/html": [
              "2.1"
            ],
            "text/markdown": "2.1",
            "text/latex": "2.1",
            "text/plain": [
              "[1] 2.1"
            ]
          },
          "metadata": {}
        }
      ]
    },
    {
      "cell_type": "code",
      "source": [
        "median(melons)"
      ],
      "metadata": {
        "colab": {
          "base_uri": "https://localhost:8080/",
          "height": 34
        },
        "id": "F1UfUmRSO2Yz",
        "outputId": "bbc6cc02-acdc-4d0b-b725-5ca584253dad"
      },
      "execution_count": 91,
      "outputs": [
        {
          "output_type": "display_data",
          "data": {
            "text/html": [
              "1.9"
            ],
            "text/markdown": "1.9",
            "text/latex": "1.9",
            "text/plain": [
              "[1] 1.9"
            ]
          },
          "metadata": {}
        }
      ]
    },
    {
      "cell_type": "code",
      "source": [
        "sd(melons)"
      ],
      "metadata": {
        "colab": {
          "base_uri": "https://localhost:8080/",
          "height": 34
        },
        "id": "cjmhoIioPF1a",
        "outputId": "f4baf9df-ada8-45d2-f2ae-e03b895377ca"
      },
      "execution_count": 93,
      "outputs": [
        {
          "output_type": "display_data",
          "data": {
            "text/html": [
              "1.01324561023804"
            ],
            "text/markdown": "1.01324561023804",
            "text/latex": "1.01324561023804",
            "text/plain": [
              "[1] 1.013246"
            ]
          },
          "metadata": {}
        }
      ]
    },
    {
      "cell_type": "code",
      "source": [
        "#Sorting\n",
        "sort(melons)"
      ],
      "metadata": {
        "colab": {
          "base_uri": "https://localhost:8080/",
          "height": 34
        },
        "id": "ZjjH4oGvPLTB",
        "outputId": "5af476c0-45dc-469f-cb21-4773f58ba60d"
      },
      "execution_count": 106,
      "outputs": [
        {
          "output_type": "display_data",
          "data": {
            "text/html": [
              "<style>\n",
              ".list-inline {list-style: none; margin:0; padding: 0}\n",
              ".list-inline>li {display: inline-block}\n",
              ".list-inline>li:not(:last-child)::after {content: \"\\00b7\"; padding: 0 .5ex}\n",
              "</style>\n",
              "<ol class=list-inline><li>1.2</li><li>2.4</li><li>3.4</li><li>4.8</li></ol>\n"
            ],
            "text/markdown": "1. 1.2\n2. 2.4\n3. 3.4\n4. 4.8\n\n\n",
            "text/latex": "\\begin{enumerate*}\n\\item 1.2\n\\item 2.4\n\\item 3.4\n\\item 4.8\n\\end{enumerate*}\n",
            "text/plain": [
              "[1] 1.2 2.4 3.4 4.8"
            ]
          },
          "metadata": {}
        }
      ]
    },
    {
      "cell_type": "code",
      "source": [
        "melons"
      ],
      "metadata": {
        "colab": {
          "base_uri": "https://localhost:8080/",
          "height": 34
        },
        "id": "5ISCfm0PPYkP",
        "outputId": "dfb96994-7a8b-4ff7-975e-374084022f1a"
      },
      "execution_count": 100,
      "outputs": [
        {
          "output_type": "display_data",
          "data": {
            "text/html": [
              "<style>\n",
              ".list-inline {list-style: none; margin:0; padding: 0}\n",
              ".list-inline>li {display: inline-block}\n",
              ".list-inline>li:not(:last-child)::after {content: \"\\00b7\"; padding: 0 .5ex}\n",
              "</style>\n",
              "<ol class=list-inline><li>1.2</li><li>2.4</li><li>3.4</li><li>4.8</li></ol>\n"
            ],
            "text/markdown": "1. 1.2\n2. 2.4\n3. 3.4\n4. 4.8\n\n\n",
            "text/latex": "\\begin{enumerate*}\n\\item 1.2\n\\item 2.4\n\\item 3.4\n\\item 4.8\n\\end{enumerate*}\n",
            "text/plain": [
              "[1] 1.2 2.4 3.4 4.8"
            ]
          },
          "metadata": {}
        }
      ]
    },
    {
      "cell_type": "code",
      "source": [
        "sort(melons,decreasing = TRUE)"
      ],
      "metadata": {
        "colab": {
          "base_uri": "https://localhost:8080/",
          "height": 34
        },
        "id": "oQke-8VCPZwn",
        "outputId": "1facfe5a-63ae-47fe-ce04-87f0bb24ee8f"
      },
      "execution_count": 109,
      "outputs": [
        {
          "output_type": "display_data",
          "data": {
            "text/html": [
              "<style>\n",
              ".list-inline {list-style: none; margin:0; padding: 0}\n",
              ".list-inline>li {display: inline-block}\n",
              ".list-inline>li:not(:last-child)::after {content: \"\\00b7\"; padding: 0 .5ex}\n",
              "</style>\n",
              "<ol class=list-inline><li>4.8</li><li>3.4</li><li>2.4</li><li>1.2</li></ol>\n"
            ],
            "text/markdown": "1. 4.8\n2. 3.4\n3. 2.4\n4. 1.2\n\n\n",
            "text/latex": "\\begin{enumerate*}\n\\item 4.8\n\\item 3.4\n\\item 2.4\n\\item 1.2\n\\end{enumerate*}\n",
            "text/plain": [
              "[1] 4.8 3.4 2.4 1.2"
            ]
          },
          "metadata": {}
        }
      ]
    },
    {
      "cell_type": "code",
      "source": [
        "sort(char_cities_population)"
      ],
      "metadata": {
        "colab": {
          "base_uri": "https://localhost:8080/",
          "height": 34
        },
        "id": "oqjCP5SlQLms",
        "outputId": "30e18409-9cc1-4b24-bf34-49de2205856a"
      },
      "execution_count": 110,
      "outputs": [
        {
          "output_type": "display_data",
          "data": {
            "text/html": [
              "<style>\n",
              ".list-inline {list-style: none; margin:0; padding: 0}\n",
              ".list-inline>li {display: inline-block}\n",
              ".list-inline>li:not(:last-child)::after {content: \"\\00b7\"; padding: 0 .5ex}\n",
              "</style>\n",
              "<ol class=list-inline><li>'1000'</li><li>'2000'</li><li>'3000'</li><li>'400'</li></ol>\n"
            ],
            "text/markdown": "1. '1000'\n2. '2000'\n3. '3000'\n4. '400'\n\n\n",
            "text/latex": "\\begin{enumerate*}\n\\item '1000'\n\\item '2000'\n\\item '3000'\n\\item '400'\n\\end{enumerate*}\n",
            "text/plain": [
              "[1] \"1000\" \"2000\" \"3000\" \"400\" "
            ]
          },
          "metadata": {}
        }
      ]
    },
    {
      "cell_type": "code",
      "source": [
        "abc=c('b','c','a','z','r')"
      ],
      "metadata": {
        "id": "qBA_tdIFQXGu"
      },
      "execution_count": 111,
      "outputs": []
    },
    {
      "cell_type": "code",
      "source": [
        "sort(abc)"
      ],
      "metadata": {
        "colab": {
          "base_uri": "https://localhost:8080/",
          "height": 34
        },
        "id": "wAvN2sFSQhao",
        "outputId": "604711b5-9c94-4877-d567-1c276bbec878"
      },
      "execution_count": 113,
      "outputs": [
        {
          "output_type": "display_data",
          "data": {
            "text/html": [
              "<style>\n",
              ".list-inline {list-style: none; margin:0; padding: 0}\n",
              ".list-inline>li {display: inline-block}\n",
              ".list-inline>li:not(:last-child)::after {content: \"\\00b7\"; padding: 0 .5ex}\n",
              "</style>\n",
              "<ol class=list-inline><li>'z'</li><li>'r'</li><li>'c'</li><li>'b'</li><li>'a'</li></ol>\n"
            ],
            "text/markdown": "1. 'z'\n2. 'r'\n3. 'c'\n4. 'b'\n5. 'a'\n\n\n",
            "text/latex": "\\begin{enumerate*}\n\\item 'z'\n\\item 'r'\n\\item 'c'\n\\item 'b'\n\\item 'a'\n\\end{enumerate*}\n",
            "text/plain": [
              "[1] \"z\" \"r\" \"c\" \"b\" \"a\""
            ]
          },
          "metadata": {}
        }
      ]
    },
    {
      "cell_type": "code",
      "source": [
        "my_melons=c(1.2,1.4,2.4,3.4,NA)  # 5th melon of unknown weight"
      ],
      "metadata": {
        "id": "a8-odEmWQiSb"
      },
      "execution_count": 115,
      "outputs": []
    },
    {
      "cell_type": "code",
      "source": [
        "my_melons"
      ],
      "metadata": {
        "colab": {
          "base_uri": "https://localhost:8080/",
          "height": 34
        },
        "id": "nHYPv4eoRVdb",
        "outputId": "bc3d55e1-108e-48ee-9e7b-118aae7efe9f"
      },
      "execution_count": 120,
      "outputs": [
        {
          "output_type": "display_data",
          "data": {
            "text/html": [
              "<style>\n",
              ".list-inline {list-style: none; margin:0; padding: 0}\n",
              ".list-inline>li {display: inline-block}\n",
              ".list-inline>li:not(:last-child)::after {content: \"\\00b7\"; padding: 0 .5ex}\n",
              "</style>\n",
              "<ol class=list-inline><li>1.2</li><li>1.4</li><li>2.4</li><li>3.4</li><li>&lt;NA&gt;</li></ol>\n"
            ],
            "text/markdown": "1. 1.2\n2. 1.4\n3. 2.4\n4. 3.4\n5. &lt;NA&gt;\n\n\n",
            "text/latex": "\\begin{enumerate*}\n\\item 1.2\n\\item 1.4\n\\item 2.4\n\\item 3.4\n\\item <NA>\n\\end{enumerate*}\n",
            "text/plain": [
              "[1] 1.2 1.4 2.4 3.4  NA"
            ]
          },
          "metadata": {}
        }
      ]
    },
    {
      "cell_type": "code",
      "source": [
        "sum(my_melons) # NA will give problems"
      ],
      "metadata": {
        "colab": {
          "base_uri": "https://localhost:8080/",
          "height": 34
        },
        "id": "cSi9qrZLQ6V6",
        "outputId": "8f821ab9-c247-4f11-d37e-73ca59174951"
      },
      "execution_count": 116,
      "outputs": [
        {
          "output_type": "display_data",
          "data": {
            "text/html": [
              "&lt;NA&gt;"
            ],
            "text/markdown": "&lt;NA&gt;",
            "text/latex": "<NA>",
            "text/plain": [
              "[1] NA"
            ]
          },
          "metadata": {}
        }
      ]
    },
    {
      "cell_type": "code",
      "source": [
        " #ignore NA values\n",
        " sum(my_melons,na.rm = TRUE)"
      ],
      "metadata": {
        "colab": {
          "base_uri": "https://localhost:8080/",
          "height": 34
        },
        "id": "RPs3IU0kQ8q5",
        "outputId": "fd6ecc0c-c233-4021-c7b7-f907c42f70b6"
      },
      "execution_count": 117,
      "outputs": [
        {
          "output_type": "display_data",
          "data": {
            "text/html": [
              "8.4"
            ],
            "text/markdown": "8.4",
            "text/latex": "8.4",
            "text/plain": [
              "[1] 8.4"
            ]
          },
          "metadata": {}
        }
      ]
    },
    {
      "cell_type": "code",
      "source": [
        "new_melons=c(1.2,1.4,2.4,3.4,NaN)"
      ],
      "metadata": {
        "id": "pXCSIXQwRdj9"
      },
      "execution_count": 119,
      "outputs": []
    },
    {
      "cell_type": "code",
      "source": [
        "new_melons"
      ],
      "metadata": {
        "colab": {
          "base_uri": "https://localhost:8080/",
          "height": 34
        },
        "id": "ffEzjta-RnPC",
        "outputId": "f158ad8a-1318-4d81-a154-dec0c7c181a7"
      },
      "execution_count": 121,
      "outputs": [
        {
          "output_type": "display_data",
          "data": {
            "text/html": [
              "<style>\n",
              ".list-inline {list-style: none; margin:0; padding: 0}\n",
              ".list-inline>li {display: inline-block}\n",
              ".list-inline>li:not(:last-child)::after {content: \"\\00b7\"; padding: 0 .5ex}\n",
              "</style>\n",
              "<ol class=list-inline><li>1.2</li><li>1.4</li><li>2.4</li><li>3.4</li><li>NaN</li></ol>\n"
            ],
            "text/markdown": "1. 1.2\n2. 1.4\n3. 2.4\n4. 3.4\n5. NaN\n\n\n",
            "text/latex": "\\begin{enumerate*}\n\\item 1.2\n\\item 1.4\n\\item 2.4\n\\item 3.4\n\\item NaN\n\\end{enumerate*}\n",
            "text/plain": [
              "[1] 1.2 1.4 2.4 3.4 NaN"
            ]
          },
          "metadata": {}
        }
      ]
    },
    {
      "cell_type": "code",
      "source": [
        "sqrt(-1)"
      ],
      "metadata": {
        "colab": {
          "base_uri": "https://localhost:8080/",
          "height": 71
        },
        "id": "4ixUn-SvRoJu",
        "outputId": "b740477b-3fbb-4aaa-f72e-77a30bc6aca3"
      },
      "execution_count": 122,
      "outputs": [
        {
          "output_type": "stream",
          "name": "stderr",
          "text": [
            "Warning message in sqrt(-1):\n",
            "“NaNs produced”\n"
          ]
        },
        {
          "output_type": "display_data",
          "data": {
            "text/html": [
              "NaN"
            ],
            "text/markdown": "NaN",
            "text/latex": "NaN",
            "text/plain": [
              "[1] NaN"
            ]
          },
          "metadata": {}
        }
      ]
    },
    {
      "cell_type": "code",
      "source": [
        "sum(new_melons,na.rm=TRUE)"
      ],
      "metadata": {
        "colab": {
          "base_uri": "https://localhost:8080/",
          "height": 34
        },
        "id": "RJZMYO_mRrkH",
        "outputId": "69738e99-c632-421b-e35c-03fd4a0cd866"
      },
      "execution_count": 125,
      "outputs": [
        {
          "output_type": "display_data",
          "data": {
            "text/html": [
              "8.4"
            ],
            "text/markdown": "8.4",
            "text/latex": "8.4",
            "text/plain": [
              "[1] 8.4"
            ]
          },
          "metadata": {}
        }
      ]
    },
    {
      "cell_type": "code",
      "source": [
        "new_melons"
      ],
      "metadata": {
        "colab": {
          "base_uri": "https://localhost:8080/",
          "height": 34
        },
        "id": "QKpeh9XHSEan",
        "outputId": "c7e93e47-bec4-4045-b1e9-ce7eaac96184"
      },
      "execution_count": 127,
      "outputs": [
        {
          "output_type": "display_data",
          "data": {
            "text/html": [
              "<style>\n",
              ".list-inline {list-style: none; margin:0; padding: 0}\n",
              ".list-inline>li {display: inline-block}\n",
              ".list-inline>li:not(:last-child)::after {content: \"\\00b7\"; padding: 0 .5ex}\n",
              "</style>\n",
              "<ol class=list-inline><li>1.2</li><li>1.4</li><li>2.4</li><li>3.4</li><li>Inf</li></ol>\n"
            ],
            "text/markdown": "1. 1.2\n2. 1.4\n3. 2.4\n4. 3.4\n5. Inf\n\n\n",
            "text/latex": "\\begin{enumerate*}\n\\item 1.2\n\\item 1.4\n\\item 2.4\n\\item 3.4\n\\item Inf\n\\end{enumerate*}\n",
            "text/plain": [
              "[1] 1.2 1.4 2.4 3.4 Inf"
            ]
          },
          "metadata": {}
        }
      ]
    },
    {
      "cell_type": "code",
      "source": [
        "new_melons=c(1.2,1.4,2.4,3.4,1/0)"
      ],
      "metadata": {
        "id": "sTu29BTXRtWX"
      },
      "execution_count": 126,
      "outputs": []
    },
    {
      "cell_type": "code",
      "source": [
        "sum(new_melons,na.rm=TRUE)"
      ],
      "metadata": {
        "colab": {
          "base_uri": "https://localhost:8080/",
          "height": 34
        },
        "id": "mG8oEBO-SFMV",
        "outputId": "9978a0d0-5914-4e76-ec6e-42031f5ff281"
      },
      "execution_count": 129,
      "outputs": [
        {
          "output_type": "display_data",
          "data": {
            "text/html": [
              "Inf"
            ],
            "text/markdown": "Inf",
            "text/latex": "Inf",
            "text/plain": [
              "[1] Inf"
            ]
          },
          "metadata": {}
        }
      ]
    },
    {
      "cell_type": "code",
      "source": [
        ""
      ],
      "metadata": {
        "id": "FOw0DzN0SKX8"
      },
      "execution_count": null,
      "outputs": []
    }
  ]
}