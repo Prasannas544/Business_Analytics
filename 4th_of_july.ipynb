{
  "nbformat": 4,
  "nbformat_minor": 0,
  "metadata": {
    "colab": {
      "name": "4th_of_july.ipynb",
      "provenance": [],
      "authorship_tag": "ABX9TyNGx9dU1aO3JOP6JSK/UFJ5",
      "include_colab_link": true
    },
    "kernelspec": {
      "name": "ir",
      "display_name": "R"
    },
    "language_info": {
      "name": "R"
    }
  },
  "cells": [
    {
      "cell_type": "markdown",
      "metadata": {
        "id": "view-in-github",
        "colab_type": "text"
      },
      "source": [
        "<a href=\"https://colab.research.google.com/github/Prasannas544/Business_Analytics/blob/main/4th_of_july.ipynb\" target=\"_parent\"><img src=\"https://colab.research.google.com/assets/colab-badge.svg\" alt=\"Open In Colab\"/></a>"
      ]
    },
    {
      "cell_type": "markdown",
      "source": [
        "Creating a vector"
      ],
      "metadata": {
        "id": "m3h388tUCQaw"
      }
    },
    {
      "cell_type": "code",
      "execution_count": 3,
      "metadata": {
        "id": "pBw6VJpEAR7L"
      },
      "outputs": [],
      "source": [
        "a=c(11,2,3,4,5)"
      ]
    },
    {
      "cell_type": "code",
      "source": [
        "print(a)"
      ],
      "metadata": {
        "colab": {
          "base_uri": "https://localhost:8080/"
        },
        "id": "eE3oB3arA1bg",
        "outputId": "8737b71a-728c-4ae3-b573-ffbdb4eb0a15"
      },
      "execution_count": 4,
      "outputs": [
        {
          "output_type": "stream",
          "name": "stdout",
          "text": [
            "[1] 11  2  3  4  5\n"
          ]
        }
      ]
    },
    {
      "cell_type": "code",
      "source": [
        "assign(\"b\",c(1,2,4,5))"
      ],
      "metadata": {
        "id": "58R-OrWpA-_b"
      },
      "execution_count": 5,
      "outputs": []
    },
    {
      "cell_type": "code",
      "source": [
        "print(b)"
      ],
      "metadata": {
        "colab": {
          "base_uri": "https://localhost:8080/"
        },
        "id": "Td4dPu_fBEBh",
        "outputId": "a6fba113-0ba0-4dce-ca62-7268d6d4570e"
      },
      "execution_count": 7,
      "outputs": [
        {
          "output_type": "stream",
          "name": "stdout",
          "text": [
            "[1] 1 2 4 5\n"
          ]
        }
      ]
    },
    {
      "cell_type": "code",
      "source": [
        " c <- 5:10"
      ],
      "metadata": {
        "id": "QJnS1ClmBExd"
      },
      "execution_count": 19,
      "outputs": []
    },
    {
      "cell_type": "code",
      "source": [
        "print(c)"
      ],
      "metadata": {
        "colab": {
          "base_uri": "https://localhost:8080/"
        },
        "id": "Fmfk5FCSBJBu",
        "outputId": "cbc06d98-6951-4dc9-88d9-0ed97d0a7d91"
      },
      "execution_count": 20,
      "outputs": [
        {
          "output_type": "stream",
          "name": "stdout",
          "text": [
            "[1]  5  6  7  8  9 10\n"
          ]
        }
      ]
    },
    {
      "cell_type": "code",
      "source": [
        "d <- seq(4,40,4)"
      ],
      "metadata": {
        "id": "DwWjXMhDBKlJ"
      },
      "execution_count": 12,
      "outputs": []
    },
    {
      "cell_type": "code",
      "source": [
        "d"
      ],
      "metadata": {
        "colab": {
          "base_uri": "https://localhost:8080/",
          "height": 34
        },
        "id": "xp_7L_RkB010",
        "outputId": "3f5122f6-004a-455b-8e06-ee9709084422"
      },
      "execution_count": 13,
      "outputs": [
        {
          "output_type": "display_data",
          "data": {
            "text/html": [
              "<style>\n",
              ".list-inline {list-style: none; margin:0; padding: 0}\n",
              ".list-inline>li {display: inline-block}\n",
              ".list-inline>li:not(:last-child)::after {content: \"\\00b7\"; padding: 0 .5ex}\n",
              "</style>\n",
              "<ol class=list-inline><li>4</li><li>8</li><li>12</li><li>16</li><li>20</li><li>24</li><li>28</li><li>32</li><li>36</li><li>40</li></ol>\n"
            ],
            "text/markdown": "1. 4\n2. 8\n3. 12\n4. 16\n5. 20\n6. 24\n7. 28\n8. 32\n9. 36\n10. 40\n\n\n",
            "text/latex": "\\begin{enumerate*}\n\\item 4\n\\item 8\n\\item 12\n\\item 16\n\\item 20\n\\item 24\n\\item 28\n\\item 32\n\\item 36\n\\item 40\n\\end{enumerate*}\n",
            "text/plain": [
              " [1]  4  8 12 16 20 24 28 32 36 40"
            ]
          },
          "metadata": {}
        }
      ]
    },
    {
      "cell_type": "code",
      "source": [
        "e<-rep(1:3,times=5)"
      ],
      "metadata": {
        "id": "zVOoKBEIB1P0"
      },
      "execution_count": 15,
      "outputs": []
    },
    {
      "cell_type": "code",
      "source": [
        "e"
      ],
      "metadata": {
        "colab": {
          "base_uri": "https://localhost:8080/",
          "height": 34
        },
        "id": "7ENGECzMB8_W",
        "outputId": "8373eb88-9111-4a3c-e751-628ca04ca64e"
      },
      "execution_count": 16,
      "outputs": [
        {
          "output_type": "display_data",
          "data": {
            "text/html": [
              "<style>\n",
              ".list-inline {list-style: none; margin:0; padding: 0}\n",
              ".list-inline>li {display: inline-block}\n",
              ".list-inline>li:not(:last-child)::after {content: \"\\00b7\"; padding: 0 .5ex}\n",
              "</style>\n",
              "<ol class=list-inline><li>1</li><li>2</li><li>3</li><li>1</li><li>2</li><li>3</li><li>1</li><li>2</li><li>3</li><li>1</li><li>2</li><li>3</li><li>1</li><li>2</li><li>3</li></ol>\n"
            ],
            "text/markdown": "1. 1\n2. 2\n3. 3\n4. 1\n5. 2\n6. 3\n7. 1\n8. 2\n9. 3\n10. 1\n11. 2\n12. 3\n13. 1\n14. 2\n15. 3\n\n\n",
            "text/latex": "\\begin{enumerate*}\n\\item 1\n\\item 2\n\\item 3\n\\item 1\n\\item 2\n\\item 3\n\\item 1\n\\item 2\n\\item 3\n\\item 1\n\\item 2\n\\item 3\n\\item 1\n\\item 2\n\\item 3\n\\end{enumerate*}\n",
            "text/plain": [
              " [1] 1 2 3 1 2 3 1 2 3 1 2 3 1 2 3"
            ]
          },
          "metadata": {}
        }
      ]
    },
    {
      "cell_type": "code",
      "source": [
        "melons <- c(3.4,3.1,3,4.5)"
      ],
      "metadata": {
        "id": "0-B4WMc2B-ed"
      },
      "execution_count": 32,
      "outputs": []
    },
    {
      "cell_type": "code",
      "source": [
        "melons       "
      ],
      "metadata": {
        "colab": {
          "base_uri": "https://localhost:8080/",
          "height": 34
        },
        "id": "OqYHWqkADvFK",
        "outputId": "86e9afbe-5b04-4c81-ac58-e49d586fec3c"
      },
      "execution_count": 33,
      "outputs": [
        {
          "output_type": "display_data",
          "data": {
            "text/html": [
              "<style>\n",
              ".list-inline {list-style: none; margin:0; padding: 0}\n",
              ".list-inline>li {display: inline-block}\n",
              ".list-inline>li:not(:last-child)::after {content: \"\\00b7\"; padding: 0 .5ex}\n",
              "</style>\n",
              "<ol class=list-inline><li>3.4</li><li>3.1</li><li>3</li><li>4.5</li></ol>\n"
            ],
            "text/markdown": "1. 3.4\n2. 3.1\n3. 3\n4. 4.5\n\n\n",
            "text/latex": "\\begin{enumerate*}\n\\item 3.4\n\\item 3.1\n\\item 3\n\\item 4.5\n\\end{enumerate*}\n",
            "text/plain": [
              "[1] 3.4 3.1 3.0 4.5"
            ]
          },
          "metadata": {}
        }
      ]
    },
    {
      "cell_type": "code",
      "source": [
        "sum(melons)     # weight1 +weight2 +weight3 +weight4      # melons[1]+melons[3]+melons[4]"
      ],
      "metadata": {
        "colab": {
          "base_uri": "https://localhost:8080/",
          "height": 34
        },
        "id": "RfUyXIYdFrFd",
        "outputId": "abf9e97d-7fe8-4a5c-e81a-4576fa78f7ff"
      },
      "execution_count": 40,
      "outputs": [
        {
          "output_type": "display_data",
          "data": {
            "text/html": [
              "14"
            ],
            "text/markdown": "14",
            "text/latex": "14",
            "text/plain": [
              "[1] 14"
            ]
          },
          "metadata": {}
        }
      ]
    },
    {
      "cell_type": "code",
      "source": [
        "rm(melons)"
      ],
      "metadata": {
        "colab": {
          "base_uri": "https://localhost:8080/"
        },
        "id": "kWqkzskHDry-",
        "outputId": "98834511-aa1c-4922-bfa3-cf883db5a1d8"
      },
      "execution_count": 30,
      "outputs": [
        {
          "output_type": "stream",
          "name": "stderr",
          "text": [
            "Warning message in rm(melons):\n",
            "“object 'melons' not found”\n"
          ]
        }
      ]
    },
    {
      "cell_type": "code",
      "source": [
        "cities_population <- c(1000,2000,400,3000)"
      ],
      "metadata": {
        "id": "GrlCeNQXEQu9"
      },
      "execution_count": 34,
      "outputs": []
    },
    {
      "cell_type": "code",
      "source": [
        "typeof(cities_population)"
      ],
      "metadata": {
        "colab": {
          "base_uri": "https://localhost:8080/",
          "height": 34
        },
        "id": "oRutYU6EEZ0j",
        "outputId": "30af2140-06f1-4612-89e5-72a75e7b33b4"
      },
      "execution_count": 35,
      "outputs": [
        {
          "output_type": "display_data",
          "data": {
            "text/html": [
              "'double'"
            ],
            "text/markdown": "'double'",
            "text/latex": "'double'",
            "text/plain": [
              "[1] \"double\""
            ]
          },
          "metadata": {}
        }
      ]
    },
    {
      "cell_type": "code",
      "source": [
        "char_cities_population <- c(1000,2000,400,'3000')"
      ],
      "metadata": {
        "id": "YTpIU8LWEqqB"
      },
      "execution_count": 36,
      "outputs": []
    },
    {
      "cell_type": "code",
      "source": [
        "typeof(char_cities_population)"
      ],
      "metadata": {
        "colab": {
          "base_uri": "https://localhost:8080/",
          "height": 34
        },
        "id": "Sg_6EdM_E3O-",
        "outputId": "90541da3-4930-4bd9-caaf-0874646d74aa"
      },
      "execution_count": 37,
      "outputs": [
        {
          "output_type": "display_data",
          "data": {
            "text/html": [
              "'character'"
            ],
            "text/markdown": "'character'",
            "text/latex": "'character'",
            "text/plain": [
              "[1] \"character\""
            ]
          },
          "metadata": {}
        }
      ]
    },
    {
      "cell_type": "code",
      "source": [
        "sum(cities_population)"
      ],
      "metadata": {
        "colab": {
          "base_uri": "https://localhost:8080/",
          "height": 34
        },
        "id": "yWnHHekRFTUE",
        "outputId": "0c7005c6-ac3e-45e9-a8a9-eef2e0f78bd7"
      },
      "execution_count": 38,
      "outputs": [
        {
          "output_type": "display_data",
          "data": {
            "text/html": [
              "6400"
            ],
            "text/markdown": "6400",
            "text/latex": "6400",
            "text/plain": [
              "[1] 6400"
            ]
          },
          "metadata": {}
        }
      ]
    },
    {
      "cell_type": "code",
      "source": [
        "sum(char_cities_population)"
      ],
      "metadata": {
        "colab": {
          "base_uri": "https://localhost:8080/",
          "height": 98
        },
        "id": "FCFs_DeZFgmy",
        "outputId": "cc7f2e41-ec7e-46b6-ccc9-5d18c02011eb"
      },
      "execution_count": 39,
      "outputs": [
        {
          "output_type": "error",
          "ename": "ERROR",
          "evalue": "ignored",
          "traceback": [
            "Error in sum(char_cities_population): invalid 'type' (character) of argument\nTraceback:\n"
          ]
        }
      ]
    },
    {
      "cell_type": "markdown",
      "source": [
        "Vectors indexing and slicing\n"
      ],
      "metadata": {
        "id": "AK3t2xN4GWsR"
      }
    },
    {
      "cell_type": "code",
      "source": [
        "melons=c(1.2,1.4,2.4,3.4)"
      ],
      "metadata": {
        "id": "uYZroMMGFkAK"
      },
      "execution_count": 41,
      "outputs": []
    },
    {
      "cell_type": "code",
      "source": [
        "melons[2] # indexing by position"
      ],
      "metadata": {
        "colab": {
          "base_uri": "https://localhost:8080/",
          "height": 34
        },
        "id": "CeGK9i8zGqvP",
        "outputId": "0312c449-061e-4496-f8d4-f86d6e5e6205"
      },
      "execution_count": 42,
      "outputs": [
        {
          "output_type": "display_data",
          "data": {
            "text/html": [
              "1.4"
            ],
            "text/markdown": "1.4",
            "text/latex": "1.4",
            "text/plain": [
              "[1] 1.4"
            ]
          },
          "metadata": {}
        }
      ]
    },
    {
      "cell_type": "code",
      "source": [
        "melons[5]"
      ],
      "metadata": {
        "colab": {
          "base_uri": "https://localhost:8080/",
          "height": 34
        },
        "id": "RlHyjLrHG1n0",
        "outputId": "0652e7ce-904a-47e6-fc4b-8d2ee3e7bbc7"
      },
      "execution_count": 43,
      "outputs": [
        {
          "output_type": "display_data",
          "data": {
            "text/html": [
              "&lt;NA&gt;"
            ],
            "text/markdown": "&lt;NA&gt;",
            "text/latex": "<NA>",
            "text/plain": [
              "[1] NA"
            ]
          },
          "metadata": {}
        }
      ]
    },
    {
      "cell_type": "code",
      "source": [
        "melons[2:4]  # indexing using slicing "
      ],
      "metadata": {
        "colab": {
          "base_uri": "https://localhost:8080/",
          "height": 34
        },
        "id": "NMSu0kNKG7Ya",
        "outputId": "e2891ccc-3760-42f2-8097-94d9f5b0aa9a"
      },
      "execution_count": 44,
      "outputs": [
        {
          "output_type": "display_data",
          "data": {
            "text/html": [
              "<style>\n",
              ".list-inline {list-style: none; margin:0; padding: 0}\n",
              ".list-inline>li {display: inline-block}\n",
              ".list-inline>li:not(:last-child)::after {content: \"\\00b7\"; padding: 0 .5ex}\n",
              "</style>\n",
              "<ol class=list-inline><li>1.4</li><li>2.4</li><li>3.4</li></ol>\n"
            ],
            "text/markdown": "1. 1.4\n2. 2.4\n3. 3.4\n\n\n",
            "text/latex": "\\begin{enumerate*}\n\\item 1.4\n\\item 2.4\n\\item 3.4\n\\end{enumerate*}\n",
            "text/plain": [
              "[1] 1.4 2.4 3.4"
            ]
          },
          "metadata": {}
        }
      ]
    },
    {
      "cell_type": "code",
      "source": [
        "melons[c(1,4)]"
      ],
      "metadata": {
        "colab": {
          "base_uri": "https://localhost:8080/",
          "height": 34
        },
        "id": "f0RLmOfzHDlY",
        "outputId": "f5f45dc5-7d46-4976-ef12-094d5cb12754"
      },
      "execution_count": 47,
      "outputs": [
        {
          "output_type": "display_data",
          "data": {
            "text/html": [
              "<style>\n",
              ".list-inline {list-style: none; margin:0; padding: 0}\n",
              ".list-inline>li {display: inline-block}\n",
              ".list-inline>li:not(:last-child)::after {content: \"\\00b7\"; padding: 0 .5ex}\n",
              "</style>\n",
              "<ol class=list-inline><li>1.2</li><li>3.4</li></ol>\n"
            ],
            "text/markdown": "1. 1.2\n2. 3.4\n\n\n",
            "text/latex": "\\begin{enumerate*}\n\\item 1.2\n\\item 3.4\n\\end{enumerate*}\n",
            "text/plain": [
              "[1] 1.2 3.4"
            ]
          },
          "metadata": {}
        }
      ]
    },
    {
      "cell_type": "code",
      "source": [
        "melons[1]+ melons[2]+melons[3]+melons[4]   # not suitable for 100 elements"
      ],
      "metadata": {
        "colab": {
          "base_uri": "https://localhost:8080/",
          "height": 34
        },
        "id": "9pTNRAmvHzwl",
        "outputId": "4d5b627b-67b2-4b88-cac6-89a24eb0fee0"
      },
      "execution_count": 48,
      "outputs": [
        {
          "output_type": "display_data",
          "data": {
            "text/html": [
              "8.4"
            ],
            "text/markdown": "8.4",
            "text/latex": "8.4",
            "text/plain": [
              "[1] 8.4"
            ]
          },
          "metadata": {}
        }
      ]
    },
    {
      "cell_type": "code",
      "source": [
        "sum(melons)  # returns a single value"
      ],
      "metadata": {
        "colab": {
          "base_uri": "https://localhost:8080/",
          "height": 34
        },
        "id": "lvPkBRppH4Bv",
        "outputId": "bd7414f0-bb7d-499e-c0ae-85d683c81049"
      },
      "execution_count": 49,
      "outputs": [
        {
          "output_type": "display_data",
          "data": {
            "text/html": [
              "8.4"
            ],
            "text/markdown": "8.4",
            "text/latex": "8.4",
            "text/plain": [
              "[1] 8.4"
            ]
          },
          "metadata": {}
        }
      ]
    },
    {
      "cell_type": "code",
      "source": [
        ""
      ],
      "metadata": {
        "id": "fxfO63SbH5gw"
      },
      "execution_count": null,
      "outputs": []
    }
  ]
}