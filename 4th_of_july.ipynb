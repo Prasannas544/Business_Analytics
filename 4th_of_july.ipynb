{
  "nbformat": 4,
  "nbformat_minor": 0,
  "metadata": {
    "colab": {
      "name": "4th_of_july.ipynb",
      "provenance": [],
      "authorship_tag": "ABX9TyNOBrGf5/l0xIvgb51abLIN",
      "include_colab_link": true
    },
    "kernelspec": {
      "name": "ir",
      "display_name": "R"
    },
    "language_info": {
      "name": "R"
    }
  },
  "cells": [
    {
      "cell_type": "markdown",
      "metadata": {
        "id": "view-in-github",
        "colab_type": "text"
      },
      "source": [
        "<a href=\"https://colab.research.google.com/github/Prasannas544/Business_Analytics/blob/main/4th_of_july.ipynb\" target=\"_parent\"><img src=\"https://colab.research.google.com/assets/colab-badge.svg\" alt=\"Open In Colab\"/></a>"
      ]
    },
    {
      "cell_type": "markdown",
      "source": [
        "Creating a vector"
      ],
      "metadata": {
        "id": "m3h388tUCQaw"
      }
    },
    {
      "cell_type": "code",
      "execution_count": 3,
      "metadata": {
        "id": "pBw6VJpEAR7L"
      },
      "outputs": [],
      "source": [
        "a=c(11,2,3,4,5)"
      ]
    },
    {
      "cell_type": "code",
      "source": [
        "print(a)"
      ],
      "metadata": {
        "colab": {
          "base_uri": "https://localhost:8080/"
        },
        "id": "eE3oB3arA1bg",
        "outputId": "8737b71a-728c-4ae3-b573-ffbdb4eb0a15"
      },
      "execution_count": 4,
      "outputs": [
        {
          "output_type": "stream",
          "name": "stdout",
          "text": [
            "[1] 11  2  3  4  5\n"
          ]
        }
      ]
    },
    {
      "cell_type": "code",
      "source": [
        "assign(\"b\",c(1,2,4,5))"
      ],
      "metadata": {
        "id": "58R-OrWpA-_b"
      },
      "execution_count": 5,
      "outputs": []
    },
    {
      "cell_type": "code",
      "source": [
        "print(b)"
      ],
      "metadata": {
        "colab": {
          "base_uri": "https://localhost:8080/"
        },
        "id": "Td4dPu_fBEBh",
        "outputId": "a6fba113-0ba0-4dce-ca62-7268d6d4570e"
      },
      "execution_count": 7,
      "outputs": [
        {
          "output_type": "stream",
          "name": "stdout",
          "text": [
            "[1] 1 2 4 5\n"
          ]
        }
      ]
    },
    {
      "cell_type": "code",
      "source": [
        "c<-5:10"
      ],
      "metadata": {
        "id": "QJnS1ClmBExd"
      },
      "execution_count": 19,
      "outputs": []
    },
    {
      "cell_type": "code",
      "source": [
        "print(c)"
      ],
      "metadata": {
        "colab": {
          "base_uri": "https://localhost:8080/"
        },
        "id": "Fmfk5FCSBJBu",
        "outputId": "cbc06d98-6951-4dc9-88d9-0ed97d0a7d91"
      },
      "execution_count": 20,
      "outputs": [
        {
          "output_type": "stream",
          "name": "stdout",
          "text": [
            "[1]  5  6  7  8  9 10\n"
          ]
        }
      ]
    },
    {
      "cell_type": "code",
      "source": [
        "d <- seq(4,40,4)"
      ],
      "metadata": {
        "id": "DwWjXMhDBKlJ"
      },
      "execution_count": 12,
      "outputs": []
    },
    {
      "cell_type": "code",
      "source": [
        "d"
      ],
      "metadata": {
        "colab": {
          "base_uri": "https://localhost:8080/",
          "height": 34
        },
        "id": "xp_7L_RkB010",
        "outputId": "3f5122f6-004a-455b-8e06-ee9709084422"
      },
      "execution_count": 13,
      "outputs": [
        {
          "output_type": "display_data",
          "data": {
            "text/html": [
              "<style>\n",
              ".list-inline {list-style: none; margin:0; padding: 0}\n",
              ".list-inline>li {display: inline-block}\n",
              ".list-inline>li:not(:last-child)::after {content: \"\\00b7\"; padding: 0 .5ex}\n",
              "</style>\n",
              "<ol class=list-inline><li>4</li><li>8</li><li>12</li><li>16</li><li>20</li><li>24</li><li>28</li><li>32</li><li>36</li><li>40</li></ol>\n"
            ],
            "text/markdown": "1. 4\n2. 8\n3. 12\n4. 16\n5. 20\n6. 24\n7. 28\n8. 32\n9. 36\n10. 40\n\n\n",
            "text/latex": "\\begin{enumerate*}\n\\item 4\n\\item 8\n\\item 12\n\\item 16\n\\item 20\n\\item 24\n\\item 28\n\\item 32\n\\item 36\n\\item 40\n\\end{enumerate*}\n",
            "text/plain": [
              " [1]  4  8 12 16 20 24 28 32 36 40"
            ]
          },
          "metadata": {}
        }
      ]
    },
    {
      "cell_type": "code",
      "source": [
        "e<-rep(1:3,times=5)"
      ],
      "metadata": {
        "id": "zVOoKBEIB1P0"
      },
      "execution_count": 15,
      "outputs": []
    },
    {
      "cell_type": "code",
      "source": [
        "e"
      ],
      "metadata": {
        "colab": {
          "base_uri": "https://localhost:8080/",
          "height": 34
        },
        "id": "7ENGECzMB8_W",
        "outputId": "8373eb88-9111-4a3c-e751-628ca04ca64e"
      },
      "execution_count": 16,
      "outputs": [
        {
          "output_type": "display_data",
          "data": {
            "text/html": [
              "<style>\n",
              ".list-inline {list-style: none; margin:0; padding: 0}\n",
              ".list-inline>li {display: inline-block}\n",
              ".list-inline>li:not(:last-child)::after {content: \"\\00b7\"; padding: 0 .5ex}\n",
              "</style>\n",
              "<ol class=list-inline><li>1</li><li>2</li><li>3</li><li>1</li><li>2</li><li>3</li><li>1</li><li>2</li><li>3</li><li>1</li><li>2</li><li>3</li><li>1</li><li>2</li><li>3</li></ol>\n"
            ],
            "text/markdown": "1. 1\n2. 2\n3. 3\n4. 1\n5. 2\n6. 3\n7. 1\n8. 2\n9. 3\n10. 1\n11. 2\n12. 3\n13. 1\n14. 2\n15. 3\n\n\n",
            "text/latex": "\\begin{enumerate*}\n\\item 1\n\\item 2\n\\item 3\n\\item 1\n\\item 2\n\\item 3\n\\item 1\n\\item 2\n\\item 3\n\\item 1\n\\item 2\n\\item 3\n\\item 1\n\\item 2\n\\item 3\n\\end{enumerate*}\n",
            "text/plain": [
              " [1] 1 2 3 1 2 3 1 2 3 1 2 3 1 2 3"
            ]
          },
          "metadata": {}
        }
      ]
    },
    {
      "cell_type": "code",
      "source": [
        ""
      ],
      "metadata": {
        "id": "0-B4WMc2B-ed"
      },
      "execution_count": null,
      "outputs": []
    }
  ]
}