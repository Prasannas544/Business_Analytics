{
  "nbformat": 4,
  "nbformat_minor": 0,
  "metadata": {
    "colab": {
      "name": "July_13.ipynb",
      "provenance": [],
      "authorship_tag": "ABX9TyNFib6mAYWVrHdHSmnf4MGd",
      "include_colab_link": true
    },
    "kernelspec": {
      "name": "ir",
      "display_name": "R"
    },
    "language_info": {
      "name": "R"
    }
  },
  "cells": [
    {
      "cell_type": "markdown",
      "metadata": {
        "id": "view-in-github",
        "colab_type": "text"
      },
      "source": [
        "<a href=\"https://colab.research.google.com/github/Prasannas544/Business_Analytics/blob/main/July_13.ipynb\" target=\"_parent\"><img src=\"https://colab.research.google.com/assets/colab-badge.svg\" alt=\"Open In Colab\"/></a>"
      ]
    },
    {
      "cell_type": "code",
      "execution_count": 9,
      "metadata": {
        "id": "dUtFTAjwSRL8"
      },
      "outputs": [],
      "source": [
        "# Create a function to print squares of numbers in sequence.\n",
        "squaresq <- function(a) {\n",
        "    #function body\n",
        "    for(i in 1:a){\n",
        "        b <- i^2\n",
        "        print(b)\n",
        "    } \n",
        "}"
      ]
    },
    {
      "cell_type": "code",
      "source": [
        "squaresq(16)"
      ],
      "metadata": {
        "id": "7KYEWyS3Sawv"
      },
      "execution_count": null,
      "outputs": []
    },
    {
      "cell_type": "code",
      "source": [
        "# Create a function w/o argument\n",
        "sqwoarg <- function() {\n",
        "    #function body\n",
        "    for(i in 1:5){\n",
        "        b <- i^2\n",
        "        print(b)\n",
        "    } \n",
        "}"
      ],
      "metadata": {
        "id": "dP82C9xzSoBU"
      },
      "execution_count": 14,
      "outputs": []
    },
    {
      "cell_type": "code",
      "source": [
        "sqwoarg()"
      ],
      "metadata": {
        "colab": {
          "base_uri": "https://localhost:8080/"
        },
        "id": "qiJgUH-AT8L8",
        "outputId": "c26c9b67-9630-45a1-cec7-96716c277935"
      },
      "execution_count": 15,
      "outputs": [
        {
          "output_type": "stream",
          "name": "stdout",
          "text": [
            "[1] 1\n",
            "[1] 4\n",
            "[1] 9\n",
            "[1] 16\n",
            "[1] 25\n"
          ]
        }
      ]
    },
    {
      "cell_type": "code",
      "source": [
        "# ab + c Print after evaluation\n",
        "\n",
        "myfunc <- function(a,b,c){\n",
        "\n",
        "  result= a*b +c;\n",
        "  print(result)\n",
        "}"
      ],
      "metadata": {
        "id": "bLwNdLbBT9Yi"
      },
      "execution_count": 34,
      "outputs": []
    },
    {
      "cell_type": "code",
      "source": [
        "myfunc(4,7,1)"
      ],
      "metadata": {
        "colab": {
          "base_uri": "https://localhost:8080/"
        },
        "id": "AaauXJ37Udrr",
        "outputId": "f82053f0-46df-4138-99f5-801a368c64cf"
      },
      "execution_count": 27,
      "outputs": [
        {
          "output_type": "stream",
          "name": "stdout",
          "text": [
            "[1] 29\n"
          ]
        }
      ]
    },
    {
      "cell_type": "code",
      "source": [
        "a=10\n",
        "b=20\n",
        "c=45\n",
        "\n",
        "\n",
        "myfunc(a,a,a)  #function call"
      ],
      "metadata": {
        "colab": {
          "base_uri": "https://localhost:8080/"
        },
        "id": "TZ2VjGdWVU8l",
        "outputId": "52e84136-1e0a-4cea-d684-a1ee7f0c0a8b"
      },
      "execution_count": 35,
      "outputs": [
        {
          "output_type": "stream",
          "name": "stdout",
          "text": [
            "[1] 110\n"
          ]
        }
      ]
    },
    {
      "cell_type": "code",
      "source": [
        "# Function with default arguments\n",
        "func2 <- function (a = 3,b= 6){\n",
        "  result <- a*b;\n",
        "  print(result);\n",
        "}"
      ],
      "metadata": {
        "id": "K-LUQ5J3VZEu"
      },
      "execution_count": 45,
      "outputs": []
    },
    {
      "cell_type": "code",
      "source": [
        "func2()"
      ],
      "metadata": {
        "colab": {
          "base_uri": "https://localhost:8080/"
        },
        "id": "JN8D5mB6YJhp",
        "outputId": "0c67b0da-f39c-42b2-cef1-414939af96a3"
      },
      "execution_count": 37,
      "outputs": [
        {
          "output_type": "stream",
          "name": "stdout",
          "text": [
            "[1] 18\n"
          ]
        }
      ]
    },
    {
      "cell_type": "code",
      "source": [
        "func2(9,5)"
      ],
      "metadata": {
        "colab": {
          "base_uri": "https://localhost:8080/"
        },
        "id": "NUTjs2pgYMOY",
        "outputId": "ff53dac3-2461-4f9c-d375-5251c93a0dac"
      },
      "execution_count": 38,
      "outputs": [
        {
          "output_type": "stream",
          "name": "stdout",
          "text": [
            "[1] 45\n"
          ]
        }
      ]
    },
    {
      "cell_type": "code",
      "source": [
        "func2(,10)"
      ],
      "metadata": {
        "colab": {
          "base_uri": "https://localhost:8080/"
        },
        "id": "v5mTkLGtYUja",
        "outputId": "3b7ea2ba-f3cb-4ca7-c99c-6b5a54b05652"
      },
      "execution_count": 41,
      "outputs": [
        {
          "output_type": "stream",
          "name": "stdout",
          "text": [
            "[1] 30\n"
          ]
        }
      ]
    },
    {
      "cell_type": "code",
      "source": [
        "func2(10)"
      ],
      "metadata": {
        "colab": {
          "base_uri": "https://localhost:8080/"
        },
        "id": "bzSYl91lYdPs",
        "outputId": "5e49e2f6-c994-4278-dae2-84e6d1994569"
      },
      "execution_count": 42,
      "outputs": [
        {
          "output_type": "stream",
          "name": "stdout",
          "text": [
            "[1] 60\n"
          ]
        }
      ]
    },
    {
      "cell_type": "code",
      "source": [
        "# Function with default arguments\n",
        "func3 <- function (a ,b = 6){\n",
        "  result <- a*b;\n",
        "  print(result);\n",
        "}"
      ],
      "metadata": {
        "id": "4dQSm5tiYurg"
      },
      "execution_count": 46,
      "outputs": []
    },
    {
      "cell_type": "code",
      "source": [
        "a=func3(5,10)"
      ],
      "metadata": {
        "colab": {
          "base_uri": "https://localhost:8080/"
        },
        "id": "fymBcs6GZAu5",
        "outputId": "308bf97c-66b3-45d7-a35f-41d8691f9cd4"
      },
      "execution_count": 52,
      "outputs": [
        {
          "output_type": "stream",
          "name": "stdout",
          "text": [
            "[1] 50\n"
          ]
        }
      ]
    },
    {
      "cell_type": "code",
      "source": [
        "# Function w/ return types\n",
        "a = sqrt(16)"
      ],
      "metadata": {
        "id": "jgd_6zkIZISR"
      },
      "execution_count": 54,
      "outputs": []
    },
    {
      "cell_type": "code",
      "source": [
        "# Function w/ return types\n",
        "check <- function(x) {\n",
        "  if(x>0){\n",
        "    result <-\"Positve\"\n",
        "  }\n",
        "  else if(x<0){\n",
        "    result <- \"Negative\"\n",
        "  }\n",
        "  else{\n",
        "    result <- \"Zero\"\n",
        "\n",
        "  }\n",
        "\n",
        "return (result)\n",
        "\n",
        "}"
      ],
      "metadata": {
        "id": "Dx0mwhBRbTPH"
      },
      "execution_count": 67,
      "outputs": []
    },
    {
      "cell_type": "code",
      "source": [
        "ans=check(-61)"
      ],
      "metadata": {
        "id": "SON5899XbhW6"
      },
      "execution_count": 74,
      "outputs": []
    },
    {
      "cell_type": "code",
      "source": [
        "print(ans)"
      ],
      "metadata": {
        "colab": {
          "base_uri": "https://localhost:8080/"
        },
        "id": "IDd-N7HqcjmH",
        "outputId": "f014a8b8-0138-4414-cfdc-6c35638754de"
      },
      "execution_count": 75,
      "outputs": [
        {
          "output_type": "stream",
          "name": "stdout",
          "text": [
            "[1] \"Negative\"\n"
          ]
        }
      ]
    },
    {
      "cell_type": "code",
      "source": [
        "check <- function(x) {\n",
        "  if(x>0){\n",
        "    return(\"Positve\")\n",
        "  }\n",
        "  if(x<0){\n",
        "    return(\"Negative\")\n",
        "  }\n",
        "  \n",
        "  return(\"Zero\")\n",
        "    \n",
        "}"
      ],
      "metadata": {
        "id": "Fu7zCjrccoqN"
      },
      "execution_count": 76,
      "outputs": []
    }
  ]
}