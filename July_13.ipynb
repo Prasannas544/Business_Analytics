{
  "nbformat": 4,
  "nbformat_minor": 0,
  "metadata": {
    "colab": {
      "name": "July_13.ipynb",
      "provenance": [],
      "authorship_tag": "ABX9TyPqqOhSM3DtTib8g+nKhyhb",
      "include_colab_link": true
    },
    "kernelspec": {
      "name": "ir",
      "display_name": "R"
    },
    "language_info": {
      "name": "R"
    }
  },
  "cells": [
    {
      "cell_type": "markdown",
      "metadata": {
        "id": "view-in-github",
        "colab_type": "text"
      },
      "source": [
        "<a href=\"https://colab.research.google.com/github/Prasannas544/Business_Analytics/blob/main/July_13.ipynb\" target=\"_parent\"><img src=\"https://colab.research.google.com/assets/colab-badge.svg\" alt=\"Open In Colab\"/></a>"
      ]
    },
    {
      "cell_type": "code",
      "execution_count": 9,
      "metadata": {
        "id": "dUtFTAjwSRL8"
      },
      "outputs": [],
      "source": [
        "# Create a function to print squares of numbers in sequence.\n",
        "squaresq <- function(a) {\n",
        "    #function body\n",
        "    for(i in 1:a){\n",
        "        b <- i^2\n",
        "        print(b)\n",
        "    } \n",
        "}"
      ]
    },
    {
      "cell_type": "code",
      "source": [
        "squaresq(16)"
      ],
      "metadata": {
        "id": "7KYEWyS3Sawv"
      },
      "execution_count": null,
      "outputs": []
    },
    {
      "cell_type": "code",
      "source": [
        "# Create a function w/o argument\n",
        "sqwoarg <- function() {\n",
        "    #function body\n",
        "    for(i in 1:5){\n",
        "        b <- i^2\n",
        "        print(b)\n",
        "    } \n",
        "}"
      ],
      "metadata": {
        "id": "dP82C9xzSoBU"
      },
      "execution_count": 14,
      "outputs": []
    },
    {
      "cell_type": "code",
      "source": [
        "sqwoarg()"
      ],
      "metadata": {
        "colab": {
          "base_uri": "https://localhost:8080/"
        },
        "id": "qiJgUH-AT8L8",
        "outputId": "c26c9b67-9630-45a1-cec7-96716c277935"
      },
      "execution_count": 15,
      "outputs": [
        {
          "output_type": "stream",
          "name": "stdout",
          "text": [
            "[1] 1\n",
            "[1] 4\n",
            "[1] 9\n",
            "[1] 16\n",
            "[1] 25\n"
          ]
        }
      ]
    },
    {
      "cell_type": "code",
      "source": [
        "# ab + c Print after evaluation\n",
        "\n",
        "myfunc <- function(a,b,c){\n",
        "\n",
        "  result= a*b +c;\n",
        "  print(result)\n",
        "}"
      ],
      "metadata": {
        "id": "bLwNdLbBT9Yi"
      },
      "execution_count": 34,
      "outputs": []
    },
    {
      "cell_type": "code",
      "source": [
        "myfunc(4,7,1)"
      ],
      "metadata": {
        "colab": {
          "base_uri": "https://localhost:8080/"
        },
        "id": "AaauXJ37Udrr",
        "outputId": "f82053f0-46df-4138-99f5-801a368c64cf"
      },
      "execution_count": 27,
      "outputs": [
        {
          "output_type": "stream",
          "name": "stdout",
          "text": [
            "[1] 29\n"
          ]
        }
      ]
    },
    {
      "cell_type": "code",
      "source": [
        "a=10\n",
        "b=20\n",
        "c=45\n",
        "\n",
        "\n",
        "myfunc(a,a,a)  #function call"
      ],
      "metadata": {
        "colab": {
          "base_uri": "https://localhost:8080/"
        },
        "id": "TZ2VjGdWVU8l",
        "outputId": "52e84136-1e0a-4cea-d684-a1ee7f0c0a8b"
      },
      "execution_count": 35,
      "outputs": [
        {
          "output_type": "stream",
          "name": "stdout",
          "text": [
            "[1] 110\n"
          ]
        }
      ]
    },
    {
      "cell_type": "code",
      "source": [
        "# Function with default arguments\n",
        "func2 <- function (a = 3,b= 6){\n",
        "  result <- a*b;\n",
        "  print(result);\n",
        "}"
      ],
      "metadata": {
        "id": "K-LUQ5J3VZEu"
      },
      "execution_count": 45,
      "outputs": []
    },
    {
      "cell_type": "code",
      "source": [
        "func2()"
      ],
      "metadata": {
        "colab": {
          "base_uri": "https://localhost:8080/"
        },
        "id": "JN8D5mB6YJhp",
        "outputId": "0c67b0da-f39c-42b2-cef1-414939af96a3"
      },
      "execution_count": 37,
      "outputs": [
        {
          "output_type": "stream",
          "name": "stdout",
          "text": [
            "[1] 18\n"
          ]
        }
      ]
    },
    {
      "cell_type": "code",
      "source": [
        "func2(9,5)"
      ],
      "metadata": {
        "colab": {
          "base_uri": "https://localhost:8080/"
        },
        "id": "NUTjs2pgYMOY",
        "outputId": "ff53dac3-2461-4f9c-d375-5251c93a0dac"
      },
      "execution_count": 38,
      "outputs": [
        {
          "output_type": "stream",
          "name": "stdout",
          "text": [
            "[1] 45\n"
          ]
        }
      ]
    },
    {
      "cell_type": "code",
      "source": [
        "func2(,10)"
      ],
      "metadata": {
        "colab": {
          "base_uri": "https://localhost:8080/"
        },
        "id": "v5mTkLGtYUja",
        "outputId": "3b7ea2ba-f3cb-4ca7-c99c-6b5a54b05652"
      },
      "execution_count": 41,
      "outputs": [
        {
          "output_type": "stream",
          "name": "stdout",
          "text": [
            "[1] 30\n"
          ]
        }
      ]
    },
    {
      "cell_type": "code",
      "source": [
        "func2(10)"
      ],
      "metadata": {
        "colab": {
          "base_uri": "https://localhost:8080/"
        },
        "id": "bzSYl91lYdPs",
        "outputId": "5e49e2f6-c994-4278-dae2-84e6d1994569"
      },
      "execution_count": 42,
      "outputs": [
        {
          "output_type": "stream",
          "name": "stdout",
          "text": [
            "[1] 60\n"
          ]
        }
      ]
    },
    {
      "cell_type": "code",
      "source": [
        "# Function with default arguments\n",
        "func3 <- function (a ,b = 6){\n",
        "  result <- a*b;\n",
        "  print(result);\n",
        "}"
      ],
      "metadata": {
        "id": "4dQSm5tiYurg"
      },
      "execution_count": 46,
      "outputs": []
    },
    {
      "cell_type": "code",
      "source": [
        "a=func3(5,10)"
      ],
      "metadata": {
        "colab": {
          "base_uri": "https://localhost:8080/"
        },
        "id": "fymBcs6GZAu5",
        "outputId": "308bf97c-66b3-45d7-a35f-41d8691f9cd4"
      },
      "execution_count": 52,
      "outputs": [
        {
          "output_type": "stream",
          "name": "stdout",
          "text": [
            "[1] 50\n"
          ]
        }
      ]
    },
    {
      "cell_type": "code",
      "source": [
        "# Function w/ return types\n",
        "a = sqrt(16)"
      ],
      "metadata": {
        "id": "jgd_6zkIZISR"
      },
      "execution_count": 54,
      "outputs": []
    },
    {
      "cell_type": "code",
      "source": [
        "# Function w/ return types\n",
        "check <- function(x) {\n",
        "  if(x>0){\n",
        "    result <-\"Positve\"\n",
        "  }\n",
        "  else if(x<0){\n",
        "    result <- \"Negative\"\n",
        "  }\n",
        "  else{\n",
        "    result <- \"Zero\"\n",
        "\n",
        "  }\n",
        "\n",
        "return (result)\n",
        "\n",
        "}"
      ],
      "metadata": {
        "id": "Dx0mwhBRbTPH"
      },
      "execution_count": 67,
      "outputs": []
    },
    {
      "cell_type": "code",
      "source": [
        "ans=check(-61)"
      ],
      "metadata": {
        "id": "SON5899XbhW6"
      },
      "execution_count": 74,
      "outputs": []
    },
    {
      "cell_type": "code",
      "source": [
        "print(ans)"
      ],
      "metadata": {
        "colab": {
          "base_uri": "https://localhost:8080/"
        },
        "id": "IDd-N7HqcjmH",
        "outputId": "f014a8b8-0138-4414-cfdc-6c35638754de"
      },
      "execution_count": 75,
      "outputs": [
        {
          "output_type": "stream",
          "name": "stdout",
          "text": [
            "[1] \"Negative\"\n"
          ]
        }
      ]
    },
    {
      "cell_type": "code",
      "source": [
        "check <- function(x) {\n",
        "  if(x>0){\n",
        "    return(\"Positve\")\n",
        "  }\n",
        "  if(x<0){\n",
        "    return(\"Negative\")\n",
        "  }\n",
        "  \n",
        "  return(\"Zero\")\n",
        "    \n",
        "}"
      ],
      "metadata": {
        "id": "Fu7zCjrccoqN"
      },
      "execution_count": 76,
      "outputs": []
    },
    {
      "cell_type": "markdown",
      "source": [
        "Cleaning Walmart data"
      ],
      "metadata": {
        "id": "XvYNVMVIheMZ"
      }
    },
    {
      "cell_type": "code",
      "source": [
        "#Load the walmart_data and walmart_features files\n",
        "walmart_data = read.csv(\"/content/sample_data/walmart_data.csv\")"
      ],
      "metadata": {
        "id": "RoKM2534iUpC"
      },
      "execution_count": 83,
      "outputs": []
    },
    {
      "cell_type": "code",
      "source": [
        "walmart_features <- read.csv(\"/content/sample_data/walmart_features.csv\")"
      ],
      "metadata": {
        "id": "kVI1XimnjARc"
      },
      "execution_count": 78,
      "outputs": []
    },
    {
      "cell_type": "code",
      "source": [
        "walmart_data"
      ],
      "metadata": {
        "id": "2-BcFlvyjKMb"
      },
      "execution_count": null,
      "outputs": []
    },
    {
      "cell_type": "code",
      "source": [
        "walmart_features"
      ],
      "metadata": {
        "id": "2MU8EAiYjLL8"
      },
      "execution_count": null,
      "outputs": []
    },
    {
      "cell_type": "code",
      "source": [
        "#Store the number of rows of walmart_data in a variable called n_rows\n",
        "  n_rows <- nrow(walmart_data)\n",
        "  n_rows"
      ],
      "metadata": {
        "colab": {
          "base_uri": "https://localhost:8080/",
          "height": 34
        },
        "id": "JgHOcGwyjkxH",
        "outputId": "8fd0273d-504f-4ae7-c9dc-1b39d2291785"
      },
      "execution_count": 91,
      "outputs": [
        {
          "output_type": "display_data",
          "data": {
            "text/html": [
              "421570"
            ],
            "text/markdown": "421570",
            "text/latex": "421570",
            "text/plain": [
              "[1] 421570"
            ]
          },
          "metadata": {}
        }
      ]
    },
    {
      "cell_type": "code",
      "source": [
        "print(head(walmart_data))   #Top 10 rows of the datset"
      ],
      "metadata": {
        "colab": {
          "base_uri": "https://localhost:8080/"
        },
        "id": "jLVH17Gjkmos",
        "outputId": "f6805ea0-eb2a-4eab-93b2-fba2b674ff30"
      },
      "execution_count": 96,
      "outputs": [
        {
          "output_type": "stream",
          "name": "stdout",
          "text": [
            "  Store Dept       Date Weekly_Sales IsHoliday\n",
            "1     1    1 2010-02-05     24924.50     FALSE\n",
            "2     1    1 2010-02-12     46039.49      TRUE\n",
            "3     1    1 2010-02-19     41595.55     FALSE\n",
            "4     1    1 2010-02-26     19403.54     FALSE\n",
            "5     1    1 2010-03-05     21827.90     FALSE\n",
            "6     1    1 2010-03-12     21043.39     FALSE\n"
          ]
        }
      ]
    },
    {
      "cell_type": "code",
      "source": [
        "print(tail(walmart_data,10))   #Bottom 10 rows of the datset"
      ],
      "metadata": {
        "id": "B_tRH4zgkwdH"
      },
      "execution_count": null,
      "outputs": []
    },
    {
      "cell_type": "code",
      "source": [
        "# Count the number of rows per Store and store the resulting object in R with the name rows_per_store \n",
        "   rows_per_store =  table(walmart_data$Store) #create a frequency table\n",
        "   rows_per_store"
      ],
      "metadata": {
        "colab": {
          "base_uri": "https://localhost:8080/",
          "height": 34
        },
        "id": "BCQVZAaImJe8",
        "outputId": "c612e43d-40c3-40ca-81a8-bc699fbf79c8"
      },
      "execution_count": 99,
      "outputs": [
        {
          "output_type": "display_data",
          "data": {
            "text/html": [
              "'integer'"
            ],
            "text/markdown": "'integer'",
            "text/latex": "'integer'",
            "text/plain": [
              "[1] \"integer\""
            ]
          },
          "metadata": {}
        }
      ]
    },
    {
      "cell_type": "code",
      "source": [
        "rows_per_store = as.data.frame( rows_per_store)\n",
        "rows_per_store"
      ],
      "metadata": {
        "id": "v_uhF-Hkn2JV"
      },
      "execution_count": null,
      "outputs": []
    },
    {
      "cell_type": "code",
      "source": [
        "#Which store has the most rows ? \n",
        "max(rows_per_store$Freq)"
      ],
      "metadata": {
        "colab": {
          "base_uri": "https://localhost:8080/",
          "height": 34
        },
        "id": "lNHIdbWmooPB",
        "outputId": "6c87c20b-6bde-471d-fb55-ddf525c20f45"
      },
      "execution_count": 103,
      "outputs": [
        {
          "output_type": "display_data",
          "data": {
            "text/html": [
              "10474"
            ],
            "text/markdown": "10474",
            "text/latex": "10474",
            "text/plain": [
              "[1] 10474"
            ]
          },
          "metadata": {}
        }
      ]
    },
    {
      "cell_type": "code",
      "source": [
        "rows_per_store[order(rows_per_store$Freq),]     #Increasing order"
      ],
      "metadata": {
        "id": "sbdTWM8XpZdR"
      },
      "execution_count": null,
      "outputs": []
    },
    {
      "cell_type": "code",
      "source": [
        "rows_per_store[order(-rows_per_store$Freq),]    #Decreasing order   "
      ],
      "metadata": {
        "id": "6nAyF62Jqf-1"
      },
      "execution_count": null,
      "outputs": []
    },
    {
      "cell_type": "code",
      "source": [
        "rows_per_store[order(-rows_per_store$Freq),'Var1']   # we get a factor "
      ],
      "metadata": {
        "colab": {
          "base_uri": "https://localhost:8080/",
          "height": 52
        },
        "id": "z-6zu38jrJgA",
        "outputId": "337c6260-6b4f-4b32-ec17-6bf4c3d11e68"
      },
      "execution_count": 122,
      "outputs": [
        {
          "output_type": "display_data",
          "data": {
            "text/html": [
              "<style>\n",
              ".list-inline {list-style: none; margin:0; padding: 0}\n",
              ".list-inline>li {display: inline-block}\n",
              ".list-inline>li:not(:last-child)::after {content: \"\\00b7\"; padding: 0 .5ex}\n",
              "</style>\n",
              "<ol class=list-inline><li>13</li><li>10</li><li>4</li><li>1</li><li>2</li><li>24</li><li>27</li><li>34</li><li>20</li><li>6</li><li>32</li><li>19</li><li>31</li><li>28</li><li>41</li><li>11</li><li>23</li><li>14</li><li>40</li><li>15</li><li>8</li><li>39</li><li>17</li><li>18</li><li>26</li><li>25</li><li>7</li><li>12</li><li>22</li><li>45</li><li>21</li><li>35</li><li>29</li><li>16</li><li>3</li><li>5</li><li>9</li><li>38</li><li>37</li><li>44</li><li>30</li><li>42</li><li>43</li><li>33</li><li>36</li></ol>\n",
              "\n",
              "<details>\n",
              "\t<summary style=display:list-item;cursor:pointer>\n",
              "\t\t<strong>Levels</strong>:\n",
              "\t</summary>\n",
              "\t<style>\n",
              "\t.list-inline {list-style: none; margin:0; padding: 0}\n",
              "\t.list-inline>li {display: inline-block}\n",
              "\t.list-inline>li:not(:last-child)::after {content: \"\\00b7\"; padding: 0 .5ex}\n",
              "\t</style>\n",
              "\t<ol class=list-inline><li>'1'</li><li>'2'</li><li>'3'</li><li>'4'</li><li>'5'</li><li>'6'</li><li>'7'</li><li>'8'</li><li>'9'</li><li>'10'</li><li>'11'</li><li>'12'</li><li>'13'</li><li>'14'</li><li>'15'</li><li>'16'</li><li>'17'</li><li>'18'</li><li>'19'</li><li>'20'</li><li>'21'</li><li>'22'</li><li>'23'</li><li>'24'</li><li>'25'</li><li>'26'</li><li>'27'</li><li>'28'</li><li>'29'</li><li>'30'</li><li>'31'</li><li>'32'</li><li>'33'</li><li>'34'</li><li>'35'</li><li>'36'</li><li>'37'</li><li>'38'</li><li>'39'</li><li>'40'</li><li>'41'</li><li>'42'</li><li>'43'</li><li>'44'</li><li>'45'</li></ol>\n",
              "</details>"
            ],
            "text/markdown": "1. 13\n2. 10\n3. 4\n4. 1\n5. 2\n6. 24\n7. 27\n8. 34\n9. 20\n10. 6\n11. 32\n12. 19\n13. 31\n14. 28\n15. 41\n16. 11\n17. 23\n18. 14\n19. 40\n20. 15\n21. 8\n22. 39\n23. 17\n24. 18\n25. 26\n26. 25\n27. 7\n28. 12\n29. 22\n30. 45\n31. 21\n32. 35\n33. 29\n34. 16\n35. 3\n36. 5\n37. 9\n38. 38\n39. 37\n40. 44\n41. 30\n42. 42\n43. 43\n44. 33\n45. 36\n\n\n\n**Levels**: 1. '1'\n2. '2'\n3. '3'\n4. '4'\n5. '5'\n6. '6'\n7. '7'\n8. '8'\n9. '9'\n10. '10'\n11. '11'\n12. '12'\n13. '13'\n14. '14'\n15. '15'\n16. '16'\n17. '17'\n18. '18'\n19. '19'\n20. '20'\n21. '21'\n22. '22'\n23. '23'\n24. '24'\n25. '25'\n26. '26'\n27. '27'\n28. '28'\n29. '29'\n30. '30'\n31. '31'\n32. '32'\n33. '33'\n34. '34'\n35. '35'\n36. '36'\n37. '37'\n38. '38'\n39. '39'\n40. '40'\n41. '41'\n42. '42'\n43. '43'\n44. '44'\n45. '45'\n\n\n",
            "text/latex": "\\begin{enumerate*}\n\\item 13\n\\item 10\n\\item 4\n\\item 1\n\\item 2\n\\item 24\n\\item 27\n\\item 34\n\\item 20\n\\item 6\n\\item 32\n\\item 19\n\\item 31\n\\item 28\n\\item 41\n\\item 11\n\\item 23\n\\item 14\n\\item 40\n\\item 15\n\\item 8\n\\item 39\n\\item 17\n\\item 18\n\\item 26\n\\item 25\n\\item 7\n\\item 12\n\\item 22\n\\item 45\n\\item 21\n\\item 35\n\\item 29\n\\item 16\n\\item 3\n\\item 5\n\\item 9\n\\item 38\n\\item 37\n\\item 44\n\\item 30\n\\item 42\n\\item 43\n\\item 33\n\\item 36\n\\end{enumerate*}\n\n\\emph{Levels}: \\begin{enumerate*}\n\\item '1'\n\\item '2'\n\\item '3'\n\\item '4'\n\\item '5'\n\\item '6'\n\\item '7'\n\\item '8'\n\\item '9'\n\\item '10'\n\\item '11'\n\\item '12'\n\\item '13'\n\\item '14'\n\\item '15'\n\\item '16'\n\\item '17'\n\\item '18'\n\\item '19'\n\\item '20'\n\\item '21'\n\\item '22'\n\\item '23'\n\\item '24'\n\\item '25'\n\\item '26'\n\\item '27'\n\\item '28'\n\\item '29'\n\\item '30'\n\\item '31'\n\\item '32'\n\\item '33'\n\\item '34'\n\\item '35'\n\\item '36'\n\\item '37'\n\\item '38'\n\\item '39'\n\\item '40'\n\\item '41'\n\\item '42'\n\\item '43'\n\\item '44'\n\\item '45'\n\\end{enumerate*}\n",
            "text/plain": [
              " [1] 13 10 4  1  2  24 27 34 20 6  32 19 31 28 41 11 23 14 40 15 8  39 17 18 26\n",
              "[26] 25 7  12 22 45 21 35 29 16 3  5  9  38 37 44 30 42 43 33 36\n",
              "45 Levels: 1 2 3 4 5 6 7 8 9 10 11 12 13 14 15 16 17 18 19 20 21 22 23 ... 45"
            ]
          },
          "metadata": {}
        }
      ]
    },
    {
      "cell_type": "code",
      "source": [
        "vec=as.character(rows_per_store[order(-rows_per_store$Freq),'Var1'])   "
      ],
      "metadata": {
        "id": "j7GXyBVSsP9P"
      },
      "execution_count": 120,
      "outputs": []
    },
    {
      "cell_type": "code",
      "source": [
        "as.character(rows_per_store[order(-rows_per_store$Freq),'Var1'])[1]"
      ],
      "metadata": {
        "colab": {
          "base_uri": "https://localhost:8080/",
          "height": 34
        },
        "id": "icZRWWpmsiDe",
        "outputId": "0dfe388c-316d-4602-c769-afbf414b9e1c"
      },
      "execution_count": 118,
      "outputs": [
        {
          "output_type": "display_data",
          "data": {
            "text/html": [
              "'13'"
            ],
            "text/markdown": "'13'",
            "text/latex": "'13'",
            "text/plain": [
              "[1] \"13\""
            ]
          },
          "metadata": {}
        }
      ]
    },
    {
      "cell_type": "code",
      "source": [
        "vec[1]"
      ],
      "metadata": {
        "colab": {
          "base_uri": "https://localhost:8080/",
          "height": 34
        },
        "id": "8KskqwkkslSN",
        "outputId": "0dd3e914-55b3-4fd1-c42e-ff0d7a26cc76"
      },
      "execution_count": 121,
      "outputs": [
        {
          "output_type": "display_data",
          "data": {
            "text/html": [
              "'13'"
            ],
            "text/markdown": "'13'",
            "text/latex": "'13'",
            "text/plain": [
              "[1] \"13\""
            ]
          },
          "metadata": {}
        }
      ]
    },
    {
      "cell_type": "code",
      "source": [
        ""
      ],
      "metadata": {
        "id": "ZPGmcZqTswu7"
      },
      "execution_count": null,
      "outputs": []
    }
  ]
}