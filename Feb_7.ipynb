{
  "nbformat": 4,
  "nbformat_minor": 0,
  "metadata": {
    "colab": {
      "name": "Feb-7.ipynb",
      "provenance": [],
      "authorship_tag": "ABX9TyOCyd9Fbzo+oF7ivich4NCo",
      "include_colab_link": true
    },
    "kernelspec": {
      "name": "ir",
      "display_name": "R"
    },
    "language_info": {
      "name": "R"
    }
  },
  "cells": [
    {
      "cell_type": "markdown",
      "metadata": {
        "id": "view-in-github",
        "colab_type": "text"
      },
      "source": [
        "<a href=\"https://colab.research.google.com/github/Prasannas544/Business_Analytics/blob/main/Feb_7.ipynb\" target=\"_parent\"><img src=\"https://colab.research.google.com/assets/colab-badge.svg\" alt=\"Open In Colab\"/></a>"
      ]
    },
    {
      "cell_type": "code",
      "execution_count": null,
      "metadata": {
        "id": "IZ_9XqLo8CRN"
      },
      "outputs": [],
      "source": [
        "cities_population <- c(10000,20000,4000,3000)"
      ]
    },
    {
      "cell_type": "code",
      "source": [
        "cities_population\n"
      ],
      "metadata": {
        "id": "3hZ8pS5j8ud_"
      },
      "execution_count": null,
      "outputs": []
    },
    {
      "cell_type": "code",
      "source": [
        "countries_population"
      ],
      "metadata": {
        "id": "niu8e6v89HZQ"
      },
      "execution_count": null,
      "outputs": []
    },
    {
      "cell_type": "code",
      "source": [
        "rm(cities_population)"
      ],
      "metadata": {
        "id": "yi5dk-pB8xyF"
      },
      "execution_count": null,
      "outputs": []
    },
    {
      "cell_type": "code",
      "source": [
        "char_cities_population <- c(10000,20000,4000,\"3000\")"
      ],
      "metadata": {
        "id": "-CKrrG1d8zhw"
      },
      "execution_count": null,
      "outputs": []
    },
    {
      "cell_type": "code",
      "source": [
        "typeof(char_cities_population)"
      ],
      "metadata": {
        "id": "mPoFPC6L9Ddx"
      },
      "execution_count": null,
      "outputs": []
    },
    {
      "cell_type": "code",
      "source": [
        "sum(cities_population)"
      ],
      "metadata": {
        "id": "TQVFxYo19kNf"
      },
      "execution_count": null,
      "outputs": []
    },
    {
      "cell_type": "code",
      "source": [
        "sum(char_cities_population)"
      ],
      "metadata": {
        "id": "cjMck3Mf9tQT"
      },
      "execution_count": null,
      "outputs": []
    },
    {
      "cell_type": "markdown",
      "source": [
        "Vector Indexing and Slicing"
      ],
      "metadata": {
        "id": "qovFCTM3agJB"
      }
    },
    {
      "cell_type": "code",
      "source": [
        "melons=c(1.2,1.4,2.4,3.4)"
      ],
      "metadata": {
        "id": "Pa5Ei10AajHe"
      },
      "execution_count": null,
      "outputs": []
    },
    {
      "cell_type": "code",
      "source": [
        "melons[1] #indexing by position"
      ],
      "metadata": {
        "id": "_PT-0piGay-U"
      },
      "execution_count": null,
      "outputs": []
    },
    {
      "cell_type": "code",
      "source": [
        "melons[5]"
      ],
      "metadata": {
        "id": "mDl3cgFRa0vU"
      },
      "execution_count": null,
      "outputs": []
    },
    {
      "cell_type": "code",
      "source": [
        "melons[2:4] #indexing by slicing"
      ],
      "metadata": {
        "id": "mKO0uMxsa2YR"
      },
      "execution_count": null,
      "outputs": []
    },
    {
      "cell_type": "code",
      "source": [
        "melons[c(1,4)] #indexing using vectors\n",
        "#to get weight of 1st melon and 4th melon"
      ],
      "metadata": {
        "id": "00pYFs5ma9K4"
      },
      "execution_count": null,
      "outputs": []
    },
    {
      "cell_type": "code",
      "source": [
        "#Vector Operations\n",
        "melons[1] + melons[2] +melons[3] +melons[4]      #not suitable for 100 elements"
      ],
      "metadata": {
        "id": "eHBRXi8YbMD-"
      },
      "execution_count": null,
      "outputs": []
    },
    {
      "cell_type": "code",
      "source": [
        "sum(melons) #sum up every object in a vector"
      ],
      "metadata": {
        "id": "9V9SZVEobtKh"
      },
      "execution_count": null,
      "outputs": []
    },
    {
      "cell_type": "code",
      "source": [
        "2*melons # double the weight of each melon"
      ],
      "metadata": {
        "id": "pinJfk6Ob0to"
      },
      "execution_count": null,
      "outputs": []
    },
    {
      "cell_type": "code",
      "source": [
        "melons + melons    #addition of respective indexes"
      ],
      "metadata": {
        "id": "Otj3L4F1cDto"
      },
      "execution_count": null,
      "outputs": []
    },
    {
      "cell_type": "code",
      "source": [
        "melons/2"
      ],
      "metadata": {
        "id": "DAO1S9aDcLJ0"
      },
      "execution_count": null,
      "outputs": []
    },
    {
      "cell_type": "code",
      "source": [
        "sqrt(melons)"
      ],
      "metadata": {
        "id": "jPMNFdIicUnA"
      },
      "execution_count": null,
      "outputs": []
    },
    {
      "cell_type": "code",
      "source": [
        "#first 2 melons are 20% wt and last 2 melons have 40% weight\n",
        "adjusted_weights=c(1.2,1.2,1.4,1.4)\n",
        "melons*adjusted_weights"
      ],
      "metadata": {
        "id": "Jl7UPYNMcVxD"
      },
      "execution_count": null,
      "outputs": []
    },
    {
      "cell_type": "code",
      "source": [
        "melons[1]"
      ],
      "metadata": {
        "id": "Eo2buP1YcrgT"
      },
      "execution_count": null,
      "outputs": []
    },
    {
      "cell_type": "code",
      "source": [
        "adjusted_weights[1]"
      ],
      "metadata": {
        "id": "xVyxDaGIc7Mi"
      },
      "execution_count": null,
      "outputs": []
    },
    {
      "cell_type": "code",
      "source": [
        "1.2*1.2 # Verified the result"
      ],
      "metadata": {
        "id": "FgkJ9XOKc8qo"
      },
      "execution_count": null,
      "outputs": []
    },
    {
      "cell_type": "code",
      "source": [
        "new_melons=c(1.2,1.4,2.4,3.4,1)"
      ],
      "metadata": {
        "id": "XeUFJIA-c965"
      },
      "execution_count": null,
      "outputs": []
    },
    {
      "cell_type": "code",
      "source": [
        "adjusted_weights=c(1.2,1.2,1.4,1.4)\n",
        "new_melons*adjusted_weights"
      ],
      "metadata": {
        "id": "zFU9V8OTdPh2"
      },
      "execution_count": null,
      "outputs": []
    },
    {
      "cell_type": "code",
      "source": [
        "mean(melons)"
      ],
      "metadata": {
        "id": "e3yEG9dBdVW8"
      },
      "execution_count": null,
      "outputs": []
    },
    {
      "cell_type": "code",
      "source": [
        "length(melons)"
      ],
      "metadata": {
        "id": "Ko9rwtIpd0Gc"
      },
      "execution_count": null,
      "outputs": []
    },
    {
      "cell_type": "code",
      "source": [
        "median(melons)"
      ],
      "metadata": {
        "id": "1nP22NX6d57b"
      },
      "execution_count": null,
      "outputs": []
    },
    {
      "cell_type": "code",
      "source": [
        "sd(melons)"
      ],
      "metadata": {
        "colab": {
          "base_uri": "https://localhost:8080/",
          "height": 34
        },
        "id": "SdqXADRnd-_d",
        "outputId": "2e99e8b1-6fde-4f1b-a3e7-2132d789f720"
      },
      "execution_count": null,
      "outputs": [
        {
          "output_type": "display_data",
          "data": {
            "text/plain": [
              "[1] 1.013246"
            ],
            "text/latex": "1.01324561023804",
            "text/markdown": "1.01324561023804",
            "text/html": [
              "1.01324561023804"
            ]
          },
          "metadata": {}
        }
      ]
    },
    {
      "cell_type": "code",
      "source": [
        "sort(melons) # output is a vector"
      ],
      "metadata": {
        "colab": {
          "base_uri": "https://localhost:8080/",
          "height": 34
        },
        "id": "cUsg2pkMeEGV",
        "outputId": "4688eecc-e6dc-4789-8b30-75d1e430b87e"
      },
      "execution_count": null,
      "outputs": [
        {
          "output_type": "display_data",
          "data": {
            "text/plain": [
              "[1] 1.2 1.4 2.4 3.4"
            ],
            "text/latex": "\\begin{enumerate*}\n\\item 1.2\n\\item 1.4\n\\item 2.4\n\\item 3.4\n\\end{enumerate*}\n",
            "text/markdown": "1. 1.2\n2. 1.4\n3. 2.4\n4. 3.4\n\n\n",
            "text/html": [
              "<style>\n",
              ".list-inline {list-style: none; margin:0; padding: 0}\n",
              ".list-inline>li {display: inline-block}\n",
              ".list-inline>li:not(:last-child)::after {content: \"\\00b7\"; padding: 0 .5ex}\n",
              "</style>\n",
              "<ol class=list-inline><li>1.2</li><li>1.4</li><li>2.4</li><li>3.4</li></ol>\n"
            ]
          },
          "metadata": {}
        }
      ]
    },
    {
      "cell_type": "code",
      "source": [
        "sort(melons,decreasing = TRUE)"
      ],
      "metadata": {
        "colab": {
          "base_uri": "https://localhost:8080/",
          "height": 34
        },
        "id": "epbGUIJteNua",
        "outputId": "21f3a292-0f14-41e7-950e-dcba06450324"
      },
      "execution_count": null,
      "outputs": [
        {
          "output_type": "display_data",
          "data": {
            "text/plain": [
              "[1] 3.4 2.4 1.4 1.2"
            ],
            "text/latex": "\\begin{enumerate*}\n\\item 3.4\n\\item 2.4\n\\item 1.4\n\\item 1.2\n\\end{enumerate*}\n",
            "text/markdown": "1. 3.4\n2. 2.4\n3. 1.4\n4. 1.2\n\n\n",
            "text/html": [
              "<style>\n",
              ".list-inline {list-style: none; margin:0; padding: 0}\n",
              ".list-inline>li {display: inline-block}\n",
              ".list-inline>li:not(:last-child)::after {content: \"\\00b7\"; padding: 0 .5ex}\n",
              "</style>\n",
              "<ol class=list-inline><li>3.4</li><li>2.4</li><li>1.4</li><li>1.2</li></ol>\n"
            ]
          },
          "metadata": {}
        }
      ]
    },
    {
      "cell_type": "code",
      "source": [
        "new_melons=c(1.2,1.4,2.4,3.4,NA) #5th melon with unknown weight"
      ],
      "metadata": {
        "id": "Wzqj37YDeURn"
      },
      "execution_count": null,
      "outputs": []
    },
    {
      "cell_type": "code",
      "source": [
        "sum(new_melons) #NA will give problems"
      ],
      "metadata": {
        "colab": {
          "base_uri": "https://localhost:8080/",
          "height": 34
        },
        "id": "9H8KzLfhf1eL",
        "outputId": "fe71a833-1855-4247-ca4f-5f2660b6a488"
      },
      "execution_count": null,
      "outputs": [
        {
          "output_type": "display_data",
          "data": {
            "text/plain": [
              "[1] NA"
            ],
            "text/latex": "<NA>",
            "text/markdown": "&lt;NA&gt;",
            "text/html": [
              "&lt;NA&gt;"
            ]
          },
          "metadata": {}
        }
      ]
    },
    {
      "cell_type": "code",
      "source": [
        "sum(new_melons,na.rm=TRUE) #to ignore the NA "
      ],
      "metadata": {
        "colab": {
          "base_uri": "https://localhost:8080/",
          "height": 34
        },
        "id": "yvm4ygqsf35h",
        "outputId": "ab9d284b-b703-4766-d830-6905665c1158"
      },
      "execution_count": null,
      "outputs": [
        {
          "output_type": "display_data",
          "data": {
            "text/plain": [
              "[1] 8.4"
            ],
            "text/latex": "8.4",
            "text/markdown": "8.4",
            "text/html": [
              "8.4"
            ]
          },
          "metadata": {}
        }
      ]
    },
    {
      "cell_type": "code",
      "source": [
        "new_melons=c(1.2,1.4,2.4,3.4,NaN)"
      ],
      "metadata": {
        "id": "dmPl-TXEf-Qn"
      },
      "execution_count": null,
      "outputs": []
    },
    {
      "cell_type": "code",
      "source": [
        "sqrt(-1)"
      ],
      "metadata": {
        "colab": {
          "base_uri": "https://localhost:8080/",
          "height": 69
        },
        "id": "ZGT9tXK-iBjr",
        "outputId": "75a776c4-d246-4d63-aeaa-98a15c660687"
      },
      "execution_count": null,
      "outputs": [
        {
          "output_type": "stream",
          "name": "stderr",
          "text": [
            "Warning message in sqrt(-1):\n",
            "“NaNs produced”\n"
          ]
        },
        {
          "output_type": "display_data",
          "data": {
            "text/plain": [
              "[1] NaN"
            ],
            "text/latex": "NaN",
            "text/markdown": "NaN",
            "text/html": [
              "NaN"
            ]
          },
          "metadata": {}
        }
      ]
    },
    {
      "cell_type": "code",
      "source": [
        "sum(new_melons)"
      ],
      "metadata": {
        "colab": {
          "base_uri": "https://localhost:8080/",
          "height": 34
        },
        "id": "qh-yiS52iEmy",
        "outputId": "b2b90253-88ed-4b01-9630-539cc055284e"
      },
      "execution_count": null,
      "outputs": [
        {
          "output_type": "display_data",
          "data": {
            "text/plain": [
              "[1] NaN"
            ],
            "text/latex": "NaN",
            "text/markdown": "NaN",
            "text/html": [
              "NaN"
            ]
          },
          "metadata": {}
        }
      ]
    },
    {
      "cell_type": "code",
      "source": [
        "sum(new_melons,na.rm=TRUE) #to ignore the NaN"
      ],
      "metadata": {
        "id": "tVL_A3DOiI84"
      },
      "execution_count": null,
      "outputs": []
    },
    {
      "cell_type": "code",
      "source": [
        ""
      ],
      "metadata": {
        "id": "n_0_qO9MiNIT"
      },
      "execution_count": null,
      "outputs": []
    },
    {
      "cell_type": "markdown",
      "source": [
        "Comparison Operators"
      ],
      "metadata": {
        "id": "pNCgrzFjiecE"
      }
    },
    {
      "cell_type": "code",
      "source": [
        "#suppose i want to eat all the melons with above 2 kg weight\n",
        "melons > 2     # a logical vector"
      ],
      "metadata": {
        "id": "krFljmxBih6R"
      },
      "execution_count": null,
      "outputs": []
    },
    {
      "cell_type": "code",
      "source": [
        "melons[melons>2]"
      ],
      "metadata": {
        "id": "WicVrM5Tiu-M"
      },
      "execution_count": null,
      "outputs": []
    },
    {
      "cell_type": "code",
      "source": [
        "melons == 2.4  "
      ],
      "metadata": {
        "id": "VBJdGpTdi3XP"
      },
      "execution_count": null,
      "outputs": []
    },
    {
      "cell_type": "code",
      "source": [
        "melons != 1.4"
      ],
      "metadata": {
        "id": "SJ0F90qUjBj7"
      },
      "execution_count": null,
      "outputs": []
    },
    {
      "cell_type": "code",
      "source": [
        "which( melons >2 )  #gives position of the elements where condition is true"
      ],
      "metadata": {
        "colab": {
          "base_uri": "https://localhost:8080/",
          "height": 34
        },
        "id": "Q1VioUmKjFtI",
        "outputId": "613d3db2-3b3d-4ae4-8ba1-6fc9dded74d5"
      },
      "execution_count": null,
      "outputs": [
        {
          "output_type": "display_data",
          "data": {
            "text/plain": [
              "[1] 3 4"
            ],
            "text/latex": "\\begin{enumerate*}\n\\item 3\n\\item 4\n\\end{enumerate*}\n",
            "text/markdown": "1. 3\n2. 4\n\n\n",
            "text/html": [
              "<style>\n",
              ".list-inline {list-style: none; margin:0; padding: 0}\n",
              ".list-inline>li {display: inline-block}\n",
              ".list-inline>li:not(:last-child)::after {content: \"\\00b7\"; padding: 0 .5ex}\n",
              "</style>\n",
              "<ol class=list-inline><li>3</li><li>4</li></ol>\n"
            ]
          },
          "metadata": {}
        }
      ]
    },
    {
      "cell_type": "code",
      "source": [
        ""
      ],
      "metadata": {
        "id": "QRYHUOcyjLcc"
      },
      "execution_count": null,
      "outputs": []
    },
    {
      "cell_type": "markdown",
      "source": [
        "Names property"
      ],
      "metadata": {
        "id": "Pyw5UvORjSdy"
      }
    },
    {
      "cell_type": "code",
      "source": [
        "countries=c(10276617,67545757,67020000)"
      ],
      "metadata": {
        "id": "rQa0_ilRjUUV"
      },
      "execution_count": null,
      "outputs": []
    },
    {
      "cell_type": "code",
      "source": [
        "names(countries) <-c('Portugal','UK','France')\n"
      ],
      "metadata": {
        "id": "3sd0A5V2jc31"
      },
      "execution_count": null,
      "outputs": []
    },
    {
      "cell_type": "code",
      "source": [
        "countries['France']"
      ],
      "metadata": {
        "id": "Oux0GJ10jxR5"
      },
      "execution_count": null,
      "outputs": []
    },
    {
      "cell_type": "code",
      "source": [
        "countries['Portugal','France']"
      ],
      "metadata": {
        "id": "m6K11-YIj0O_"
      },
      "execution_count": null,
      "outputs": []
    },
    {
      "cell_type": "code",
      "source": [
        "countries[c('Portugal','France')]"
      ],
      "metadata": {
        "colab": {
          "base_uri": "https://localhost:8080/",
          "height": 34
        },
        "id": "bzGG2y5Bj5Ko",
        "outputId": "e486e649-eccc-4f67-9c56-9ad14471dcdc"
      },
      "execution_count": null,
      "outputs": [
        {
          "output_type": "display_data",
          "data": {
            "text/plain": [
              "Portugal   France \n",
              "10276617 67020000 "
            ],
            "text/latex": "\\begin{description*}\n\\item[Portugal] 10276617\n\\item[France] 67020000\n\\end{description*}\n",
            "text/markdown": "Portugal\n:   10276617France\n:   67020000\n\n",
            "text/html": [
              "<style>\n",
              ".dl-inline {width: auto; margin:0; padding: 0}\n",
              ".dl-inline>dt, .dl-inline>dd {float: none; width: auto; display: inline-block}\n",
              ".dl-inline>dt::after {content: \":\\0020\"; padding-right: .5ex}\n",
              ".dl-inline>dt:not(:first-of-type) {padding-left: .5ex}\n",
              "</style><dl class=dl-inline><dt>Portugal</dt><dd>10276617</dd><dt>France</dt><dd>67020000</dd></dl>\n"
            ]
          },
          "metadata": {}
        }
      ]
    },
    {
      "cell_type": "code",
      "source": [
        "which(countries> 20000000)"
      ],
      "metadata": {
        "colab": {
          "base_uri": "https://localhost:8080/",
          "height": 34
        },
        "id": "xRGkelTvj855",
        "outputId": "8bd19bc6-4b83-4cef-8dfa-e4203f2ffd4d"
      },
      "execution_count": null,
      "outputs": [
        {
          "output_type": "display_data",
          "data": {
            "text/plain": [
              "    UK France \n",
              "     2      3 "
            ],
            "text/latex": "\\begin{description*}\n\\item[UK] 2\n\\item[France] 3\n\\end{description*}\n",
            "text/markdown": "UK\n:   2France\n:   3\n\n",
            "text/html": [
              "<style>\n",
              ".dl-inline {width: auto; margin:0; padding: 0}\n",
              ".dl-inline>dt, .dl-inline>dd {float: none; width: auto; display: inline-block}\n",
              ".dl-inline>dt::after {content: \":\\0020\"; padding-right: .5ex}\n",
              ".dl-inline>dt:not(:first-of-type) {padding-left: .5ex}\n",
              "</style><dl class=dl-inline><dt>UK</dt><dd>2</dd><dt>France</dt><dd>3</dd></dl>\n"
            ]
          },
          "metadata": {}
        }
      ]
    },
    {
      "cell_type": "code",
      "source": [
        "names(which(countries> 20000000))"
      ],
      "metadata": {
        "colab": {
          "base_uri": "https://localhost:8080/",
          "height": 34
        },
        "id": "eYittBtfkZGt",
        "outputId": "5180e9aa-21a6-4f25-9c8b-78bbd8b85f1e"
      },
      "execution_count": null,
      "outputs": [
        {
          "output_type": "display_data",
          "data": {
            "text/plain": [
              "[1] \"UK\"     \"France\""
            ],
            "text/latex": "\\begin{enumerate*}\n\\item 'UK'\n\\item 'France'\n\\end{enumerate*}\n",
            "text/markdown": "1. 'UK'\n2. 'France'\n\n\n",
            "text/html": [
              "<style>\n",
              ".list-inline {list-style: none; margin:0; padding: 0}\n",
              ".list-inline>li {display: inline-block}\n",
              ".list-inline>li:not(:last-child)::after {content: \"\\00b7\"; padding: 0 .5ex}\n",
              "</style>\n",
              "<ol class=list-inline><li>'UK'</li><li>'France'</li></ol>\n"
            ]
          },
          "metadata": {}
        }
      ]
    },
    {
      "cell_type": "markdown",
      "source": [
        "Modifying vector elements"
      ],
      "metadata": {
        "id": "wk4yylu8k_DZ"
      }
    },
    {
      "cell_type": "code",
      "source": [
        "melons=c(1.2,1.4,2.4,3.4)"
      ],
      "metadata": {
        "id": "hcYNR5hckhd0"
      },
      "execution_count": null,
      "outputs": []
    },
    {
      "cell_type": "code",
      "source": [
        "melons[1]<-2"
      ],
      "metadata": {
        "id": "sHsk-1o-lHjs"
      },
      "execution_count": null,
      "outputs": []
    },
    {
      "cell_type": "code",
      "source": [
        "melons"
      ],
      "metadata": {
        "id": "KX4jwYkalLYk"
      },
      "execution_count": null,
      "outputs": []
    },
    {
      "cell_type": "code",
      "source": [
        "melons[2:4] <-c(3,4,5) # replacing multiple elements  # number of elemnts must match"
      ],
      "metadata": {
        "id": "l1He37xilMU-"
      },
      "execution_count": null,
      "outputs": []
    },
    {
      "cell_type": "code",
      "source": [
        "melons[5] <- 10"
      ],
      "metadata": {
        "id": "3QKKbKAElP3-"
      },
      "execution_count": null,
      "outputs": []
    },
    {
      "cell_type": "code",
      "source": [
        "#Change all the melons which weight less than 2 to 2\n",
        "melons=c(1.2,1.4,2.4,3.4,1.2)\n",
        "melons[melons<2] <-2"
      ],
      "metadata": {
        "id": "V2-_deROlhOM"
      },
      "execution_count": null,
      "outputs": []
    },
    {
      "cell_type": "code",
      "source": [
        "#removing elements from a vector\n",
        "new_melons <- melons[-c(2,4)] # removed the element at index 2 and 4   "
      ],
      "metadata": {
        "id": "-DCMWHFYlzA9"
      },
      "execution_count": null,
      "outputs": []
    },
    {
      "cell_type": "code",
      "source": [
        "new"
      ],
      "metadata": {
        "id": "eB9ZX02TmEve"
      },
      "execution_count": null,
      "outputs": []
    }
  ]
}