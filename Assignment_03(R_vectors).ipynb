{
  "nbformat": 4,
  "nbformat_minor": 0,
  "metadata": {
    "colab": {
      "name": "Assignment-03(R_vectors).ipynb",
      "provenance": [],
      "include_colab_link": true
    },
    "kernelspec": {
      "name": "ir",
      "display_name": "R"
    },
    "language_info": {
      "name": "R"
    }
  },
  "cells": [
    {
      "cell_type": "markdown",
      "metadata": {
        "id": "view-in-github",
        "colab_type": "text"
      },
      "source": [
        "<a href=\"https://colab.research.google.com/github/Prasannas544/Business_Analytics/blob/main/Assignment_03(R_vectors).ipynb\" target=\"_parent\"><img src=\"https://colab.research.google.com/assets/colab-badge.svg\" alt=\"Open In Colab\"/></a>"
      ]
    },
    {
      "cell_type": "markdown",
      "source": [
        "Devendra is a student in IIT bombay he have to print all numbers starting  from 10 and ending at 199. Can you print them for Devendra in just one line of code in R ?\n"
      ],
      "metadata": {
        "id": "aEtnpql9xKk2"
      }
    },
    {
      "cell_type": "code",
      "execution_count": null,
      "metadata": {
        "colab": {
          "base_uri": "https://localhost:8080/"
        },
        "id": "Qh9lWv8JqDH-",
        "outputId": "292d2447-9c34-4bff-b89e-bc250383a89f"
      },
      "outputs": [
        {
          "output_type": "stream",
          "name": "stdout",
          "text": [
            "  [1]  10  11  12  13  14  15  16  17  18  19  20  21  22  23  24  25  26  27\n",
            " [19]  28  29  30  31  32  33  34  35  36  37  38  39  40  41  42  43  44  45\n",
            " [37]  46  47  48  49  50  51  52  53  54  55  56  57  58  59  60  61  62  63\n",
            " [55]  64  65  66  67  68  69  70  71  72  73  74  75  76  77  78  79  80  81\n",
            " [73]  82  83  84  85  86  87  88  89  90  91  92  93  94  95  96  97  98  99\n",
            " [91] 100 101 102 103 104 105 106 107 108 109 110 111 112 113 114 115 116 117\n",
            "[109] 118 119 120 121 122 123 124 125 126 127 128 129 130 131 132 133 134 135\n",
            "[127] 136 137 138 139 140 141 142 143 144 145 146 147 148 149 150 151 152 153\n",
            "[145] 154 155 156 157 158 159 160 161 162 163 164 165 166 167 168 169 170 171\n",
            "[163] 172 173 174 175 176 177 178 179 180 181 182 183 184 185 186 187 188 189\n",
            "[181] 190 191 192 193 194 195 196 197 198 199\n"
          ]
        }
      ],
      "source": [
        ""
      ]
    },
    {
      "cell_type": "markdown",
      "source": [
        "Tokyo is your friend, She has given you a vector of marks={4,6,9,5,12,34,32,54,34,65,78,45,23,12,43,23) which they get in Professor's test. She wants you to find out the 2nd minimum marks in the class. "
      ],
      "metadata": {
        "id": "O68ojjQ8y4zr"
      }
    },
    {
      "cell_type": "code",
      "source": [
        ""
      ],
      "metadata": {
        "id": "MquOnC4pxBH9"
      },
      "execution_count": null,
      "outputs": []
    },
    {
      "cell_type": "markdown",
      "source": [
        "Sumeet sir has given you two vectors one vector containing number of customers and another vector containing the price of product they buy on respective indexes. You have to calculate total earning by the shop.\n",
        "\n",
        "Customers= {2,3,4,2,4,1,21,3,6,8}\n",
        "\n",
        "Selling price ={23,21,54,20,12,11,73,24,12,7}"
      ],
      "metadata": {
        "id": "68uSFw4W4YXk"
      }
    },
    {
      "cell_type": "code",
      "source": [
        ""
      ],
      "metadata": {
        "colab": {
          "base_uri": "https://localhost:8080/"
        },
        "id": "R3hNEzmv3iCe",
        "outputId": "768a8f86-d2b2-44a8-e651-0a98eda8b9af"
      },
      "execution_count": null,
      "outputs": [
        {
          "output_type": "stream",
          "name": "stdout",
          "text": [
            "[1] 2157\n"
          ]
        }
      ]
    },
    {
      "cell_type": "markdown",
      "source": [
        "Calculate the sum of all odd numbers between 13 to 1000 in single line of code"
      ],
      "metadata": {
        "id": "eRRYDJgc6mfY"
      }
    },
    {
      "cell_type": "code",
      "source": [
        "\n"
      ],
      "metadata": {
        "colab": {
          "base_uri": "https://localhost:8080/"
        },
        "id": "ZRH8mI8g5gCD",
        "outputId": "f78192e1-1fd8-4e3d-fe23-d323805f9623"
      },
      "execution_count": null,
      "outputs": [
        {
          "output_type": "stream",
          "name": "stdout",
          "text": [
            "[1] 249964\n"
          ]
        }
      ]
    },
    {
      "cell_type": "markdown",
      "source": [
        "You are given two vector with count of customers in Dec and jan.\n",
        "print a vector containing the number of decreased customers in these months due to lockdown.\n",
        "\n",
        "Dec= {12,14,23,24,26,30}\n",
        "\n",
        "jan={9,8,12,22,12,19}"
      ],
      "metadata": {
        "id": "L_zk7tG_75Ju"
      }
    },
    {
      "cell_type": "code",
      "source": [
        ""
      ],
      "metadata": {
        "colab": {
          "base_uri": "https://localhost:8080/"
        },
        "id": "mGbXoSJo7ua2",
        "outputId": "93af547a-6f29-40bd-98c4-eab85e14a671"
      },
      "execution_count": null,
      "outputs": [
        {
          "output_type": "stream",
          "name": "stdout",
          "text": [
            "[1]  3  6 11  2 14 11\n"
          ]
        }
      ]
    },
    {
      "cell_type": "markdown",
      "source": [
        "If the vector earn={20,12,11,73,24,12} is the earning of specific shop from one customer. Calculate the total loss due to lockdown. Use the decreased customer vector from above question."
      ],
      "metadata": {
        "id": "XajsCO7t9Ldu"
      }
    },
    {
      "cell_type": "code",
      "source": [
        ""
      ],
      "metadata": {
        "id": "Cd0qaJaZ9AXf"
      },
      "execution_count": null,
      "outputs": []
    },
    {
      "cell_type": "markdown",
      "source": [
        "find out the sum of ratio of respective indexes in these two vectors ?\n",
        "\n",
        "first={2,3,4,5,6}\n",
        "\n",
        "second={4,5,6,7,8}"
      ],
      "metadata": {
        "id": "e8ZXn-a8O7AK"
      }
    },
    {
      "cell_type": "code",
      "source": [
        ""
      ],
      "metadata": {
        "id": "pUoaW2N6EYn7"
      },
      "execution_count": null,
      "outputs": []
    },
    {
      "cell_type": "code",
      "source": [
        ""
      ],
      "metadata": {
        "id": "pB9ZTJ4ibf_L"
      },
      "execution_count": null,
      "outputs": []
    }
  ]
}