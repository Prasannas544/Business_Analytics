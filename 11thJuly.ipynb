{
  "nbformat": 4,
  "nbformat_minor": 0,
  "metadata": {
    "colab": {
      "name": "11thJuly.ipynb",
      "provenance": [],
      "authorship_tag": "ABX9TyN0elo3ERQE1cfSuxN1qUAs",
      "include_colab_link": true
    },
    "kernelspec": {
      "name": "ir",
      "display_name": "R"
    },
    "language_info": {
      "name": "R"
    }
  },
  "cells": [
    {
      "cell_type": "markdown",
      "metadata": {
        "id": "view-in-github",
        "colab_type": "text"
      },
      "source": [
        "<a href=\"https://colab.research.google.com/github/Prasannas544/Business_Analytics/blob/main/11thJuly.ipynb\" target=\"_parent\"><img src=\"https://colab.research.google.com/assets/colab-badge.svg\" alt=\"Open In Colab\"/></a>"
      ]
    },
    {
      "cell_type": "markdown",
      "source": [
        "Array"
      ],
      "metadata": {
        "id": "aZ674SQg-LH-"
      }
    },
    {
      "cell_type": "code",
      "source": [
        "#Array\n",
        "arr = array(data=c(10,14,15,20,21,22,23,25),dim=c(2,2,2))"
      ],
      "metadata": {
        "id": "xEBvR3jw-Og-"
      },
      "execution_count": 1,
      "outputs": []
    },
    {
      "cell_type": "code",
      "source": [
        "arr[1,2,1]"
      ],
      "metadata": {
        "colab": {
          "base_uri": "https://localhost:8080/",
          "height": 34
        },
        "id": "rz77fX2D-h3_",
        "outputId": "b7c88163-be28-411e-d52c-d40d050a16fa"
      },
      "execution_count": 3,
      "outputs": [
        {
          "output_type": "display_data",
          "data": {
            "text/html": [
              "15"
            ],
            "text/markdown": "15",
            "text/latex": "15",
            "text/plain": [
              "[1] 15"
            ]
          },
          "metadata": {}
        }
      ]
    },
    {
      "cell_type": "code",
      "source": [
        "arr[,,1]"
      ],
      "metadata": {
        "colab": {
          "base_uri": "https://localhost:8080/",
          "height": 132
        },
        "id": "JgE2dDaA-it3",
        "outputId": "0c405300-70f6-47fd-9369-f5df382f13e0"
      },
      "execution_count": 5,
      "outputs": [
        {
          "output_type": "display_data",
          "data": {
            "text/html": [
              "<table class=\"dataframe\">\n",
              "<caption>A matrix: 2 × 2 of type dbl</caption>\n",
              "<tbody>\n",
              "\t<tr><td>10</td><td>15</td></tr>\n",
              "\t<tr><td>14</td><td>20</td></tr>\n",
              "</tbody>\n",
              "</table>\n"
            ],
            "text/markdown": "\nA matrix: 2 × 2 of type dbl\n\n| 10 | 15 |\n| 14 | 20 |\n\n",
            "text/latex": "A matrix: 2 × 2 of type dbl\n\\begin{tabular}{ll}\n\t 10 & 15\\\\\n\t 14 & 20\\\\\n\\end{tabular}\n",
            "text/plain": [
              "     [,1] [,2]\n",
              "[1,] 10   15  \n",
              "[2,] 14   20  "
            ]
          },
          "metadata": {}
        }
      ]
    },
    {
      "cell_type": "code",
      "source": [
        "arr[1,,1]"
      ],
      "metadata": {
        "colab": {
          "base_uri": "https://localhost:8080/",
          "height": 34
        },
        "id": "WxLe1-CI-yJ_",
        "outputId": "970c4317-95b1-4863-8270-c968767960db"
      },
      "execution_count": 6,
      "outputs": [
        {
          "output_type": "display_data",
          "data": {
            "text/html": [
              "<style>\n",
              ".list-inline {list-style: none; margin:0; padding: 0}\n",
              ".list-inline>li {display: inline-block}\n",
              ".list-inline>li:not(:last-child)::after {content: \"\\00b7\"; padding: 0 .5ex}\n",
              "</style>\n",
              "<ol class=list-inline><li>10</li><li>15</li></ol>\n"
            ],
            "text/markdown": "1. 10\n2. 15\n\n\n",
            "text/latex": "\\begin{enumerate*}\n\\item 10\n\\item 15\n\\end{enumerate*}\n",
            "text/plain": [
              "[1] 10 15"
            ]
          },
          "metadata": {}
        }
      ]
    },
    {
      "cell_type": "code",
      "source": [
        "eg_matrix1= array(data=1:40,dim=c(10,4))"
      ],
      "metadata": {
        "id": "wv4-LZBs-1d5"
      },
      "execution_count": 14,
      "outputs": []
    },
    {
      "cell_type": "code",
      "source": [
        "eg_matrix1"
      ],
      "metadata": {
        "colab": {
          "base_uri": "https://localhost:8080/",
          "height": 365
        },
        "id": "6LHVv2Hi_N9x",
        "outputId": "aead4c2f-7684-4283-dd24-fe6785ce8b0e"
      },
      "execution_count": 15,
      "outputs": [
        {
          "output_type": "display_data",
          "data": {
            "text/html": [
              "<table class=\"dataframe\">\n",
              "<caption>A matrix: 10 × 4 of type int</caption>\n",
              "<tbody>\n",
              "\t<tr><td> 1</td><td>11</td><td>21</td><td>31</td></tr>\n",
              "\t<tr><td> 2</td><td>12</td><td>22</td><td>32</td></tr>\n",
              "\t<tr><td> 3</td><td>13</td><td>23</td><td>33</td></tr>\n",
              "\t<tr><td> 4</td><td>14</td><td>24</td><td>34</td></tr>\n",
              "\t<tr><td> 5</td><td>15</td><td>25</td><td>35</td></tr>\n",
              "\t<tr><td> 6</td><td>16</td><td>26</td><td>36</td></tr>\n",
              "\t<tr><td> 7</td><td>17</td><td>27</td><td>37</td></tr>\n",
              "\t<tr><td> 8</td><td>18</td><td>28</td><td>38</td></tr>\n",
              "\t<tr><td> 9</td><td>19</td><td>29</td><td>39</td></tr>\n",
              "\t<tr><td>10</td><td>20</td><td>30</td><td>40</td></tr>\n",
              "</tbody>\n",
              "</table>\n"
            ],
            "text/markdown": "\nA matrix: 10 × 4 of type int\n\n|  1 | 11 | 21 | 31 |\n|  2 | 12 | 22 | 32 |\n|  3 | 13 | 23 | 33 |\n|  4 | 14 | 24 | 34 |\n|  5 | 15 | 25 | 35 |\n|  6 | 16 | 26 | 36 |\n|  7 | 17 | 27 | 37 |\n|  8 | 18 | 28 | 38 |\n|  9 | 19 | 29 | 39 |\n| 10 | 20 | 30 | 40 |\n\n",
            "text/latex": "A matrix: 10 × 4 of type int\n\\begin{tabular}{llll}\n\t  1 & 11 & 21 & 31\\\\\n\t  2 & 12 & 22 & 32\\\\\n\t  3 & 13 & 23 & 33\\\\\n\t  4 & 14 & 24 & 34\\\\\n\t  5 & 15 & 25 & 35\\\\\n\t  6 & 16 & 26 & 36\\\\\n\t  7 & 17 & 27 & 37\\\\\n\t  8 & 18 & 28 & 38\\\\\n\t  9 & 19 & 29 & 39\\\\\n\t 10 & 20 & 30 & 40\\\\\n\\end{tabular}\n",
            "text/plain": [
              "      [,1] [,2] [,3] [,4]\n",
              " [1,]  1   11   21   31  \n",
              " [2,]  2   12   22   32  \n",
              " [3,]  3   13   23   33  \n",
              " [4,]  4   14   24   34  \n",
              " [5,]  5   15   25   35  \n",
              " [6,]  6   16   26   36  \n",
              " [7,]  7   17   27   37  \n",
              " [8,]  8   18   28   38  \n",
              " [9,]  9   19   29   39  \n",
              "[10,] 10   20   30   40  "
            ]
          },
          "metadata": {}
        }
      ]
    },
    {
      "cell_type": "code",
      "source": [
        "eg_matrix2 = matrix(data=1:40,nrow=10,ncol=4)"
      ],
      "metadata": {
        "id": "dG0p0QWw_O8v"
      },
      "execution_count": 11,
      "outputs": []
    },
    {
      "cell_type": "code",
      "source": [
        "eg_matrix2"
      ],
      "metadata": {
        "colab": {
          "base_uri": "https://localhost:8080/",
          "height": 365
        },
        "id": "hny8sKK2_6ud",
        "outputId": "2c25a46d-e234-4c7f-f3df-08288f0af955"
      },
      "execution_count": 12,
      "outputs": [
        {
          "output_type": "display_data",
          "data": {
            "text/html": [
              "<table class=\"dataframe\">\n",
              "<caption>A matrix: 10 × 4 of type int</caption>\n",
              "<tbody>\n",
              "\t<tr><td> 1</td><td>11</td><td>21</td><td>31</td></tr>\n",
              "\t<tr><td> 2</td><td>12</td><td>22</td><td>32</td></tr>\n",
              "\t<tr><td> 3</td><td>13</td><td>23</td><td>33</td></tr>\n",
              "\t<tr><td> 4</td><td>14</td><td>24</td><td>34</td></tr>\n",
              "\t<tr><td> 5</td><td>15</td><td>25</td><td>35</td></tr>\n",
              "\t<tr><td> 6</td><td>16</td><td>26</td><td>36</td></tr>\n",
              "\t<tr><td> 7</td><td>17</td><td>27</td><td>37</td></tr>\n",
              "\t<tr><td> 8</td><td>18</td><td>28</td><td>38</td></tr>\n",
              "\t<tr><td> 9</td><td>19</td><td>29</td><td>39</td></tr>\n",
              "\t<tr><td>10</td><td>20</td><td>30</td><td>40</td></tr>\n",
              "</tbody>\n",
              "</table>\n"
            ],
            "text/markdown": "\nA matrix: 10 × 4 of type int\n\n|  1 | 11 | 21 | 31 |\n|  2 | 12 | 22 | 32 |\n|  3 | 13 | 23 | 33 |\n|  4 | 14 | 24 | 34 |\n|  5 | 15 | 25 | 35 |\n|  6 | 16 | 26 | 36 |\n|  7 | 17 | 27 | 37 |\n|  8 | 18 | 28 | 38 |\n|  9 | 19 | 29 | 39 |\n| 10 | 20 | 30 | 40 |\n\n",
            "text/latex": "A matrix: 10 × 4 of type int\n\\begin{tabular}{llll}\n\t  1 & 11 & 21 & 31\\\\\n\t  2 & 12 & 22 & 32\\\\\n\t  3 & 13 & 23 & 33\\\\\n\t  4 & 14 & 24 & 34\\\\\n\t  5 & 15 & 25 & 35\\\\\n\t  6 & 16 & 26 & 36\\\\\n\t  7 & 17 & 27 & 37\\\\\n\t  8 & 18 & 28 & 38\\\\\n\t  9 & 19 & 29 & 39\\\\\n\t 10 & 20 & 30 & 40\\\\\n\\end{tabular}\n",
            "text/plain": [
              "      [,1] [,2] [,3] [,4]\n",
              " [1,]  1   11   21   31  \n",
              " [2,]  2   12   22   32  \n",
              " [3,]  3   13   23   33  \n",
              " [4,]  4   14   24   34  \n",
              " [5,]  5   15   25   35  \n",
              " [6,]  6   16   26   36  \n",
              " [7,]  7   17   27   37  \n",
              " [8,]  8   18   28   38  \n",
              " [9,]  9   19   29   39  \n",
              "[10,] 10   20   30   40  "
            ]
          },
          "metadata": {}
        }
      ]
    },
    {
      "cell_type": "code",
      "source": [
        "#Element wise operations\n",
        "eg_matrix1==eg_matrix2"
      ],
      "metadata": {
        "colab": {
          "base_uri": "https://localhost:8080/",
          "height": 348
        },
        "id": "5Zkc-Wo0AJwA",
        "outputId": "a8721469-647f-455b-e4c4-d279b239db5d"
      },
      "execution_count": 16,
      "outputs": [
        {
          "output_type": "display_data",
          "data": {
            "text/html": [
              "<table class=\"dataframe\">\n",
              "<caption>A matrix: 10 × 4 of type lgl</caption>\n",
              "<tbody>\n",
              "\t<tr><td>TRUE</td><td>TRUE</td><td>TRUE</td><td>TRUE</td></tr>\n",
              "\t<tr><td>TRUE</td><td>TRUE</td><td>TRUE</td><td>TRUE</td></tr>\n",
              "\t<tr><td>TRUE</td><td>TRUE</td><td>TRUE</td><td>TRUE</td></tr>\n",
              "\t<tr><td>TRUE</td><td>TRUE</td><td>TRUE</td><td>TRUE</td></tr>\n",
              "\t<tr><td>TRUE</td><td>TRUE</td><td>TRUE</td><td>TRUE</td></tr>\n",
              "\t<tr><td>TRUE</td><td>TRUE</td><td>TRUE</td><td>TRUE</td></tr>\n",
              "\t<tr><td>TRUE</td><td>TRUE</td><td>TRUE</td><td>TRUE</td></tr>\n",
              "\t<tr><td>TRUE</td><td>TRUE</td><td>TRUE</td><td>TRUE</td></tr>\n",
              "\t<tr><td>TRUE</td><td>TRUE</td><td>TRUE</td><td>TRUE</td></tr>\n",
              "\t<tr><td>TRUE</td><td>TRUE</td><td>TRUE</td><td>TRUE</td></tr>\n",
              "</tbody>\n",
              "</table>\n"
            ],
            "text/markdown": "\nA matrix: 10 × 4 of type lgl\n\n| TRUE | TRUE | TRUE | TRUE |\n| TRUE | TRUE | TRUE | TRUE |\n| TRUE | TRUE | TRUE | TRUE |\n| TRUE | TRUE | TRUE | TRUE |\n| TRUE | TRUE | TRUE | TRUE |\n| TRUE | TRUE | TRUE | TRUE |\n| TRUE | TRUE | TRUE | TRUE |\n| TRUE | TRUE | TRUE | TRUE |\n| TRUE | TRUE | TRUE | TRUE |\n| TRUE | TRUE | TRUE | TRUE |\n\n",
            "text/latex": "A matrix: 10 × 4 of type lgl\n\\begin{tabular}{llll}\n\t TRUE & TRUE & TRUE & TRUE\\\\\n\t TRUE & TRUE & TRUE & TRUE\\\\\n\t TRUE & TRUE & TRUE & TRUE\\\\\n\t TRUE & TRUE & TRUE & TRUE\\\\\n\t TRUE & TRUE & TRUE & TRUE\\\\\n\t TRUE & TRUE & TRUE & TRUE\\\\\n\t TRUE & TRUE & TRUE & TRUE\\\\\n\t TRUE & TRUE & TRUE & TRUE\\\\\n\t TRUE & TRUE & TRUE & TRUE\\\\\n\t TRUE & TRUE & TRUE & TRUE\\\\\n\\end{tabular}\n",
            "text/plain": [
              "      [,1] [,2] [,3] [,4]\n",
              " [1,] TRUE TRUE TRUE TRUE\n",
              " [2,] TRUE TRUE TRUE TRUE\n",
              " [3,] TRUE TRUE TRUE TRUE\n",
              " [4,] TRUE TRUE TRUE TRUE\n",
              " [5,] TRUE TRUE TRUE TRUE\n",
              " [6,] TRUE TRUE TRUE TRUE\n",
              " [7,] TRUE TRUE TRUE TRUE\n",
              " [8,] TRUE TRUE TRUE TRUE\n",
              " [9,] TRUE TRUE TRUE TRUE\n",
              "[10,] TRUE TRUE TRUE TRUE"
            ]
          },
          "metadata": {}
        }
      ]
    },
    {
      "cell_type": "code",
      "source": [
        "dim(arr)"
      ],
      "metadata": {
        "colab": {
          "base_uri": "https://localhost:8080/",
          "height": 34
        },
        "id": "LFgVX7eVAjqK",
        "outputId": "fc1d2461-be95-46a6-a38b-81483aadad17"
      },
      "execution_count": 18,
      "outputs": [
        {
          "output_type": "display_data",
          "data": {
            "text/html": [
              "<style>\n",
              ".list-inline {list-style: none; margin:0; padding: 0}\n",
              ".list-inline>li {display: inline-block}\n",
              ".list-inline>li:not(:last-child)::after {content: \"\\00b7\"; padding: 0 .5ex}\n",
              "</style>\n",
              "<ol class=list-inline><li>2</li><li>2</li><li>2</li></ol>\n"
            ],
            "text/markdown": "1. 2\n2. 2\n3. 2\n\n\n",
            "text/latex": "\\begin{enumerate*}\n\\item 2\n\\item 2\n\\item 2\n\\end{enumerate*}\n",
            "text/plain": [
              "[1] 2 2 2"
            ]
          },
          "metadata": {}
        }
      ]
    },
    {
      "cell_type": "code",
      "source": [
        "nrow(eg_matrix)"
      ],
      "metadata": {
        "colab": {
          "base_uri": "https://localhost:8080/",
          "height": 34
        },
        "id": "RS2wjDLeAu0r",
        "outputId": "6c9815ab-c571-4524-e37f-aed1cdd8cd0c"
      },
      "execution_count": 19,
      "outputs": [
        {
          "output_type": "display_data",
          "data": {
            "text/html": [
              "10"
            ],
            "text/markdown": "10",
            "text/latex": "10",
            "text/plain": [
              "[1] 10"
            ]
          },
          "metadata": {}
        }
      ]
    },
    {
      "cell_type": "code",
      "source": [
        "ncol(eg_matrix)"
      ],
      "metadata": {
        "colab": {
          "base_uri": "https://localhost:8080/",
          "height": 34
        },
        "id": "yRfIJTu1Ax0_",
        "outputId": "9de90ce2-7073-484a-f121-731eba949e93"
      },
      "execution_count": 20,
      "outputs": [
        {
          "output_type": "display_data",
          "data": {
            "text/html": [
              "4"
            ],
            "text/markdown": "4",
            "text/latex": "4",
            "text/plain": [
              "[1] 4"
            ]
          },
          "metadata": {}
        }
      ]
    },
    {
      "cell_type": "code",
      "source": [
        "#Indexing and Modifying elements\n",
        "my_mat=array(1:8,c(4,4))"
      ],
      "metadata": {
        "id": "65Mg2sRSAzzp"
      },
      "execution_count": 21,
      "outputs": []
    },
    {
      "cell_type": "code",
      "source": [
        "my_mat"
      ],
      "metadata": {
        "colab": {
          "base_uri": "https://localhost:8080/",
          "height": 177
        },
        "id": "aOThsJF1BGdF",
        "outputId": "c445fb8c-0365-4461-a2dd-fc20a0e5b14f"
      },
      "execution_count": 22,
      "outputs": [
        {
          "output_type": "display_data",
          "data": {
            "text/html": [
              "<table class=\"dataframe\">\n",
              "<caption>A matrix: 4 × 4 of type int</caption>\n",
              "<tbody>\n",
              "\t<tr><td>1</td><td>5</td><td>1</td><td>5</td></tr>\n",
              "\t<tr><td>2</td><td>6</td><td>2</td><td>6</td></tr>\n",
              "\t<tr><td>3</td><td>7</td><td>3</td><td>7</td></tr>\n",
              "\t<tr><td>4</td><td>8</td><td>4</td><td>8</td></tr>\n",
              "</tbody>\n",
              "</table>\n"
            ],
            "text/markdown": "\nA matrix: 4 × 4 of type int\n\n| 1 | 5 | 1 | 5 |\n| 2 | 6 | 2 | 6 |\n| 3 | 7 | 3 | 7 |\n| 4 | 8 | 4 | 8 |\n\n",
            "text/latex": "A matrix: 4 × 4 of type int\n\\begin{tabular}{llll}\n\t 1 & 5 & 1 & 5\\\\\n\t 2 & 6 & 2 & 6\\\\\n\t 3 & 7 & 3 & 7\\\\\n\t 4 & 8 & 4 & 8\\\\\n\\end{tabular}\n",
            "text/plain": [
              "     [,1] [,2] [,3] [,4]\n",
              "[1,] 1    5    1    5   \n",
              "[2,] 2    6    2    6   \n",
              "[3,] 3    7    3    7   \n",
              "[4,] 4    8    4    8   "
            ]
          },
          "metadata": {}
        }
      ]
    },
    {
      "cell_type": "code",
      "source": [
        "my_mat[2:4,2]"
      ],
      "metadata": {
        "colab": {
          "base_uri": "https://localhost:8080/",
          "height": 34
        },
        "id": "r0j8u4qDBHsV",
        "outputId": "efa24218-ac3c-44b5-abba-75428f89026d"
      },
      "execution_count": 23,
      "outputs": [
        {
          "output_type": "display_data",
          "data": {
            "text/html": [
              "<style>\n",
              ".list-inline {list-style: none; margin:0; padding: 0}\n",
              ".list-inline>li {display: inline-block}\n",
              ".list-inline>li:not(:last-child)::after {content: \"\\00b7\"; padding: 0 .5ex}\n",
              "</style>\n",
              "<ol class=list-inline><li>6</li><li>7</li><li>8</li></ol>\n"
            ],
            "text/markdown": "1. 6\n2. 7\n3. 8\n\n\n",
            "text/latex": "\\begin{enumerate*}\n\\item 6\n\\item 7\n\\item 8\n\\end{enumerate*}\n",
            "text/plain": [
              "[1] 6 7 8"
            ]
          },
          "metadata": {}
        }
      ]
    },
    {
      "cell_type": "code",
      "source": [
        "my_mat[1,]"
      ],
      "metadata": {
        "colab": {
          "base_uri": "https://localhost:8080/",
          "height": 34
        },
        "id": "i87swP36BYCz",
        "outputId": "3f47d2d2-cfb6-4e43-fe0d-4f8a0d19e0f8"
      },
      "execution_count": 24,
      "outputs": [
        {
          "output_type": "display_data",
          "data": {
            "text/html": [
              "<style>\n",
              ".list-inline {list-style: none; margin:0; padding: 0}\n",
              ".list-inline>li {display: inline-block}\n",
              ".list-inline>li:not(:last-child)::after {content: \"\\00b7\"; padding: 0 .5ex}\n",
              "</style>\n",
              "<ol class=list-inline><li>1</li><li>5</li><li>1</li><li>5</li></ol>\n"
            ],
            "text/markdown": "1. 1\n2. 5\n3. 1\n4. 5\n\n\n",
            "text/latex": "\\begin{enumerate*}\n\\item 1\n\\item 5\n\\item 1\n\\item 5\n\\end{enumerate*}\n",
            "text/plain": [
              "[1] 1 5 1 5"
            ]
          },
          "metadata": {}
        }
      ]
    },
    {
      "cell_type": "code",
      "source": [
        "my_mat[,1]"
      ],
      "metadata": {
        "colab": {
          "base_uri": "https://localhost:8080/",
          "height": 34
        },
        "id": "nfBciwGFBWRh",
        "outputId": "414af763-4e5a-43fd-d037-9fca0d82cfbd"
      },
      "execution_count": 25,
      "outputs": [
        {
          "output_type": "display_data",
          "data": {
            "text/html": [
              "<style>\n",
              ".list-inline {list-style: none; margin:0; padding: 0}\n",
              ".list-inline>li {display: inline-block}\n",
              ".list-inline>li:not(:last-child)::after {content: \"\\00b7\"; padding: 0 .5ex}\n",
              "</style>\n",
              "<ol class=list-inline><li>1</li><li>2</li><li>3</li><li>4</li></ol>\n"
            ],
            "text/markdown": "1. 1\n2. 2\n3. 3\n4. 4\n\n\n",
            "text/latex": "\\begin{enumerate*}\n\\item 1\n\\item 2\n\\item 3\n\\item 4\n\\end{enumerate*}\n",
            "text/plain": [
              "[1] 1 2 3 4"
            ]
          },
          "metadata": {}
        }
      ]
    }
  ]
}