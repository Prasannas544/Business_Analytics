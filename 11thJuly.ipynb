{
  "nbformat": 4,
  "nbformat_minor": 0,
  "metadata": {
    "colab": {
      "name": "11thJuly.ipynb",
      "provenance": [],
      "authorship_tag": "ABX9TyP7faquwI6lOyCt7a5h86Vy",
      "include_colab_link": true
    },
    "kernelspec": {
      "name": "ir",
      "display_name": "R"
    },
    "language_info": {
      "name": "R"
    }
  },
  "cells": [
    {
      "cell_type": "markdown",
      "metadata": {
        "id": "view-in-github",
        "colab_type": "text"
      },
      "source": [
        "<a href=\"https://colab.research.google.com/github/Prasannas544/Business_Analytics/blob/main/11thJuly.ipynb\" target=\"_parent\"><img src=\"https://colab.research.google.com/assets/colab-badge.svg\" alt=\"Open In Colab\"/></a>"
      ]
    },
    {
      "cell_type": "markdown",
      "source": [
        "Array"
      ],
      "metadata": {
        "id": "aZ674SQg-LH-"
      }
    },
    {
      "cell_type": "code",
      "source": [
        "#Array\n",
        "arr = array(data=c(10,14,15,20,21,22,23,25),dim=c(2,2,2))"
      ],
      "metadata": {
        "id": "xEBvR3jw-Og-"
      },
      "execution_count": 1,
      "outputs": []
    },
    {
      "cell_type": "code",
      "source": [
        "arr[1,2,1]"
      ],
      "metadata": {
        "colab": {
          "base_uri": "https://localhost:8080/",
          "height": 34
        },
        "id": "rz77fX2D-h3_",
        "outputId": "b7c88163-be28-411e-d52c-d40d050a16fa"
      },
      "execution_count": 3,
      "outputs": [
        {
          "output_type": "display_data",
          "data": {
            "text/html": [
              "15"
            ],
            "text/markdown": "15",
            "text/latex": "15",
            "text/plain": [
              "[1] 15"
            ]
          },
          "metadata": {}
        }
      ]
    },
    {
      "cell_type": "code",
      "source": [
        "arr[,,1]"
      ],
      "metadata": {
        "colab": {
          "base_uri": "https://localhost:8080/",
          "height": 132
        },
        "id": "JgE2dDaA-it3",
        "outputId": "0c405300-70f6-47fd-9369-f5df382f13e0"
      },
      "execution_count": 5,
      "outputs": [
        {
          "output_type": "display_data",
          "data": {
            "text/html": [
              "<table class=\"dataframe\">\n",
              "<caption>A matrix: 2 × 2 of type dbl</caption>\n",
              "<tbody>\n",
              "\t<tr><td>10</td><td>15</td></tr>\n",
              "\t<tr><td>14</td><td>20</td></tr>\n",
              "</tbody>\n",
              "</table>\n"
            ],
            "text/markdown": "\nA matrix: 2 × 2 of type dbl\n\n| 10 | 15 |\n| 14 | 20 |\n\n",
            "text/latex": "A matrix: 2 × 2 of type dbl\n\\begin{tabular}{ll}\n\t 10 & 15\\\\\n\t 14 & 20\\\\\n\\end{tabular}\n",
            "text/plain": [
              "     [,1] [,2]\n",
              "[1,] 10   15  \n",
              "[2,] 14   20  "
            ]
          },
          "metadata": {}
        }
      ]
    },
    {
      "cell_type": "code",
      "source": [
        "arr[1,,1]"
      ],
      "metadata": {
        "colab": {
          "base_uri": "https://localhost:8080/",
          "height": 34
        },
        "id": "WxLe1-CI-yJ_",
        "outputId": "970c4317-95b1-4863-8270-c968767960db"
      },
      "execution_count": 6,
      "outputs": [
        {
          "output_type": "display_data",
          "data": {
            "text/html": [
              "<style>\n",
              ".list-inline {list-style: none; margin:0; padding: 0}\n",
              ".list-inline>li {display: inline-block}\n",
              ".list-inline>li:not(:last-child)::after {content: \"\\00b7\"; padding: 0 .5ex}\n",
              "</style>\n",
              "<ol class=list-inline><li>10</li><li>15</li></ol>\n"
            ],
            "text/markdown": "1. 10\n2. 15\n\n\n",
            "text/latex": "\\begin{enumerate*}\n\\item 10\n\\item 15\n\\end{enumerate*}\n",
            "text/plain": [
              "[1] 10 15"
            ]
          },
          "metadata": {}
        }
      ]
    },
    {
      "cell_type": "code",
      "source": [
        "eg_matrix1= array(data=1:40,dim=c(10,4))"
      ],
      "metadata": {
        "id": "wv4-LZBs-1d5"
      },
      "execution_count": 14,
      "outputs": []
    },
    {
      "cell_type": "code",
      "source": [
        "eg_matrix1"
      ],
      "metadata": {
        "colab": {
          "base_uri": "https://localhost:8080/",
          "height": 365
        },
        "id": "6LHVv2Hi_N9x",
        "outputId": "aead4c2f-7684-4283-dd24-fe6785ce8b0e"
      },
      "execution_count": 15,
      "outputs": [
        {
          "output_type": "display_data",
          "data": {
            "text/html": [
              "<table class=\"dataframe\">\n",
              "<caption>A matrix: 10 × 4 of type int</caption>\n",
              "<tbody>\n",
              "\t<tr><td> 1</td><td>11</td><td>21</td><td>31</td></tr>\n",
              "\t<tr><td> 2</td><td>12</td><td>22</td><td>32</td></tr>\n",
              "\t<tr><td> 3</td><td>13</td><td>23</td><td>33</td></tr>\n",
              "\t<tr><td> 4</td><td>14</td><td>24</td><td>34</td></tr>\n",
              "\t<tr><td> 5</td><td>15</td><td>25</td><td>35</td></tr>\n",
              "\t<tr><td> 6</td><td>16</td><td>26</td><td>36</td></tr>\n",
              "\t<tr><td> 7</td><td>17</td><td>27</td><td>37</td></tr>\n",
              "\t<tr><td> 8</td><td>18</td><td>28</td><td>38</td></tr>\n",
              "\t<tr><td> 9</td><td>19</td><td>29</td><td>39</td></tr>\n",
              "\t<tr><td>10</td><td>20</td><td>30</td><td>40</td></tr>\n",
              "</tbody>\n",
              "</table>\n"
            ],
            "text/markdown": "\nA matrix: 10 × 4 of type int\n\n|  1 | 11 | 21 | 31 |\n|  2 | 12 | 22 | 32 |\n|  3 | 13 | 23 | 33 |\n|  4 | 14 | 24 | 34 |\n|  5 | 15 | 25 | 35 |\n|  6 | 16 | 26 | 36 |\n|  7 | 17 | 27 | 37 |\n|  8 | 18 | 28 | 38 |\n|  9 | 19 | 29 | 39 |\n| 10 | 20 | 30 | 40 |\n\n",
            "text/latex": "A matrix: 10 × 4 of type int\n\\begin{tabular}{llll}\n\t  1 & 11 & 21 & 31\\\\\n\t  2 & 12 & 22 & 32\\\\\n\t  3 & 13 & 23 & 33\\\\\n\t  4 & 14 & 24 & 34\\\\\n\t  5 & 15 & 25 & 35\\\\\n\t  6 & 16 & 26 & 36\\\\\n\t  7 & 17 & 27 & 37\\\\\n\t  8 & 18 & 28 & 38\\\\\n\t  9 & 19 & 29 & 39\\\\\n\t 10 & 20 & 30 & 40\\\\\n\\end{tabular}\n",
            "text/plain": [
              "      [,1] [,2] [,3] [,4]\n",
              " [1,]  1   11   21   31  \n",
              " [2,]  2   12   22   32  \n",
              " [3,]  3   13   23   33  \n",
              " [4,]  4   14   24   34  \n",
              " [5,]  5   15   25   35  \n",
              " [6,]  6   16   26   36  \n",
              " [7,]  7   17   27   37  \n",
              " [8,]  8   18   28   38  \n",
              " [9,]  9   19   29   39  \n",
              "[10,] 10   20   30   40  "
            ]
          },
          "metadata": {}
        }
      ]
    },
    {
      "cell_type": "code",
      "source": [
        "eg_matrix2 = matrix(data=1:40,nrow=10,ncol=4)"
      ],
      "metadata": {
        "id": "dG0p0QWw_O8v"
      },
      "execution_count": 11,
      "outputs": []
    },
    {
      "cell_type": "code",
      "source": [
        "eg_matrix2"
      ],
      "metadata": {
        "colab": {
          "base_uri": "https://localhost:8080/",
          "height": 365
        },
        "id": "hny8sKK2_6ud",
        "outputId": "2c25a46d-e234-4c7f-f3df-08288f0af955"
      },
      "execution_count": 12,
      "outputs": [
        {
          "output_type": "display_data",
          "data": {
            "text/html": [
              "<table class=\"dataframe\">\n",
              "<caption>A matrix: 10 × 4 of type int</caption>\n",
              "<tbody>\n",
              "\t<tr><td> 1</td><td>11</td><td>21</td><td>31</td></tr>\n",
              "\t<tr><td> 2</td><td>12</td><td>22</td><td>32</td></tr>\n",
              "\t<tr><td> 3</td><td>13</td><td>23</td><td>33</td></tr>\n",
              "\t<tr><td> 4</td><td>14</td><td>24</td><td>34</td></tr>\n",
              "\t<tr><td> 5</td><td>15</td><td>25</td><td>35</td></tr>\n",
              "\t<tr><td> 6</td><td>16</td><td>26</td><td>36</td></tr>\n",
              "\t<tr><td> 7</td><td>17</td><td>27</td><td>37</td></tr>\n",
              "\t<tr><td> 8</td><td>18</td><td>28</td><td>38</td></tr>\n",
              "\t<tr><td> 9</td><td>19</td><td>29</td><td>39</td></tr>\n",
              "\t<tr><td>10</td><td>20</td><td>30</td><td>40</td></tr>\n",
              "</tbody>\n",
              "</table>\n"
            ],
            "text/markdown": "\nA matrix: 10 × 4 of type int\n\n|  1 | 11 | 21 | 31 |\n|  2 | 12 | 22 | 32 |\n|  3 | 13 | 23 | 33 |\n|  4 | 14 | 24 | 34 |\n|  5 | 15 | 25 | 35 |\n|  6 | 16 | 26 | 36 |\n|  7 | 17 | 27 | 37 |\n|  8 | 18 | 28 | 38 |\n|  9 | 19 | 29 | 39 |\n| 10 | 20 | 30 | 40 |\n\n",
            "text/latex": "A matrix: 10 × 4 of type int\n\\begin{tabular}{llll}\n\t  1 & 11 & 21 & 31\\\\\n\t  2 & 12 & 22 & 32\\\\\n\t  3 & 13 & 23 & 33\\\\\n\t  4 & 14 & 24 & 34\\\\\n\t  5 & 15 & 25 & 35\\\\\n\t  6 & 16 & 26 & 36\\\\\n\t  7 & 17 & 27 & 37\\\\\n\t  8 & 18 & 28 & 38\\\\\n\t  9 & 19 & 29 & 39\\\\\n\t 10 & 20 & 30 & 40\\\\\n\\end{tabular}\n",
            "text/plain": [
              "      [,1] [,2] [,3] [,4]\n",
              " [1,]  1   11   21   31  \n",
              " [2,]  2   12   22   32  \n",
              " [3,]  3   13   23   33  \n",
              " [4,]  4   14   24   34  \n",
              " [5,]  5   15   25   35  \n",
              " [6,]  6   16   26   36  \n",
              " [7,]  7   17   27   37  \n",
              " [8,]  8   18   28   38  \n",
              " [9,]  9   19   29   39  \n",
              "[10,] 10   20   30   40  "
            ]
          },
          "metadata": {}
        }
      ]
    },
    {
      "cell_type": "code",
      "source": [
        "#Element wise operations\n",
        "eg_matrix1==eg_matrix2"
      ],
      "metadata": {
        "colab": {
          "base_uri": "https://localhost:8080/",
          "height": 348
        },
        "id": "5Zkc-Wo0AJwA",
        "outputId": "a8721469-647f-455b-e4c4-d279b239db5d"
      },
      "execution_count": 16,
      "outputs": [
        {
          "output_type": "display_data",
          "data": {
            "text/html": [
              "<table class=\"dataframe\">\n",
              "<caption>A matrix: 10 × 4 of type lgl</caption>\n",
              "<tbody>\n",
              "\t<tr><td>TRUE</td><td>TRUE</td><td>TRUE</td><td>TRUE</td></tr>\n",
              "\t<tr><td>TRUE</td><td>TRUE</td><td>TRUE</td><td>TRUE</td></tr>\n",
              "\t<tr><td>TRUE</td><td>TRUE</td><td>TRUE</td><td>TRUE</td></tr>\n",
              "\t<tr><td>TRUE</td><td>TRUE</td><td>TRUE</td><td>TRUE</td></tr>\n",
              "\t<tr><td>TRUE</td><td>TRUE</td><td>TRUE</td><td>TRUE</td></tr>\n",
              "\t<tr><td>TRUE</td><td>TRUE</td><td>TRUE</td><td>TRUE</td></tr>\n",
              "\t<tr><td>TRUE</td><td>TRUE</td><td>TRUE</td><td>TRUE</td></tr>\n",
              "\t<tr><td>TRUE</td><td>TRUE</td><td>TRUE</td><td>TRUE</td></tr>\n",
              "\t<tr><td>TRUE</td><td>TRUE</td><td>TRUE</td><td>TRUE</td></tr>\n",
              "\t<tr><td>TRUE</td><td>TRUE</td><td>TRUE</td><td>TRUE</td></tr>\n",
              "</tbody>\n",
              "</table>\n"
            ],
            "text/markdown": "\nA matrix: 10 × 4 of type lgl\n\n| TRUE | TRUE | TRUE | TRUE |\n| TRUE | TRUE | TRUE | TRUE |\n| TRUE | TRUE | TRUE | TRUE |\n| TRUE | TRUE | TRUE | TRUE |\n| TRUE | TRUE | TRUE | TRUE |\n| TRUE | TRUE | TRUE | TRUE |\n| TRUE | TRUE | TRUE | TRUE |\n| TRUE | TRUE | TRUE | TRUE |\n| TRUE | TRUE | TRUE | TRUE |\n| TRUE | TRUE | TRUE | TRUE |\n\n",
            "text/latex": "A matrix: 10 × 4 of type lgl\n\\begin{tabular}{llll}\n\t TRUE & TRUE & TRUE & TRUE\\\\\n\t TRUE & TRUE & TRUE & TRUE\\\\\n\t TRUE & TRUE & TRUE & TRUE\\\\\n\t TRUE & TRUE & TRUE & TRUE\\\\\n\t TRUE & TRUE & TRUE & TRUE\\\\\n\t TRUE & TRUE & TRUE & TRUE\\\\\n\t TRUE & TRUE & TRUE & TRUE\\\\\n\t TRUE & TRUE & TRUE & TRUE\\\\\n\t TRUE & TRUE & TRUE & TRUE\\\\\n\t TRUE & TRUE & TRUE & TRUE\\\\\n\\end{tabular}\n",
            "text/plain": [
              "      [,1] [,2] [,3] [,4]\n",
              " [1,] TRUE TRUE TRUE TRUE\n",
              " [2,] TRUE TRUE TRUE TRUE\n",
              " [3,] TRUE TRUE TRUE TRUE\n",
              " [4,] TRUE TRUE TRUE TRUE\n",
              " [5,] TRUE TRUE TRUE TRUE\n",
              " [6,] TRUE TRUE TRUE TRUE\n",
              " [7,] TRUE TRUE TRUE TRUE\n",
              " [8,] TRUE TRUE TRUE TRUE\n",
              " [9,] TRUE TRUE TRUE TRUE\n",
              "[10,] TRUE TRUE TRUE TRUE"
            ]
          },
          "metadata": {}
        }
      ]
    },
    {
      "cell_type": "code",
      "source": [
        "dim(arr)"
      ],
      "metadata": {
        "colab": {
          "base_uri": "https://localhost:8080/",
          "height": 34
        },
        "id": "LFgVX7eVAjqK",
        "outputId": "fc1d2461-be95-46a6-a38b-81483aadad17"
      },
      "execution_count": 18,
      "outputs": [
        {
          "output_type": "display_data",
          "data": {
            "text/html": [
              "<style>\n",
              ".list-inline {list-style: none; margin:0; padding: 0}\n",
              ".list-inline>li {display: inline-block}\n",
              ".list-inline>li:not(:last-child)::after {content: \"\\00b7\"; padding: 0 .5ex}\n",
              "</style>\n",
              "<ol class=list-inline><li>2</li><li>2</li><li>2</li></ol>\n"
            ],
            "text/markdown": "1. 2\n2. 2\n3. 2\n\n\n",
            "text/latex": "\\begin{enumerate*}\n\\item 2\n\\item 2\n\\item 2\n\\end{enumerate*}\n",
            "text/plain": [
              "[1] 2 2 2"
            ]
          },
          "metadata": {}
        }
      ]
    },
    {
      "cell_type": "code",
      "source": [
        "nrow(eg_matrix)"
      ],
      "metadata": {
        "colab": {
          "base_uri": "https://localhost:8080/",
          "height": 34
        },
        "id": "RS2wjDLeAu0r",
        "outputId": "6c9815ab-c571-4524-e37f-aed1cdd8cd0c"
      },
      "execution_count": 19,
      "outputs": [
        {
          "output_type": "display_data",
          "data": {
            "text/html": [
              "10"
            ],
            "text/markdown": "10",
            "text/latex": "10",
            "text/plain": [
              "[1] 10"
            ]
          },
          "metadata": {}
        }
      ]
    },
    {
      "cell_type": "code",
      "source": [
        "ncol(eg_matrix)"
      ],
      "metadata": {
        "colab": {
          "base_uri": "https://localhost:8080/",
          "height": 34
        },
        "id": "yRfIJTu1Ax0_",
        "outputId": "9de90ce2-7073-484a-f121-731eba949e93"
      },
      "execution_count": 20,
      "outputs": [
        {
          "output_type": "display_data",
          "data": {
            "text/html": [
              "4"
            ],
            "text/markdown": "4",
            "text/latex": "4",
            "text/plain": [
              "[1] 4"
            ]
          },
          "metadata": {}
        }
      ]
    },
    {
      "cell_type": "code",
      "source": [
        "#Indexing and Modifying elements\n",
        "my_mat=array(1:8,c(4,4))"
      ],
      "metadata": {
        "id": "65Mg2sRSAzzp"
      },
      "execution_count": 21,
      "outputs": []
    },
    {
      "cell_type": "code",
      "source": [
        "my_mat"
      ],
      "metadata": {
        "colab": {
          "base_uri": "https://localhost:8080/",
          "height": 177
        },
        "id": "aOThsJF1BGdF",
        "outputId": "c445fb8c-0365-4461-a2dd-fc20a0e5b14f"
      },
      "execution_count": 22,
      "outputs": [
        {
          "output_type": "display_data",
          "data": {
            "text/html": [
              "<table class=\"dataframe\">\n",
              "<caption>A matrix: 4 × 4 of type int</caption>\n",
              "<tbody>\n",
              "\t<tr><td>1</td><td>5</td><td>1</td><td>5</td></tr>\n",
              "\t<tr><td>2</td><td>6</td><td>2</td><td>6</td></tr>\n",
              "\t<tr><td>3</td><td>7</td><td>3</td><td>7</td></tr>\n",
              "\t<tr><td>4</td><td>8</td><td>4</td><td>8</td></tr>\n",
              "</tbody>\n",
              "</table>\n"
            ],
            "text/markdown": "\nA matrix: 4 × 4 of type int\n\n| 1 | 5 | 1 | 5 |\n| 2 | 6 | 2 | 6 |\n| 3 | 7 | 3 | 7 |\n| 4 | 8 | 4 | 8 |\n\n",
            "text/latex": "A matrix: 4 × 4 of type int\n\\begin{tabular}{llll}\n\t 1 & 5 & 1 & 5\\\\\n\t 2 & 6 & 2 & 6\\\\\n\t 3 & 7 & 3 & 7\\\\\n\t 4 & 8 & 4 & 8\\\\\n\\end{tabular}\n",
            "text/plain": [
              "     [,1] [,2] [,3] [,4]\n",
              "[1,] 1    5    1    5   \n",
              "[2,] 2    6    2    6   \n",
              "[3,] 3    7    3    7   \n",
              "[4,] 4    8    4    8   "
            ]
          },
          "metadata": {}
        }
      ]
    },
    {
      "cell_type": "code",
      "source": [
        "my_mat[2:4,2]"
      ],
      "metadata": {
        "colab": {
          "base_uri": "https://localhost:8080/",
          "height": 34
        },
        "id": "r0j8u4qDBHsV",
        "outputId": "efa24218-ac3c-44b5-abba-75428f89026d"
      },
      "execution_count": 23,
      "outputs": [
        {
          "output_type": "display_data",
          "data": {
            "text/html": [
              "<style>\n",
              ".list-inline {list-style: none; margin:0; padding: 0}\n",
              ".list-inline>li {display: inline-block}\n",
              ".list-inline>li:not(:last-child)::after {content: \"\\00b7\"; padding: 0 .5ex}\n",
              "</style>\n",
              "<ol class=list-inline><li>6</li><li>7</li><li>8</li></ol>\n"
            ],
            "text/markdown": "1. 6\n2. 7\n3. 8\n\n\n",
            "text/latex": "\\begin{enumerate*}\n\\item 6\n\\item 7\n\\item 8\n\\end{enumerate*}\n",
            "text/plain": [
              "[1] 6 7 8"
            ]
          },
          "metadata": {}
        }
      ]
    },
    {
      "cell_type": "code",
      "source": [
        "my_mat[1,]"
      ],
      "metadata": {
        "colab": {
          "base_uri": "https://localhost:8080/",
          "height": 34
        },
        "id": "i87swP36BYCz",
        "outputId": "3f47d2d2-cfb6-4e43-fe0d-4f8a0d19e0f8"
      },
      "execution_count": 24,
      "outputs": [
        {
          "output_type": "display_data",
          "data": {
            "text/html": [
              "<style>\n",
              ".list-inline {list-style: none; margin:0; padding: 0}\n",
              ".list-inline>li {display: inline-block}\n",
              ".list-inline>li:not(:last-child)::after {content: \"\\00b7\"; padding: 0 .5ex}\n",
              "</style>\n",
              "<ol class=list-inline><li>1</li><li>5</li><li>1</li><li>5</li></ol>\n"
            ],
            "text/markdown": "1. 1\n2. 5\n3. 1\n4. 5\n\n\n",
            "text/latex": "\\begin{enumerate*}\n\\item 1\n\\item 5\n\\item 1\n\\item 5\n\\end{enumerate*}\n",
            "text/plain": [
              "[1] 1 5 1 5"
            ]
          },
          "metadata": {}
        }
      ]
    },
    {
      "cell_type": "code",
      "source": [
        "my_mat[,1]"
      ],
      "metadata": {
        "colab": {
          "base_uri": "https://localhost:8080/",
          "height": 34
        },
        "id": "nfBciwGFBWRh",
        "outputId": "414af763-4e5a-43fd-d037-9fca0d82cfbd"
      },
      "execution_count": 25,
      "outputs": [
        {
          "output_type": "display_data",
          "data": {
            "text/html": [
              "<style>\n",
              ".list-inline {list-style: none; margin:0; padding: 0}\n",
              ".list-inline>li {display: inline-block}\n",
              ".list-inline>li:not(:last-child)::after {content: \"\\00b7\"; padding: 0 .5ex}\n",
              "</style>\n",
              "<ol class=list-inline><li>1</li><li>2</li><li>3</li><li>4</li></ol>\n"
            ],
            "text/markdown": "1. 1\n2. 2\n3. 3\n4. 4\n\n\n",
            "text/latex": "\\begin{enumerate*}\n\\item 1\n\\item 2\n\\item 3\n\\item 4\n\\end{enumerate*}\n",
            "text/plain": [
              "[1] 1 2 3 4"
            ]
          },
          "metadata": {}
        }
      ]
    },
    {
      "cell_type": "code",
      "source": [
        "my_mat[,1] <- c(100,100,100,100)"
      ],
      "metadata": {
        "id": "a2Hiuu1AEDXp"
      },
      "execution_count": 26,
      "outputs": []
    },
    {
      "cell_type": "code",
      "source": [
        "my_mat"
      ],
      "metadata": {
        "colab": {
          "base_uri": "https://localhost:8080/",
          "height": 177
        },
        "id": "3v9yn--8ENAP",
        "outputId": "b75708d2-a204-46ce-b0a4-f0fa61a3c393"
      },
      "execution_count": 29,
      "outputs": [
        {
          "output_type": "display_data",
          "data": {
            "text/html": [
              "<table class=\"dataframe\">\n",
              "<caption>A matrix: 4 × 4 of type dbl</caption>\n",
              "<tbody>\n",
              "\t<tr><td>250</td><td>5</td><td>1</td><td>5</td></tr>\n",
              "\t<tr><td>100</td><td>6</td><td>2</td><td>6</td></tr>\n",
              "\t<tr><td>100</td><td>7</td><td>3</td><td>7</td></tr>\n",
              "\t<tr><td>100</td><td>8</td><td>4</td><td>8</td></tr>\n",
              "</tbody>\n",
              "</table>\n"
            ],
            "text/markdown": "\nA matrix: 4 × 4 of type dbl\n\n| 250 | 5 | 1 | 5 |\n| 100 | 6 | 2 | 6 |\n| 100 | 7 | 3 | 7 |\n| 100 | 8 | 4 | 8 |\n\n",
            "text/latex": "A matrix: 4 × 4 of type dbl\n\\begin{tabular}{llll}\n\t 250 & 5 & 1 & 5\\\\\n\t 100 & 6 & 2 & 6\\\\\n\t 100 & 7 & 3 & 7\\\\\n\t 100 & 8 & 4 & 8\\\\\n\\end{tabular}\n",
            "text/plain": [
              "     [,1] [,2] [,3] [,4]\n",
              "[1,] 250  5    1    5   \n",
              "[2,] 100  6    2    6   \n",
              "[3,] 100  7    3    7   \n",
              "[4,] 100  8    4    8   "
            ]
          },
          "metadata": {}
        }
      ]
    },
    {
      "cell_type": "code",
      "source": [
        "my_mat[1,1] <-250"
      ],
      "metadata": {
        "id": "ZCKZImW_ENvn"
      },
      "execution_count": 28,
      "outputs": []
    },
    {
      "cell_type": "code",
      "source": [
        "my_mat[1:2,] <-array(data=c(1000,1000,1000,1000,1000,1000,1000,1000),dim=c(2,4))"
      ],
      "metadata": {
        "id": "oMg8SY-cEmSs"
      },
      "execution_count": 31,
      "outputs": []
    },
    {
      "cell_type": "code",
      "source": [
        "my_mat"
      ],
      "metadata": {
        "colab": {
          "base_uri": "https://localhost:8080/",
          "height": 160
        },
        "id": "LVFw9x0RFGAB",
        "outputId": "d8801c93-1700-4720-d70d-fdaa7a899dab"
      },
      "execution_count": 32,
      "outputs": [
        {
          "output_type": "display_data",
          "data": {
            "text/html": [
              "<table class=\"dataframe\">\n",
              "<caption>A matrix: 4 × 4 of type dbl</caption>\n",
              "<tbody>\n",
              "\t<tr><td>1000</td><td>1000</td><td>1000</td><td>1000</td></tr>\n",
              "\t<tr><td>1000</td><td>1000</td><td>1000</td><td>1000</td></tr>\n",
              "\t<tr><td> 100</td><td>   7</td><td>   3</td><td>   7</td></tr>\n",
              "\t<tr><td> 100</td><td>   8</td><td>   4</td><td>   8</td></tr>\n",
              "</tbody>\n",
              "</table>\n"
            ],
            "text/markdown": "\nA matrix: 4 × 4 of type dbl\n\n| 1000 | 1000 | 1000 | 1000 |\n| 1000 | 1000 | 1000 | 1000 |\n|  100 |    7 |    3 |    7 |\n|  100 |    8 |    4 |    8 |\n\n",
            "text/latex": "A matrix: 4 × 4 of type dbl\n\\begin{tabular}{llll}\n\t 1000 & 1000 & 1000 & 1000\\\\\n\t 1000 & 1000 & 1000 & 1000\\\\\n\t  100 &    7 &    3 &    7\\\\\n\t  100 &    8 &    4 &    8\\\\\n\\end{tabular}\n",
            "text/plain": [
              "     [,1] [,2] [,3] [,4]\n",
              "[1,] 1000 1000 1000 1000\n",
              "[2,] 1000 1000 1000 1000\n",
              "[3,]  100    7    3    7\n",
              "[4,]  100    8    4    8"
            ]
          },
          "metadata": {}
        }
      ]
    },
    {
      "cell_type": "code",
      "source": [
        "#Combining two arrays/matrices\n",
        "arr1=array(data=1:4,dim=c(2,2))\n",
        "arr2=array(data=10:14,dim=c(2,2))"
      ],
      "metadata": {
        "id": "QCPGeHdlFG40"
      },
      "execution_count": 33,
      "outputs": []
    },
    {
      "cell_type": "code",
      "source": [
        "arr1"
      ],
      "metadata": {
        "colab": {
          "base_uri": "https://localhost:8080/",
          "height": 166
        },
        "id": "nlVGpevzFoBp",
        "outputId": "3e17661c-263f-4ddf-8278-8e861b90efc9"
      },
      "execution_count": 37,
      "outputs": [
        {
          "output_type": "display_data",
          "data": {
            "text/html": [
              "<table class=\"dataframe\">\n",
              "<caption>A matrix: 2 × 2 of type int</caption>\n",
              "<tbody>\n",
              "\t<tr><td>1</td><td>3</td></tr>\n",
              "\t<tr><td>2</td><td>4</td></tr>\n",
              "</tbody>\n",
              "</table>\n"
            ],
            "text/markdown": "\nA matrix: 2 × 2 of type int\n\n| 1 | 3 |\n| 2 | 4 |\n\n",
            "text/latex": "A matrix: 2 × 2 of type int\n\\begin{tabular}{ll}\n\t 1 & 3\\\\\n\t 2 & 4\\\\\n\\end{tabular}\n",
            "text/plain": [
              "     [,1] [,2]\n",
              "[1,] 1    3   \n",
              "[2,] 2    4   "
            ]
          },
          "metadata": {}
        }
      ]
    },
    {
      "cell_type": "code",
      "source": [
        "arr2"
      ],
      "metadata": {
        "colab": {
          "base_uri": "https://localhost:8080/",
          "height": 132
        },
        "id": "nUJuwnhRFopA",
        "outputId": "6d88dc06-2b42-4cfe-823a-e309f1f1f0a1"
      },
      "execution_count": 38,
      "outputs": [
        {
          "output_type": "display_data",
          "data": {
            "text/html": [
              "<table class=\"dataframe\">\n",
              "<caption>A matrix: 2 × 2 of type int</caption>\n",
              "<tbody>\n",
              "\t<tr><td>10</td><td>12</td></tr>\n",
              "\t<tr><td>11</td><td>13</td></tr>\n",
              "</tbody>\n",
              "</table>\n"
            ],
            "text/markdown": "\nA matrix: 2 × 2 of type int\n\n| 10 | 12 |\n| 11 | 13 |\n\n",
            "text/latex": "A matrix: 2 × 2 of type int\n\\begin{tabular}{ll}\n\t 10 & 12\\\\\n\t 11 & 13\\\\\n\\end{tabular}\n",
            "text/plain": [
              "     [,1] [,2]\n",
              "[1,] 10   12  \n",
              "[2,] 11   13  "
            ]
          },
          "metadata": {}
        }
      ]
    },
    {
      "cell_type": "code",
      "source": [
        "#Rows are combined\n",
        "arr3=rbind(arr1,arr2)"
      ],
      "metadata": {
        "id": "PVtIP9xOFpUY"
      },
      "execution_count": 39,
      "outputs": []
    },
    {
      "cell_type": "code",
      "source": [
        "arr3"
      ],
      "metadata": {
        "colab": {
          "base_uri": "https://localhost:8080/",
          "height": 194
        },
        "id": "eekDpkCBGIEJ",
        "outputId": "06c5fd35-26fc-47a2-c6ab-5f4d7ff126b9"
      },
      "execution_count": 40,
      "outputs": [
        {
          "output_type": "display_data",
          "data": {
            "text/html": [
              "<table class=\"dataframe\">\n",
              "<caption>A matrix: 4 × 2 of type int</caption>\n",
              "<tbody>\n",
              "\t<tr><td> 1</td><td> 3</td></tr>\n",
              "\t<tr><td> 2</td><td> 4</td></tr>\n",
              "\t<tr><td>10</td><td>12</td></tr>\n",
              "\t<tr><td>11</td><td>13</td></tr>\n",
              "</tbody>\n",
              "</table>\n"
            ],
            "text/markdown": "\nA matrix: 4 × 2 of type int\n\n|  1 |  3 |\n|  2 |  4 |\n| 10 | 12 |\n| 11 | 13 |\n\n",
            "text/latex": "A matrix: 4 × 2 of type int\n\\begin{tabular}{ll}\n\t  1 &  3\\\\\n\t  2 &  4\\\\\n\t 10 & 12\\\\\n\t 11 & 13\\\\\n\\end{tabular}\n",
            "text/plain": [
              "     [,1] [,2]\n",
              "[1,]  1    3  \n",
              "[2,]  2    4  \n",
              "[3,] 10   12  \n",
              "[4,] 11   13  "
            ]
          },
          "metadata": {}
        }
      ]
    },
    {
      "cell_type": "code",
      "source": [
        "#Columns are combined"
      ],
      "metadata": {
        "id": "hZgiaRHpGP1B"
      },
      "execution_count": null,
      "outputs": []
    },
    {
      "cell_type": "code",
      "source": [
        "cbind(arr1,arr2)"
      ],
      "metadata": {
        "colab": {
          "base_uri": "https://localhost:8080/",
          "height": 114
        },
        "id": "prSl_jViGUrD",
        "outputId": "b1d3b96b-0344-4b5f-cf75-9edd91e2ad3f"
      },
      "execution_count": 41,
      "outputs": [
        {
          "output_type": "display_data",
          "data": {
            "text/html": [
              "<table class=\"dataframe\">\n",
              "<caption>A matrix: 2 × 4 of type int</caption>\n",
              "<tbody>\n",
              "\t<tr><td>1</td><td>3</td><td>10</td><td>12</td></tr>\n",
              "\t<tr><td>2</td><td>4</td><td>11</td><td>13</td></tr>\n",
              "</tbody>\n",
              "</table>\n"
            ],
            "text/markdown": "\nA matrix: 2 × 4 of type int\n\n| 1 | 3 | 10 | 12 |\n| 2 | 4 | 11 | 13 |\n\n",
            "text/latex": "A matrix: 2 × 4 of type int\n\\begin{tabular}{llll}\n\t 1 & 3 & 10 & 12\\\\\n\t 2 & 4 & 11 & 13\\\\\n\\end{tabular}\n",
            "text/plain": [
              "     [,1] [,2] [,3] [,4]\n",
              "[1,] 1    3    10   12  \n",
              "[2,] 2    4    11   13  "
            ]
          },
          "metadata": {}
        }
      ]
    },
    {
      "cell_type": "code",
      "source": [
        "#Error in rbind\n",
        "arr1=array(data=1:4,dim=c(2,2))\n",
        "arr2=array(data=10:14,dim=c(2,3))"
      ],
      "metadata": {
        "id": "c0HHiimwGe3M"
      },
      "execution_count": 42,
      "outputs": []
    },
    {
      "cell_type": "code",
      "source": [
        "rbind(arr1,arr2) # No. of columns should be same"
      ],
      "metadata": {
        "colab": {
          "base_uri": "https://localhost:8080/",
          "height": 135
        },
        "id": "Q7qJIYZhGxhz",
        "outputId": "89d527c6-3aba-4642-a3b8-a0b64bc04d28"
      },
      "execution_count": 43,
      "outputs": [
        {
          "output_type": "error",
          "ename": "ERROR",
          "evalue": "ignored",
          "traceback": [
            "Error in rbind(arr1, arr2): number of columns of matrices must match (see arg 2)\nTraceback:\n",
            "1. rbind(arr1, arr2)"
          ]
        }
      ]
    },
    {
      "cell_type": "code",
      "source": [
        "cbind(arr1,arr2)"
      ],
      "metadata": {
        "colab": {
          "base_uri": "https://localhost:8080/",
          "height": 114
        },
        "id": "byOG7hH-GzXE",
        "outputId": "7218512f-146e-4efb-f897-547978c25315"
      },
      "execution_count": 44,
      "outputs": [
        {
          "output_type": "display_data",
          "data": {
            "text/html": [
              "<table class=\"dataframe\">\n",
              "<caption>A matrix: 2 × 5 of type int</caption>\n",
              "<tbody>\n",
              "\t<tr><td>1</td><td>3</td><td>10</td><td>12</td><td>14</td></tr>\n",
              "\t<tr><td>2</td><td>4</td><td>11</td><td>13</td><td>10</td></tr>\n",
              "</tbody>\n",
              "</table>\n"
            ],
            "text/markdown": "\nA matrix: 2 × 5 of type int\n\n| 1 | 3 | 10 | 12 | 14 |\n| 2 | 4 | 11 | 13 | 10 |\n\n",
            "text/latex": "A matrix: 2 × 5 of type int\n\\begin{tabular}{lllll}\n\t 1 & 3 & 10 & 12 & 14\\\\\n\t 2 & 4 & 11 & 13 & 10\\\\\n\\end{tabular}\n",
            "text/plain": [
              "     [,1] [,2] [,3] [,4] [,5]\n",
              "[1,] 1    3    10   12   14  \n",
              "[2,] 2    4    11   13   10  "
            ]
          },
          "metadata": {}
        }
      ]
    },
    {
      "cell_type": "code",
      "source": [
        "#Error in cbind\n",
        "arr1=array(data=1:4,dim=c(2,2))\n",
        "arr2=array(data=10:14,dim=c(3,3))"
      ],
      "metadata": {
        "id": "wpwKWWWGHSEI"
      },
      "execution_count": 45,
      "outputs": []
    },
    {
      "cell_type": "code",
      "source": [
        "cbind(arr1,arr2) # No.of rows should be same "
      ],
      "metadata": {
        "colab": {
          "base_uri": "https://localhost:8080/",
          "height": 135
        },
        "id": "ds20m0YZHb3S",
        "outputId": "9eb4686a-255e-4d0c-8944-08db02d07a6a"
      },
      "execution_count": 46,
      "outputs": [
        {
          "output_type": "error",
          "ename": "ERROR",
          "evalue": "ignored",
          "traceback": [
            "Error in cbind(arr1, arr2): number of rows of matrices must match (see arg 2)\nTraceback:\n",
            "1. cbind(arr1, arr2)"
          ]
        }
      ]
    },
    {
      "cell_type": "code",
      "source": [
        "#Matrix Operations\n",
        "mat1 <- matrix(1:4,nrow=2,ncol=2)    #2x2\n",
        "mat2 <- matrix(200:205,nrow=2,ncol=3)   #2x3"
      ],
      "metadata": {
        "id": "RbDBKTBHHeFP"
      },
      "execution_count": 47,
      "outputs": []
    },
    {
      "cell_type": "code",
      "source": [
        "mat1*mat2"
      ],
      "metadata": {
        "colab": {
          "base_uri": "https://localhost:8080/",
          "height": 98
        },
        "id": "qyrmszfCIHtl",
        "outputId": "4ab7af81-713f-45e6-f78d-00174872c046"
      },
      "execution_count": 48,
      "outputs": [
        {
          "output_type": "error",
          "ename": "ERROR",
          "evalue": "ignored",
          "traceback": [
            "Error in mat1 * mat2: non-conformable arrays\nTraceback:\n"
          ]
        }
      ]
    },
    {
      "cell_type": "code",
      "source": [
        "#Matrix Operations\n",
        "mat1 <- matrix(1:4,nrow=2,ncol=2)    #2x2\n",
        "mat2 <- matrix(201:204,nrow=2,ncol=2)   #2x2"
      ],
      "metadata": {
        "id": "4DlIL5f7ILY4"
      },
      "execution_count": 51,
      "outputs": []
    },
    {
      "cell_type": "code",
      "source": [
        "mat1"
      ],
      "metadata": {
        "colab": {
          "base_uri": "https://localhost:8080/",
          "height": 166
        },
        "id": "aCKPHaxhIqo6",
        "outputId": "a4ee50be-bd58-424a-9a99-27040f0594b4"
      },
      "execution_count": 52,
      "outputs": [
        {
          "output_type": "display_data",
          "data": {
            "text/html": [
              "<table class=\"dataframe\">\n",
              "<caption>A matrix: 2 × 2 of type int</caption>\n",
              "<tbody>\n",
              "\t<tr><td>1</td><td>3</td></tr>\n",
              "\t<tr><td>2</td><td>4</td></tr>\n",
              "</tbody>\n",
              "</table>\n"
            ],
            "text/markdown": "\nA matrix: 2 × 2 of type int\n\n| 1 | 3 |\n| 2 | 4 |\n\n",
            "text/latex": "A matrix: 2 × 2 of type int\n\\begin{tabular}{ll}\n\t 1 & 3\\\\\n\t 2 & 4\\\\\n\\end{tabular}\n",
            "text/plain": [
              "     [,1] [,2]\n",
              "[1,] 1    3   \n",
              "[2,] 2    4   "
            ]
          },
          "metadata": {}
        }
      ]
    },
    {
      "cell_type": "code",
      "source": [
        "mat2"
      ],
      "metadata": {
        "colab": {
          "base_uri": "https://localhost:8080/",
          "height": 132
        },
        "id": "IuBkf-8pIrk2",
        "outputId": "2988fd31-622e-4fa2-9f17-385122828ad0"
      },
      "execution_count": 53,
      "outputs": [
        {
          "output_type": "display_data",
          "data": {
            "text/html": [
              "<table class=\"dataframe\">\n",
              "<caption>A matrix: 2 × 2 of type int</caption>\n",
              "<tbody>\n",
              "\t<tr><td>201</td><td>203</td></tr>\n",
              "\t<tr><td>202</td><td>204</td></tr>\n",
              "</tbody>\n",
              "</table>\n"
            ],
            "text/markdown": "\nA matrix: 2 × 2 of type int\n\n| 201 | 203 |\n| 202 | 204 |\n\n",
            "text/latex": "A matrix: 2 × 2 of type int\n\\begin{tabular}{ll}\n\t 201 & 203\\\\\n\t 202 & 204\\\\\n\\end{tabular}\n",
            "text/plain": [
              "     [,1] [,2]\n",
              "[1,] 201  203 \n",
              "[2,] 202  204 "
            ]
          },
          "metadata": {}
        }
      ]
    },
    {
      "cell_type": "code",
      "source": [
        "mat1 + mat2 # element wise addition"
      ],
      "metadata": {
        "colab": {
          "base_uri": "https://localhost:8080/",
          "height": 132
        },
        "id": "1stOr-GiIsGP",
        "outputId": "4fb4cd2d-c327-4bc1-fa31-db5b6590ccfb"
      },
      "execution_count": 54,
      "outputs": [
        {
          "output_type": "display_data",
          "data": {
            "text/html": [
              "<table class=\"dataframe\">\n",
              "<caption>A matrix: 2 × 2 of type int</caption>\n",
              "<tbody>\n",
              "\t<tr><td>202</td><td>206</td></tr>\n",
              "\t<tr><td>204</td><td>208</td></tr>\n",
              "</tbody>\n",
              "</table>\n"
            ],
            "text/markdown": "\nA matrix: 2 × 2 of type int\n\n| 202 | 206 |\n| 204 | 208 |\n\n",
            "text/latex": "A matrix: 2 × 2 of type int\n\\begin{tabular}{ll}\n\t 202 & 206\\\\\n\t 204 & 208\\\\\n\\end{tabular}\n",
            "text/plain": [
              "     [,1] [,2]\n",
              "[1,] 202  206 \n",
              "[2,] 204  208 "
            ]
          },
          "metadata": {}
        }
      ]
    },
    {
      "cell_type": "code",
      "source": [
        "mat1*mat2 #element wise mulitplied"
      ],
      "metadata": {
        "colab": {
          "base_uri": "https://localhost:8080/",
          "height": 132
        },
        "id": "Can41d55IxTq",
        "outputId": "6bf91958-4395-47e7-f264-82bcb25f4e46"
      },
      "execution_count": 55,
      "outputs": [
        {
          "output_type": "display_data",
          "data": {
            "text/html": [
              "<table class=\"dataframe\">\n",
              "<caption>A matrix: 2 × 2 of type int</caption>\n",
              "<tbody>\n",
              "\t<tr><td>201</td><td>609</td></tr>\n",
              "\t<tr><td>404</td><td>816</td></tr>\n",
              "</tbody>\n",
              "</table>\n"
            ],
            "text/markdown": "\nA matrix: 2 × 2 of type int\n\n| 201 | 609 |\n| 404 | 816 |\n\n",
            "text/latex": "A matrix: 2 × 2 of type int\n\\begin{tabular}{ll}\n\t 201 & 609\\\\\n\t 404 & 816\\\\\n\\end{tabular}\n",
            "text/plain": [
              "     [,1] [,2]\n",
              "[1,] 201  609 \n",
              "[2,] 404  816 "
            ]
          },
          "metadata": {}
        }
      ]
    },
    {
      "cell_type": "code",
      "source": [
        "mat1 %*% mat2"
      ],
      "metadata": {
        "colab": {
          "base_uri": "https://localhost:8080/",
          "height": 114
        },
        "id": "nZ4CY_GcJpyU",
        "outputId": "296df8d6-7c13-4cf6-979a-38ff8119f2b4"
      },
      "execution_count": 56,
      "outputs": [
        {
          "output_type": "display_data",
          "data": {
            "text/html": [
              "<table class=\"dataframe\">\n",
              "<caption>A matrix: 2 × 2 of type dbl</caption>\n",
              "<tbody>\n",
              "\t<tr><td> 807</td><td> 815</td></tr>\n",
              "\t<tr><td>1210</td><td>1222</td></tr>\n",
              "</tbody>\n",
              "</table>\n"
            ],
            "text/markdown": "\nA matrix: 2 × 2 of type dbl\n\n|  807 |  815 |\n| 1210 | 1222 |\n\n",
            "text/latex": "A matrix: 2 × 2 of type dbl\n\\begin{tabular}{ll}\n\t  807 &  815\\\\\n\t 1210 & 1222\\\\\n\\end{tabular}\n",
            "text/plain": [
              "     [,1] [,2]\n",
              "[1,]  807  815\n",
              "[2,] 1210 1222"
            ]
          },
          "metadata": {}
        }
      ]
    },
    {
      "cell_type": "markdown",
      "source": [
        "Factors"
      ],
      "metadata": {
        "id": "NDA0fyGBKQaE"
      }
    },
    {
      "cell_type": "code",
      "source": [
        "labels=c('Asia','Oceania','Antarctica','Europe','Africa','Europe','North America','South America','Africa')"
      ],
      "metadata": {
        "id": "XNThYDVfKCB7"
      },
      "execution_count": 57,
      "outputs": []
    },
    {
      "cell_type": "code",
      "source": [
        "is.factor(labels)"
      ],
      "metadata": {
        "id": "2SdByrrJMyAE"
      },
      "execution_count": null,
      "outputs": []
    },
    {
      "cell_type": "code",
      "source": [
        "typeof(labels)"
      ],
      "metadata": {
        "colab": {
          "base_uri": "https://localhost:8080/",
          "height": 34
        },
        "id": "JaUM-vRdNODn",
        "outputId": "22101dfd-bf4d-402a-aa98-0090da6de14b"
      },
      "execution_count": 62,
      "outputs": [
        {
          "output_type": "display_data",
          "data": {
            "text/html": [
              "'character'"
            ],
            "text/markdown": "'character'",
            "text/latex": "'character'",
            "text/plain": [
              "[1] \"character\""
            ]
          },
          "metadata": {}
        }
      ]
    },
    {
      "cell_type": "code",
      "source": [
        "factor_labels <- factor(labels)"
      ],
      "metadata": {
        "id": "qbnIv7eTM05b"
      },
      "execution_count": 60,
      "outputs": []
    },
    {
      "cell_type": "code",
      "source": [
        "is.factor(factor_labels)"
      ],
      "metadata": {
        "colab": {
          "base_uri": "https://localhost:8080/",
          "height": 34
        },
        "id": "IhQlHjOCNCnz",
        "outputId": "9990fc4e-d045-4a73-fe74-1c4a89fa0e03"
      },
      "execution_count": 61,
      "outputs": [
        {
          "output_type": "display_data",
          "data": {
            "text/html": [
              "TRUE"
            ],
            "text/markdown": "TRUE",
            "text/latex": "TRUE",
            "text/plain": [
              "[1] TRUE"
            ]
          },
          "metadata": {}
        }
      ]
    },
    {
      "cell_type": "code",
      "source": [
        "typeof(factor_labels)"
      ],
      "metadata": {
        "colab": {
          "base_uri": "https://localhost:8080/",
          "height": 34
        },
        "id": "zgnIdkckNJPb",
        "outputId": "fa973959-d63c-43db-aec1-23e5f5af7b68"
      },
      "execution_count": 63,
      "outputs": [
        {
          "output_type": "display_data",
          "data": {
            "text/html": [
              "'integer'"
            ],
            "text/markdown": "'integer'",
            "text/latex": "'integer'",
            "text/plain": [
              "[1] \"integer\""
            ]
          },
          "metadata": {}
        }
      ]
    },
    {
      "cell_type": "code",
      "source": [
        "as.integer(factor_labels)"
      ],
      "metadata": {
        "colab": {
          "base_uri": "https://localhost:8080/",
          "height": 34
        },
        "id": "mu-ohlA4NX3p",
        "outputId": "8e205ce8-ad6c-4fe0-a720-9f939d2a8b09"
      },
      "execution_count": 64,
      "outputs": [
        {
          "output_type": "display_data",
          "data": {
            "text/html": [
              "<style>\n",
              ".list-inline {list-style: none; margin:0; padding: 0}\n",
              ".list-inline>li {display: inline-block}\n",
              ".list-inline>li:not(:last-child)::after {content: \"\\00b7\"; padding: 0 .5ex}\n",
              "</style>\n",
              "<ol class=list-inline><li>3</li><li>6</li><li>2</li><li>4</li><li>1</li><li>4</li><li>5</li><li>7</li><li>1</li></ol>\n"
            ],
            "text/markdown": "1. 3\n2. 6\n3. 2\n4. 4\n5. 1\n6. 4\n7. 5\n8. 7\n9. 1\n\n\n",
            "text/latex": "\\begin{enumerate*}\n\\item 3\n\\item 6\n\\item 2\n\\item 4\n\\item 1\n\\item 4\n\\item 5\n\\item 7\n\\item 1\n\\end{enumerate*}\n",
            "text/plain": [
              "[1] 3 6 2 4 1 4 5 7 1"
            ]
          },
          "metadata": {}
        }
      ]
    },
    {
      "cell_type": "code",
      "source": [
        "factor_labels"
      ],
      "metadata": {
        "colab": {
          "base_uri": "https://localhost:8080/",
          "height": 69
        },
        "id": "lfI4A8nkO82A",
        "outputId": "3bf3e352-16ff-428e-f6ad-256a5f60e824"
      },
      "execution_count": 71,
      "outputs": [
        {
          "output_type": "display_data",
          "data": {
            "text/html": [
              "<style>\n",
              ".list-inline {list-style: none; margin:0; padding: 0}\n",
              ".list-inline>li {display: inline-block}\n",
              ".list-inline>li:not(:last-child)::after {content: \"\\00b7\"; padding: 0 .5ex}\n",
              "</style>\n",
              "<ol class=list-inline><li>Asia</li><li>Oceania</li><li>Antarctica</li><li>Europe</li><li>Africa</li><li>Europe</li><li>North America</li><li>South America</li><li>Africa</li></ol>\n",
              "\n",
              "<details>\n",
              "\t<summary style=display:list-item;cursor:pointer>\n",
              "\t\t<strong>Levels</strong>:\n",
              "\t</summary>\n",
              "\t<style>\n",
              "\t.list-inline {list-style: none; margin:0; padding: 0}\n",
              "\t.list-inline>li {display: inline-block}\n",
              "\t.list-inline>li:not(:last-child)::after {content: \"\\00b7\"; padding: 0 .5ex}\n",
              "\t</style>\n",
              "\t<ol class=list-inline><li>'Africa'</li><li>'Antarctica'</li><li>'Asia'</li><li>'Europe'</li><li>'North America'</li><li>'Oceania'</li><li>'South America'</li></ol>\n",
              "</details>"
            ],
            "text/markdown": "1. Asia\n2. Oceania\n3. Antarctica\n4. Europe\n5. Africa\n6. Europe\n7. North America\n8. South America\n9. Africa\n\n\n\n**Levels**: 1. 'Africa'\n2. 'Antarctica'\n3. 'Asia'\n4. 'Europe'\n5. 'North America'\n6. 'Oceania'\n7. 'South America'\n\n\n",
            "text/latex": "\\begin{enumerate*}\n\\item Asia\n\\item Oceania\n\\item Antarctica\n\\item Europe\n\\item Africa\n\\item Europe\n\\item North America\n\\item South America\n\\item Africa\n\\end{enumerate*}\n\n\\emph{Levels}: \\begin{enumerate*}\n\\item 'Africa'\n\\item 'Antarctica'\n\\item 'Asia'\n\\item 'Europe'\n\\item 'North America'\n\\item 'Oceania'\n\\item 'South America'\n\\end{enumerate*}\n",
            "text/plain": [
              "[1] Asia          Oceania       Antarctica    Europe        Africa       \n",
              "[6] Europe        North America South America Africa       \n",
              "7 Levels: Africa Antarctica Asia Europe North America ... South America"
            ]
          },
          "metadata": {}
        }
      ]
    },
    {
      "cell_type": "code",
      "source": [
        "nlevels(factor_labels)"
      ],
      "metadata": {
        "colab": {
          "base_uri": "https://localhost:8080/",
          "height": 34
        },
        "id": "5CQ-ZKljNaUv",
        "outputId": "f14a7eb1-d116-49af-e0c5-386f4c161fbc"
      },
      "execution_count": 65,
      "outputs": [
        {
          "output_type": "display_data",
          "data": {
            "text/html": [
              "7"
            ],
            "text/markdown": "7",
            "text/latex": "7",
            "text/plain": [
              "[1] 7"
            ]
          },
          "metadata": {}
        }
      ]
    },
    {
      "cell_type": "code",
      "source": [
        "altitude_levels=c('High',\"Low\",\"Medium\",\"Low\",\"High\",\"Low\")"
      ],
      "metadata": {
        "id": "-sQqUwu8NzKb"
      },
      "execution_count": 66,
      "outputs": []
    },
    {
      "cell_type": "code",
      "source": [
        "altitude_factors=factor(altitude_levels)"
      ],
      "metadata": {
        "id": "iVZ-ql3QOK8j"
      },
      "execution_count": 67,
      "outputs": []
    },
    {
      "cell_type": "code",
      "source": [
        "as.integer(altitude_factors)"
      ],
      "metadata": {
        "colab": {
          "base_uri": "https://localhost:8080/",
          "height": 34
        },
        "id": "0C7pL5bWORDd",
        "outputId": "c308951f-b701-454b-fe3f-5731cd9f4c73"
      },
      "execution_count": 68,
      "outputs": [
        {
          "output_type": "display_data",
          "data": {
            "text/html": [
              "<style>\n",
              ".list-inline {list-style: none; margin:0; padding: 0}\n",
              ".list-inline>li {display: inline-block}\n",
              ".list-inline>li:not(:last-child)::after {content: \"\\00b7\"; padding: 0 .5ex}\n",
              "</style>\n",
              "<ol class=list-inline><li>1</li><li>2</li><li>3</li><li>2</li><li>1</li><li>2</li></ol>\n"
            ],
            "text/markdown": "1. 1\n2. 2\n3. 3\n4. 2\n5. 1\n6. 2\n\n\n",
            "text/latex": "\\begin{enumerate*}\n\\item 1\n\\item 2\n\\item 3\n\\item 2\n\\item 1\n\\item 2\n\\end{enumerate*}\n",
            "text/plain": [
              "[1] 1 2 3 2 1 2"
            ]
          },
          "metadata": {}
        }
      ]
    },
    {
      "cell_type": "code",
      "source": [
        "altitude_factors=factor(altitude_levels,order=TRUE,levels=c(\"Low\",\"Medium\",\"High\"))"
      ],
      "metadata": {
        "id": "Iwocr1z3Oele"
      },
      "execution_count": 69,
      "outputs": []
    },
    {
      "cell_type": "code",
      "source": [
        "altitude_factors"
      ],
      "metadata": {
        "colab": {
          "base_uri": "https://localhost:8080/",
          "height": 69
        },
        "id": "SuVprmFCO15z",
        "outputId": "0f354c49-165f-42ce-bf43-ba233a41bccf"
      },
      "execution_count": 70,
      "outputs": [
        {
          "output_type": "display_data",
          "data": {
            "text/html": [
              "<style>\n",
              ".list-inline {list-style: none; margin:0; padding: 0}\n",
              ".list-inline>li {display: inline-block}\n",
              ".list-inline>li:not(:last-child)::after {content: \"\\00b7\"; padding: 0 .5ex}\n",
              "</style>\n",
              "<ol class=list-inline><li>High</li><li>Low</li><li>Medium</li><li>Low</li><li>High</li><li>Low</li></ol>\n",
              "\n",
              "<details>\n",
              "\t<summary style=display:list-item;cursor:pointer>\n",
              "\t\t<strong>Levels</strong>:\n",
              "\t</summary>\n",
              "\t<style>\n",
              "\t.list-inline {list-style: none; margin:0; padding: 0}\n",
              "\t.list-inline>li {display: inline-block}\n",
              "\t.list-inline>li:not(:last-child)::after {content: \"\\00b7\"; padding: 0 .5ex}\n",
              "\t</style>\n",
              "\t<ol class=list-inline><li>'Low'</li><li>'Medium'</li><li>'High'</li></ol>\n",
              "</details>"
            ],
            "text/markdown": "1. High\n2. Low\n3. Medium\n4. Low\n5. High\n6. Low\n\n\n\n**Levels**: 1. 'Low'\n2. 'Medium'\n3. 'High'\n\n\n",
            "text/latex": "\\begin{enumerate*}\n\\item High\n\\item Low\n\\item Medium\n\\item Low\n\\item High\n\\item Low\n\\end{enumerate*}\n\n\\emph{Levels}: \\begin{enumerate*}\n\\item 'Low'\n\\item 'Medium'\n\\item 'High'\n\\end{enumerate*}\n",
            "text/plain": [
              "[1] High   Low    Medium Low    High   Low   \n",
              "Levels: Low < Medium < High"
            ]
          },
          "metadata": {}
        }
      ]
    },
    {
      "cell_type": "code",
      "source": [
        "as.integer(altitude_factors)"
      ],
      "metadata": {
        "colab": {
          "base_uri": "https://localhost:8080/",
          "height": 34
        },
        "id": "s5pxcGoNO3T8",
        "outputId": "5073c331-10f9-45b3-d50a-14db05801aee"
      },
      "execution_count": 72,
      "outputs": [
        {
          "output_type": "display_data",
          "data": {
            "text/html": [
              "<style>\n",
              ".list-inline {list-style: none; margin:0; padding: 0}\n",
              ".list-inline>li {display: inline-block}\n",
              ".list-inline>li:not(:last-child)::after {content: \"\\00b7\"; padding: 0 .5ex}\n",
              "</style>\n",
              "<ol class=list-inline><li>3</li><li>1</li><li>2</li><li>1</li><li>3</li><li>1</li></ol>\n"
            ],
            "text/markdown": "1. 3\n2. 1\n3. 2\n4. 1\n5. 3\n6. 1\n\n\n",
            "text/latex": "\\begin{enumerate*}\n\\item 3\n\\item 1\n\\item 2\n\\item 1\n\\item 3\n\\item 1\n\\end{enumerate*}\n",
            "text/plain": [
              "[1] 3 1 2 1 3 1"
            ]
          },
          "metadata": {}
        }
      ]
    },
    {
      "cell_type": "code",
      "source": [
        ""
      ],
      "metadata": {
        "id": "on3_VS2xPG8h"
      },
      "execution_count": null,
      "outputs": []
    },
    {
      "cell_type": "markdown",
      "source": [
        ""
      ],
      "metadata": {
        "id": "7Vb46TUmPQvd"
      }
    }
  ]
}