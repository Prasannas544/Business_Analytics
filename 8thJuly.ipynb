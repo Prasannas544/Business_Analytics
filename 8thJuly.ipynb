{
  "nbformat": 4,
  "nbformat_minor": 0,
  "metadata": {
    "colab": {
      "name": "8thJuly.ipynb",
      "provenance": [],
      "authorship_tag": "ABX9TyMKbHTY+Eb++pbqyQ5Ev0En",
      "include_colab_link": true
    },
    "kernelspec": {
      "name": "ir",
      "display_name": "R"
    },
    "language_info": {
      "name": "R"
    }
  },
  "cells": [
    {
      "cell_type": "markdown",
      "metadata": {
        "id": "view-in-github",
        "colab_type": "text"
      },
      "source": [
        "<a href=\"https://colab.research.google.com/github/Prasannas544/Business_Analytics/blob/main/8thJuly.ipynb\" target=\"_parent\"><img src=\"https://colab.research.google.com/assets/colab-badge.svg\" alt=\"Open In Colab\"/></a>"
      ]
    },
    {
      "cell_type": "code",
      "execution_count": 5,
      "metadata": {
        "id": "kywX_lGWcjmd"
      },
      "outputs": [],
      "source": [
        "melons=c(10,20,30,40,67)"
      ]
    },
    {
      "cell_type": "code",
      "source": [
        "sum(melons)"
      ],
      "metadata": {
        "colab": {
          "base_uri": "https://localhost:8080/",
          "height": 34
        },
        "id": "XLuZt1hvdVA6",
        "outputId": "571012d1-c350-4198-c20d-b15562fb6d08"
      },
      "execution_count": 2,
      "outputs": [
        {
          "output_type": "display_data",
          "data": {
            "text/html": [
              "100"
            ],
            "text/markdown": "100",
            "text/latex": "100",
            "text/plain": [
              "[1] 100"
            ]
          },
          "metadata": {}
        }
      ]
    },
    {
      "cell_type": "code",
      "source": [
        "#Sum of all elements\n",
        "sum=0\n",
        "\n",
        "for(elem in melons){\n",
        "  sum = sum+elem\n",
        "}\n",
        "print(sum)"
      ],
      "metadata": {
        "colab": {
          "base_uri": "https://localhost:8080/"
        },
        "id": "8cZfvunjdYRF",
        "outputId": "f3c13891-f721-41fc-d130-70a4a164290c"
      },
      "execution_count": 6,
      "outputs": [
        {
          "output_type": "stream",
          "name": "stdout",
          "text": [
            "[1] 167\n"
          ]
        }
      ]
    },
    {
      "cell_type": "code",
      "source": [
        "# Count all the elements in vector / find vector size using loop\n",
        "abc =c(10,20,4,30,50,40,65,88,91,93)\n",
        "\n",
        "count=0\n",
        "\n",
        "for(ele in abc){\n",
        "  count = count+1;\n",
        "}\n",
        "\n",
        "print(count)"
      ],
      "metadata": {
        "colab": {
          "base_uri": "https://localhost:8080/"
        },
        "id": "LxuaLyrIe-i7",
        "outputId": "d0703da9-84f3-4382-c050-4a976525c2d6"
      },
      "execution_count": 8,
      "outputs": [
        {
          "output_type": "stream",
          "name": "stdout",
          "text": [
            "[1] 10\n"
          ]
        }
      ]
    },
    {
      "cell_type": "code",
      "source": [
        "#Break \n",
        "fruits<-c(\"apple\",\"banana\",\"cherry\",\"Coconut\",\"mango\")\n",
        "\n",
        "for(x in fruits){\n",
        "\n",
        "if(x==\"cherry\"){\n",
        "  break\n",
        "}\n",
        "\n",
        "print(x) #work\n",
        "\n",
        "}\n",
        "\n",
        "print(\"out of loop\")"
      ],
      "metadata": {
        "colab": {
          "base_uri": "https://localhost:8080/"
        },
        "id": "q5EiWm09hSfS",
        "outputId": "e21c1700-0dd6-4db4-d6ee-ce9f0d3563b6"
      },
      "execution_count": 11,
      "outputs": [
        {
          "output_type": "stream",
          "name": "stdout",
          "text": [
            "[1] \"apple\"\n",
            "[1] \"banana\"\n",
            "[1] \"out of loop\"\n"
          ]
        }
      ]
    },
    {
      "cell_type": "code",
      "source": [
        "#Next statement  \n",
        "fruits<-c(\"apple\",\"banana\",\"cherry\",\"Coconut\",\"mango\")\n",
        "\n",
        "for(x in fruits){\n",
        "\n",
        "if(x ==\"cherry\"){\n",
        "  next\n",
        "} \n",
        "print(x)       # work\n",
        "}\n",
        "print(\"Outta loop\")\n"
      ],
      "metadata": {
        "colab": {
          "base_uri": "https://localhost:8080/"
        },
        "id": "vDPam9iXkgv1",
        "outputId": "a90052d1-096e-4962-ca9b-19846645b2dd"
      },
      "execution_count": 16,
      "outputs": [
        {
          "output_type": "stream",
          "name": "stdout",
          "text": [
            "[1] \"Outta loop\"\n"
          ]
        }
      ]
    },
    {
      "cell_type": "markdown",
      "source": [
        "While Loop"
      ],
      "metadata": {
        "id": "R_kTwUX7nOIU"
      }
    },
    {
      "cell_type": "code",
      "source": [
        "i = 1 #intialization\n",
        "\n",
        "while(i<6){\n",
        "\n",
        "print(i) #work\n",
        "\n",
        "i = i+1;  #Updation \n",
        "\n",
        "}\n",
        "\n",
        "print(\"Outta loop\")\n",
        "print(i) \n"
      ],
      "metadata": {
        "id": "mYmBBX0nnUQr"
      },
      "execution_count": null,
      "outputs": []
    },
    {
      "cell_type": "code",
      "source": [
        "begin <- 1      # create a variable with value 1 / intialization\n",
        "\n",
        "while(begin <= 10){     #creat the loop\n",
        "\n",
        "print(paste('This is loop number : ',begin))\n",
        "\n",
        "begin <-begin + 1         #Updation\n",
        "\n",
        "}\n",
        "\n",
        "\n",
        "print(paste('Value of variable after loop ends : ',begin))"
      ],
      "metadata": {
        "id": "5Pu21ScbqY8c"
      },
      "execution_count": null,
      "outputs": []
    },
    {
      "cell_type": "code",
      "source": [
        "#Break statement \n",
        "i<-1\n",
        "\n",
        "while(i<=6){\n",
        "\n",
        "  print(i)\n",
        "\n",
        "  if(i==4){\n",
        "    break\n",
        "  }\n",
        "\n",
        "  i=i+1\n",
        "}"
      ],
      "metadata": {
        "id": "Xwsg9EPorOyV"
      },
      "execution_count": null,
      "outputs": []
    },
    {
      "cell_type": "code",
      "source": [
        "# next statement \n",
        "i<-1 \n",
        "while(i<=6){\n",
        "\n",
        "\n",
        "\n",
        "if(i==4) {\n",
        "  i=i+1 \n",
        "  next\n",
        "}\n",
        "  \n",
        "print(i)\n",
        "\n",
        "\n",
        "i=i+1 \n",
        "\n",
        "}"
      ],
      "metadata": {
        "id": "lHr80iDgrfD9"
      },
      "execution_count": null,
      "outputs": []
    },
    {
      "cell_type": "code",
      "source": [
        "# nested  loops\n",
        "for(i in 1:3 ){\n",
        "for(j in 1:4){\n",
        "print(paste(\"i =\",i,\"j =\",j))\n",
        "\n",
        "}\n",
        "\n",
        "print(\"i - iteration ends\")\n",
        "}\n"
      ],
      "metadata": {
        "colab": {
          "base_uri": "https://localhost:8080/"
        },
        "id": "esQ7CqeovJOZ",
        "outputId": "708bb3ce-8b2e-43f2-fc20-48af69d20992"
      },
      "execution_count": 37,
      "outputs": [
        {
          "output_type": "stream",
          "name": "stdout",
          "text": [
            "[1] \"i = 1 j = 1\"\n",
            "[1] \"i = 1 j = 2\"\n",
            "[1] \"i = 1 j = 3\"\n",
            "[1] \"i = 1 j = 4\"\n",
            "[1] \"i - iteration ends\"\n",
            "[1] \"i = 2 j = 1\"\n",
            "[1] \"i = 2 j = 2\"\n",
            "[1] \"i = 2 j = 3\"\n",
            "[1] \"i = 2 j = 4\"\n",
            "[1] \"i - iteration ends\"\n",
            "[1] \"i = 3 j = 1\"\n",
            "[1] \"i = 3 j = 2\"\n",
            "[1] \"i = 3 j = 3\"\n",
            "[1] \"i = 3 j = 4\"\n",
            "[1] \"i - iteration ends\"\n"
          ]
        }
      ]
    },
    {
      "cell_type": "code",
      "source": [
        "for(i in 1:4){\n",
        "  for(j in 1:4){\n",
        "    cat((\"*\"))\n",
        "  }\n",
        "  print(\"\")\n",
        "}"
      ],
      "metadata": {
        "colab": {
          "base_uri": "https://localhost:8080/"
        },
        "id": "fqM4fiw6yRAp",
        "outputId": "0564658e-b0d4-4c3b-e547-d5594623ee98"
      },
      "execution_count": 52,
      "outputs": [
        {
          "output_type": "stream",
          "name": "stdout",
          "text": [
            "****[1] \"\"\n",
            "****[1] \"\"\n",
            "****[1] \"\"\n",
            "****[1] \"\"\n"
          ]
        }
      ]
    }
  ]
}