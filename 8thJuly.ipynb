{
  "nbformat": 4,
  "nbformat_minor": 0,
  "metadata": {
    "colab": {
      "name": "8thJuly.ipynb",
      "provenance": [],
      "authorship_tag": "ABX9TyOCGs6MmpeXJ+iu9ZqvFh3b",
      "include_colab_link": true
    },
    "kernelspec": {
      "name": "ir",
      "display_name": "R"
    },
    "language_info": {
      "name": "R"
    }
  },
  "cells": [
    {
      "cell_type": "markdown",
      "metadata": {
        "id": "view-in-github",
        "colab_type": "text"
      },
      "source": [
        "<a href=\"https://colab.research.google.com/github/Prasannas544/Business_Analytics/blob/main/8thJuly.ipynb\" target=\"_parent\"><img src=\"https://colab.research.google.com/assets/colab-badge.svg\" alt=\"Open In Colab\"/></a>"
      ]
    },
    {
      "cell_type": "code",
      "execution_count": 5,
      "metadata": {
        "id": "kywX_lGWcjmd"
      },
      "outputs": [],
      "source": [
        "melons=c(10,20,30,40,67)"
      ]
    },
    {
      "cell_type": "code",
      "source": [
        "sum(melons)"
      ],
      "metadata": {
        "colab": {
          "base_uri": "https://localhost:8080/",
          "height": 34
        },
        "id": "XLuZt1hvdVA6",
        "outputId": "571012d1-c350-4198-c20d-b15562fb6d08"
      },
      "execution_count": 2,
      "outputs": [
        {
          "output_type": "display_data",
          "data": {
            "text/html": [
              "100"
            ],
            "text/markdown": "100",
            "text/latex": "100",
            "text/plain": [
              "[1] 100"
            ]
          },
          "metadata": {}
        }
      ]
    },
    {
      "cell_type": "code",
      "source": [
        "#Sum of all elements\n",
        "sum=0\n",
        "\n",
        "for(elem in melons){\n",
        "  sum = sum+elem\n",
        "}\n",
        "print(sum)"
      ],
      "metadata": {
        "colab": {
          "base_uri": "https://localhost:8080/"
        },
        "id": "8cZfvunjdYRF",
        "outputId": "f3c13891-f721-41fc-d130-70a4a164290c"
      },
      "execution_count": 6,
      "outputs": [
        {
          "output_type": "stream",
          "name": "stdout",
          "text": [
            "[1] 167\n"
          ]
        }
      ]
    },
    {
      "cell_type": "code",
      "source": [
        "# Count all the elements in vector / find vector size using loop\n",
        "abc =c(10,20,4,30,50,40,65,88,91,93)\n",
        "\n",
        "count=0\n",
        "\n",
        "for(ele in abc){\n",
        "  count = count+1;\n",
        "}\n",
        "\n",
        "print(count)"
      ],
      "metadata": {
        "colab": {
          "base_uri": "https://localhost:8080/"
        },
        "id": "LxuaLyrIe-i7",
        "outputId": "d0703da9-84f3-4382-c050-4a976525c2d6"
      },
      "execution_count": 8,
      "outputs": [
        {
          "output_type": "stream",
          "name": "stdout",
          "text": [
            "[1] 10\n"
          ]
        }
      ]
    },
    {
      "cell_type": "code",
      "source": [
        "#Break \n",
        "fruits<-c(\"apple\",\"banana\",\"cherry\",\"Coconut\",\"mango\")\n",
        "\n",
        "for(x in fruits){\n",
        "\n",
        "if(x==\"cherry\"){\n",
        "  break\n",
        "}\n",
        "\n",
        "print(x) #work\n",
        "\n",
        "}\n",
        "\n",
        "print(\"out of loop\")"
      ],
      "metadata": {
        "colab": {
          "base_uri": "https://localhost:8080/"
        },
        "id": "q5EiWm09hSfS",
        "outputId": "e21c1700-0dd6-4db4-d6ee-ce9f0d3563b6"
      },
      "execution_count": 11,
      "outputs": [
        {
          "output_type": "stream",
          "name": "stdout",
          "text": [
            "[1] \"apple\"\n",
            "[1] \"banana\"\n",
            "[1] \"out of loop\"\n"
          ]
        }
      ]
    },
    {
      "cell_type": "code",
      "source": [
        "#Next statement"
      ],
      "metadata": {
        "id": "vDPam9iXkgv1"
      },
      "execution_count": null,
      "outputs": []
    }
  ]
}