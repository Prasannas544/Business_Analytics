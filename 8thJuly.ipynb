{
  "nbformat": 4,
  "nbformat_minor": 0,
  "metadata": {
    "colab": {
      "name": "8thJuly.ipynb",
      "provenance": [],
      "authorship_tag": "ABX9TyNSWLGcN0njLmA1Tn955636",
      "include_colab_link": true
    },
    "kernelspec": {
      "name": "ir",
      "display_name": "R"
    },
    "language_info": {
      "name": "R"
    }
  },
  "cells": [
    {
      "cell_type": "markdown",
      "metadata": {
        "id": "view-in-github",
        "colab_type": "text"
      },
      "source": [
        "<a href=\"https://colab.research.google.com/github/Prasannas544/Business_Analytics/blob/main/8thJuly.ipynb\" target=\"_parent\"><img src=\"https://colab.research.google.com/assets/colab-badge.svg\" alt=\"Open In Colab\"/></a>"
      ]
    },
    {
      "cell_type": "code",
      "execution_count": 5,
      "metadata": {
        "id": "kywX_lGWcjmd"
      },
      "outputs": [],
      "source": [
        "melons=c(10,20,30,40,67)"
      ]
    },
    {
      "cell_type": "code",
      "source": [
        "sum(melons)"
      ],
      "metadata": {
        "colab": {
          "base_uri": "https://localhost:8080/",
          "height": 34
        },
        "id": "XLuZt1hvdVA6",
        "outputId": "571012d1-c350-4198-c20d-b15562fb6d08"
      },
      "execution_count": 2,
      "outputs": [
        {
          "output_type": "display_data",
          "data": {
            "text/html": [
              "100"
            ],
            "text/markdown": "100",
            "text/latex": "100",
            "text/plain": [
              "[1] 100"
            ]
          },
          "metadata": {}
        }
      ]
    },
    {
      "cell_type": "code",
      "source": [
        "#Sum of all elements\n",
        "sum=0\n",
        "\n",
        "for(elem in melons){\n",
        "  sum = sum+elem\n",
        "}\n",
        "print(sum)"
      ],
      "metadata": {
        "colab": {
          "base_uri": "https://localhost:8080/"
        },
        "id": "8cZfvunjdYRF",
        "outputId": "f3c13891-f721-41fc-d130-70a4a164290c"
      },
      "execution_count": 6,
      "outputs": [
        {
          "output_type": "stream",
          "name": "stdout",
          "text": [
            "[1] 167\n"
          ]
        }
      ]
    },
    {
      "cell_type": "code",
      "source": [
        "# Count all the elements in vector / find vector size using loop\n",
        "abc =c(10,20,4,30,50,40,65,88,91,93)\n",
        "\n",
        "count=0\n",
        "\n",
        "for(ele in abc){\n",
        "  count = count+1;\n",
        "}\n",
        "\n",
        "print(count)"
      ],
      "metadata": {
        "colab": {
          "base_uri": "https://localhost:8080/"
        },
        "id": "LxuaLyrIe-i7",
        "outputId": "d0703da9-84f3-4382-c050-4a976525c2d6"
      },
      "execution_count": 8,
      "outputs": [
        {
          "output_type": "stream",
          "name": "stdout",
          "text": [
            "[1] 10\n"
          ]
        }
      ]
    },
    {
      "cell_type": "code",
      "source": [
        "#Break \n",
        "fruits<-c(\"apple\",\"banana\",\"cherry\",\"Coconut\",\"mango\")\n",
        "\n",
        "for(x in fruits){\n",
        "\n",
        "if(x==\"cherry\"){\n",
        "  break\n",
        "}\n",
        "\n",
        "print(x) #work\n",
        "\n",
        "}\n",
        "\n",
        "print(\"out of loop\")"
      ],
      "metadata": {
        "colab": {
          "base_uri": "https://localhost:8080/"
        },
        "id": "q5EiWm09hSfS",
        "outputId": "e21c1700-0dd6-4db4-d6ee-ce9f0d3563b6"
      },
      "execution_count": 11,
      "outputs": [
        {
          "output_type": "stream",
          "name": "stdout",
          "text": [
            "[1] \"apple\"\n",
            "[1] \"banana\"\n",
            "[1] \"out of loop\"\n"
          ]
        }
      ]
    },
    {
      "cell_type": "code",
      "source": [
        "#Next statement  \n",
        "fruits<-c(\"apple\",\"banana\",\"cherry\",\"Coconut\",\"mango\")\n",
        "\n",
        "for(x in fruits){\n",
        "\n",
        "if(x ==\"cherry\"){\n",
        "  next\n",
        "} \n",
        "print(x)       # work\n",
        "}\n",
        "print(\"Outta loop\")\n"
      ],
      "metadata": {
        "colab": {
          "base_uri": "https://localhost:8080/"
        },
        "id": "vDPam9iXkgv1",
        "outputId": "a90052d1-096e-4962-ca9b-19846645b2dd"
      },
      "execution_count": 16,
      "outputs": [
        {
          "output_type": "stream",
          "name": "stdout",
          "text": [
            "[1] \"Outta loop\"\n"
          ]
        }
      ]
    },
    {
      "cell_type": "markdown",
      "source": [
        "While Loop"
      ],
      "metadata": {
        "id": "R_kTwUX7nOIU"
      }
    },
    {
      "cell_type": "code",
      "source": [
        "i = 1 #intialization\n",
        "\n",
        "while(i<6){\n",
        "\n",
        "print(i) #work\n",
        "\n",
        "i = i+1;  #Updation \n",
        "\n",
        "}\n",
        "\n",
        "print(\"Outta loop\")\n",
        "print(i) \n"
      ],
      "metadata": {
        "colab": {
          "base_uri": "https://localhost:8080/"
        },
        "id": "mYmBBX0nnUQr",
        "outputId": "db639fc1-9874-46f8-ee6d-8e0123e4a002"
      },
      "execution_count": 23,
      "outputs": [
        {
          "output_type": "stream",
          "name": "stdout",
          "text": [
            "[1] 1\n",
            "[1] 2\n",
            "[1] 3\n",
            "[1] 4\n",
            "[1] 5\n",
            "[1] \"Outta loop\"\n",
            "[1] 6\n"
          ]
        }
      ]
    },
    {
      "cell_type": "code",
      "source": [
        "begin <- 1      # create a variable with value 1 / intialization\n",
        "\n",
        "while(begin <= 10){     #creat the loop\n",
        "\n",
        "print(paste('This is loop number : ',begin))\n",
        "\n",
        "begin <-begin + 1         #Updation\n",
        "\n",
        "}\n",
        "\n",
        "\n",
        "print(paste('Value of variable after loop ends : ',begin))"
      ],
      "metadata": {
        "colab": {
          "base_uri": "https://localhost:8080/"
        },
        "id": "5Pu21ScbqY8c",
        "outputId": "5723536a-47f6-4152-c79d-0ec9826331fb"
      },
      "execution_count": 26,
      "outputs": [
        {
          "output_type": "stream",
          "name": "stdout",
          "text": [
            "[1] \"This is loop number :  1\"\n",
            "[1] \"This is loop number :  2\"\n",
            "[1] \"This is loop number :  3\"\n",
            "[1] \"This is loop number :  4\"\n",
            "[1] \"This is loop number :  5\"\n",
            "[1] \"This is loop number :  6\"\n",
            "[1] \"This is loop number :  7\"\n",
            "[1] \"This is loop number :  8\"\n",
            "[1] \"This is loop number :  9\"\n",
            "[1] \"This is loop number :  10\"\n",
            "[1] \"Value of variable after loop ends :  11\"\n"
          ]
        }
      ]
    },
    {
      "cell_type": "code",
      "source": [
        "#Break statement \n",
        "i<-1\n",
        "\n",
        "while(i<=6){\n",
        "\n",
        "  print(i)\n",
        "\n",
        "  if(i==4){\n",
        "    break\n",
        "  }\n",
        "\n",
        "  i=i+1\n",
        "}"
      ],
      "metadata": {
        "colab": {
          "base_uri": "https://localhost:8080/"
        },
        "id": "Xwsg9EPorOyV",
        "outputId": "7f75fa26-17c9-40c5-cefe-7a39c0f2f007"
      },
      "execution_count": 35,
      "outputs": [
        {
          "output_type": "stream",
          "name": "stdout",
          "text": [
            "[1] 1\n",
            "[1] 2\n",
            "[1] 3\n",
            "[1] 4\n"
          ]
        }
      ]
    },
    {
      "cell_type": "code",
      "source": [
        "# next statement \n",
        "i<-1 \n",
        "while(i<=6){\n",
        "\n",
        "\n",
        "\n",
        "if(i==4) {\n",
        "  i=i+1 \n",
        "  next\n",
        "}\n",
        "  \n",
        "print(i)\n",
        "\n",
        "\n",
        "i=i+1 \n",
        "\n",
        "}"
      ],
      "metadata": {
        "colab": {
          "base_uri": "https://localhost:8080/"
        },
        "id": "lHr80iDgrfD9",
        "outputId": "843dc59a-0bc3-425a-e474-b0c0cc5737cd"
      },
      "execution_count": 33,
      "outputs": [
        {
          "output_type": "stream",
          "name": "stdout",
          "text": [
            "[1] 2\n",
            "[1] 3\n",
            "[1] 5\n",
            "[1] 6\n",
            "[1] 7\n"
          ]
        }
      ]
    }
  ]
}